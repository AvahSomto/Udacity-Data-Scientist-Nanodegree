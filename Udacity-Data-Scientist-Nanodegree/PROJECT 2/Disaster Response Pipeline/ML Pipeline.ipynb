{
 "cells": [
  {
   "cell_type": "markdown",
   "source": [
    "# ML Pipeline"
   ],
   "metadata": {
    "collapsed": false
   }
  },
  {
   "cell_type": "markdown",
   "source": [
    "### 1. Import libraries and load data from database."
   ],
   "metadata": {
    "collapsed": false
   }
  },
  {
   "cell_type": "code",
   "execution_count": 1,
   "outputs": [
    {
     "name": "stderr",
     "output_type": "stream",
     "text": [
      "[nltk_data] Downloading package punkt to C:\\Users\\Just\n",
      "[nltk_data]     Me\\AppData\\Roaming\\nltk_data...\n",
      "[nltk_data]   Package punkt is already up-to-date!\n",
      "[nltk_data] Downloading package wordnet to C:\\Users\\Just\n",
      "[nltk_data]     Me\\AppData\\Roaming\\nltk_data...\n",
      "[nltk_data]   Package wordnet is already up-to-date!\n"
     ]
    },
    {
     "data": {
      "text/plain": "True"
     },
     "execution_count": 1,
     "metadata": {},
     "output_type": "execute_result"
    }
   ],
   "source": [
    "# import libraries\n",
    "import pandas as pd\n",
    "import numpy as np\n",
    "import pickle\n",
    "import sqlite3\n",
    "import sqlalchemy\n",
    "from sqlalchemy import create_engine\n",
    "import matplotlib.pyplot as plt\n",
    "%matplotlib inline\n",
    "import nltk\n",
    "from nltk.tokenize import word_tokenize\n",
    "from nltk.stem import WordNetLemmatizer\n",
    "from sklearn.model_selection import GridSearchCV\n",
    "from sklearn.datasets import make_multilabel_classification\n",
    "from sklearn.multioutput import MultiOutputClassifier\n",
    "from sklearn.ensemble import RandomForestClassifier\n",
    "from sklearn.pipeline import Pipeline, FeatureUnion\n",
    "from sklearn.feature_extraction.text import CountVectorizer, TfidfTransformer\n",
    "from sklearn.model_selection import train_test_split\n",
    "from sklearn.metrics import classification_report\n",
    "\n",
    "\n",
    "nltk.download(['punkt', 'wordnet'])"
   ],
   "metadata": {
    "collapsed": false,
    "ExecuteTime": {
     "end_time": "2023-08-15T19:51:22.879538800Z",
     "start_time": "2023-08-15T19:51:14.099930600Z"
    }
   }
  },
  {
   "cell_type": "code",
   "execution_count": 2,
   "outputs": [],
   "source": [
    "# load data from database\n",
    "engine = create_engine('sqlite:///DisasterResponse.db')\n",
    "df = pd.read_sql_table(\"disaster_messages\", con=engine)"
   ],
   "metadata": {
    "collapsed": false,
    "ExecuteTime": {
     "end_time": "2023-08-15T19:51:39.036771400Z",
     "start_time": "2023-08-15T19:51:37.629796300Z"
    }
   }
  },
  {
   "cell_type": "code",
   "execution_count": 5,
   "outputs": [],
   "source": [
    "# Display df dataframe\n",
    "df = pd.read_sql(\"SELECT * from disaster_messages\",con=engine)"
   ],
   "metadata": {
    "collapsed": false,
    "ExecuteTime": {
     "end_time": "2023-08-15T19:53:02.806114300Z",
     "start_time": "2023-08-15T19:53:01.520918600Z"
    }
   }
  },
  {
   "cell_type": "code",
   "execution_count": 7,
   "outputs": [],
   "source": [
    "X = df['message']\n",
    "y = df.iloc[:, 4:]"
   ],
   "metadata": {
    "collapsed": false,
    "ExecuteTime": {
     "end_time": "2023-08-15T19:53:28.338326800Z",
     "start_time": "2023-08-15T19:53:28.328696700Z"
    }
   }
  },
  {
   "cell_type": "markdown",
   "source": [
    "### 2. Write a tokenization function to process your text data"
   ],
   "metadata": {
    "collapsed": false
   }
  },
  {
   "cell_type": "code",
   "execution_count": 8,
   "outputs": [],
   "source": [
    "# Tokenization function\n",
    "def tokenize(disaster_text):\n",
    "\n",
    "    \"\"\"\n",
    "    Function to tokenize text.\n",
    "    \"\"\"\n",
    "\n",
    "    tokens = word_tokenize(disaster_text)\n",
    "    lemmatizer = WordNetLemmatizer()\n",
    "\n",
    "    clean_tokens=[]\n",
    "    for tok in tokens:\n",
    "        clean_tok = lemmatizer.lemmatize(tok).lower().strip()\n",
    "        clean_tokens.append(clean_tok)\n",
    "\n",
    "    return clean_tokens"
   ],
   "metadata": {
    "collapsed": false,
    "ExecuteTime": {
     "end_time": "2023-08-15T19:56:48.327887500Z",
     "start_time": "2023-08-15T19:56:48.314923200Z"
    }
   }
  },
  {
   "cell_type": "markdown",
   "source": [
    "### 3. Build a machine learning pipeline"
   ],
   "metadata": {
    "collapsed": false
   }
  },
  {
   "cell_type": "code",
   "execution_count": 9,
   "outputs": [],
   "source": [
    "# Building an ML pipeline\n",
    "pipeline = Pipeline([\n",
    "    ('vect', CountVectorizer(tokenizer=tokenize)),\n",
    "    ('tfidf', TfidfTransformer()),\n",
    "    ('clf', MultiOutputClassifier(RandomForestClassifier()))\n",
    "])"
   ],
   "metadata": {
    "collapsed": false,
    "ExecuteTime": {
     "end_time": "2023-08-15T19:58:49.093436400Z",
     "start_time": "2023-08-15T19:58:49.084282100Z"
    }
   }
  },
  {
   "cell_type": "markdown",
   "source": [
    "### 4. Train pipeline"
   ],
   "metadata": {
    "collapsed": false
   }
  },
  {
   "cell_type": "code",
   "execution_count": 10,
   "outputs": [],
   "source": [
    "# Splitting data into train and test sets\n",
    "X_train, X_test, y_train, y_test = train_test_split(X,y)"
   ],
   "metadata": {
    "collapsed": false,
    "ExecuteTime": {
     "end_time": "2023-08-15T19:59:10.881119200Z",
     "start_time": "2023-08-15T19:59:10.847772600Z"
    }
   }
  },
  {
   "cell_type": "code",
   "execution_count": 11,
   "outputs": [
    {
     "name": "stderr",
     "output_type": "stream",
     "text": [
      "C:\\Users\\Just Me\\anaconda3\\lib\\site-packages\\sklearn\\feature_extraction\\text.py:528: UserWarning: The parameter 'token_pattern' will not be used since 'tokenizer' is not None'\n",
      "  warnings.warn(\n"
     ]
    },
    {
     "data": {
      "text/plain": "Pipeline(steps=[('vect',\n                 CountVectorizer(tokenizer=<function tokenize at 0x0000018C7EF748B0>)),\n                ('tfidf', TfidfTransformer()),\n                ('clf',\n                 MultiOutputClassifier(estimator=RandomForestClassifier()))])",
      "text/html": "<style>#sk-container-id-1 {color: black;background-color: white;}#sk-container-id-1 pre{padding: 0;}#sk-container-id-1 div.sk-toggleable {background-color: white;}#sk-container-id-1 label.sk-toggleable__label {cursor: pointer;display: block;width: 100%;margin-bottom: 0;padding: 0.3em;box-sizing: border-box;text-align: center;}#sk-container-id-1 label.sk-toggleable__label-arrow:before {content: \"▸\";float: left;margin-right: 0.25em;color: #696969;}#sk-container-id-1 label.sk-toggleable__label-arrow:hover:before {color: black;}#sk-container-id-1 div.sk-estimator:hover label.sk-toggleable__label-arrow:before {color: black;}#sk-container-id-1 div.sk-toggleable__content {max-height: 0;max-width: 0;overflow: hidden;text-align: left;background-color: #f0f8ff;}#sk-container-id-1 div.sk-toggleable__content pre {margin: 0.2em;color: black;border-radius: 0.25em;background-color: #f0f8ff;}#sk-container-id-1 input.sk-toggleable__control:checked~div.sk-toggleable__content {max-height: 200px;max-width: 100%;overflow: auto;}#sk-container-id-1 input.sk-toggleable__control:checked~label.sk-toggleable__label-arrow:before {content: \"▾\";}#sk-container-id-1 div.sk-estimator input.sk-toggleable__control:checked~label.sk-toggleable__label {background-color: #d4ebff;}#sk-container-id-1 div.sk-label input.sk-toggleable__control:checked~label.sk-toggleable__label {background-color: #d4ebff;}#sk-container-id-1 input.sk-hidden--visually {border: 0;clip: rect(1px 1px 1px 1px);clip: rect(1px, 1px, 1px, 1px);height: 1px;margin: -1px;overflow: hidden;padding: 0;position: absolute;width: 1px;}#sk-container-id-1 div.sk-estimator {font-family: monospace;background-color: #f0f8ff;border: 1px dotted black;border-radius: 0.25em;box-sizing: border-box;margin-bottom: 0.5em;}#sk-container-id-1 div.sk-estimator:hover {background-color: #d4ebff;}#sk-container-id-1 div.sk-parallel-item::after {content: \"\";width: 100%;border-bottom: 1px solid gray;flex-grow: 1;}#sk-container-id-1 div.sk-label:hover label.sk-toggleable__label {background-color: #d4ebff;}#sk-container-id-1 div.sk-serial::before {content: \"\";position: absolute;border-left: 1px solid gray;box-sizing: border-box;top: 0;bottom: 0;left: 50%;z-index: 0;}#sk-container-id-1 div.sk-serial {display: flex;flex-direction: column;align-items: center;background-color: white;padding-right: 0.2em;padding-left: 0.2em;position: relative;}#sk-container-id-1 div.sk-item {position: relative;z-index: 1;}#sk-container-id-1 div.sk-parallel {display: flex;align-items: stretch;justify-content: center;background-color: white;position: relative;}#sk-container-id-1 div.sk-item::before, #sk-container-id-1 div.sk-parallel-item::before {content: \"\";position: absolute;border-left: 1px solid gray;box-sizing: border-box;top: 0;bottom: 0;left: 50%;z-index: -1;}#sk-container-id-1 div.sk-parallel-item {display: flex;flex-direction: column;z-index: 1;position: relative;background-color: white;}#sk-container-id-1 div.sk-parallel-item:first-child::after {align-self: flex-end;width: 50%;}#sk-container-id-1 div.sk-parallel-item:last-child::after {align-self: flex-start;width: 50%;}#sk-container-id-1 div.sk-parallel-item:only-child::after {width: 0;}#sk-container-id-1 div.sk-dashed-wrapped {border: 1px dashed gray;margin: 0 0.4em 0.5em 0.4em;box-sizing: border-box;padding-bottom: 0.4em;background-color: white;}#sk-container-id-1 div.sk-label label {font-family: monospace;font-weight: bold;display: inline-block;line-height: 1.2em;}#sk-container-id-1 div.sk-label-container {text-align: center;}#sk-container-id-1 div.sk-container {/* jupyter's `normalize.less` sets `[hidden] { display: none; }` but bootstrap.min.css set `[hidden] { display: none !important; }` so we also need the `!important` here to be able to override the default hidden behavior on the sphinx rendered scikit-learn.org. See: https://github.com/scikit-learn/scikit-learn/issues/21755 */display: inline-block !important;position: relative;}#sk-container-id-1 div.sk-text-repr-fallback {display: none;}</style><div id=\"sk-container-id-1\" class=\"sk-top-container\"><div class=\"sk-text-repr-fallback\"><pre>Pipeline(steps=[(&#x27;vect&#x27;,\n                 CountVectorizer(tokenizer=&lt;function tokenize at 0x0000018C7EF748B0&gt;)),\n                (&#x27;tfidf&#x27;, TfidfTransformer()),\n                (&#x27;clf&#x27;,\n                 MultiOutputClassifier(estimator=RandomForestClassifier()))])</pre><b>In a Jupyter environment, please rerun this cell to show the HTML representation or trust the notebook. <br />On GitHub, the HTML representation is unable to render, please try loading this page with nbviewer.org.</b></div><div class=\"sk-container\" hidden><div class=\"sk-item sk-dashed-wrapped\"><div class=\"sk-label-container\"><div class=\"sk-label sk-toggleable\"><input class=\"sk-toggleable__control sk-hidden--visually\" id=\"sk-estimator-id-1\" type=\"checkbox\" ><label for=\"sk-estimator-id-1\" class=\"sk-toggleable__label sk-toggleable__label-arrow\">Pipeline</label><div class=\"sk-toggleable__content\"><pre>Pipeline(steps=[(&#x27;vect&#x27;,\n                 CountVectorizer(tokenizer=&lt;function tokenize at 0x0000018C7EF748B0&gt;)),\n                (&#x27;tfidf&#x27;, TfidfTransformer()),\n                (&#x27;clf&#x27;,\n                 MultiOutputClassifier(estimator=RandomForestClassifier()))])</pre></div></div></div><div class=\"sk-serial\"><div class=\"sk-item\"><div class=\"sk-estimator sk-toggleable\"><input class=\"sk-toggleable__control sk-hidden--visually\" id=\"sk-estimator-id-2\" type=\"checkbox\" ><label for=\"sk-estimator-id-2\" class=\"sk-toggleable__label sk-toggleable__label-arrow\">CountVectorizer</label><div class=\"sk-toggleable__content\"><pre>CountVectorizer(tokenizer=&lt;function tokenize at 0x0000018C7EF748B0&gt;)</pre></div></div></div><div class=\"sk-item\"><div class=\"sk-estimator sk-toggleable\"><input class=\"sk-toggleable__control sk-hidden--visually\" id=\"sk-estimator-id-3\" type=\"checkbox\" ><label for=\"sk-estimator-id-3\" class=\"sk-toggleable__label sk-toggleable__label-arrow\">TfidfTransformer</label><div class=\"sk-toggleable__content\"><pre>TfidfTransformer()</pre></div></div></div><div class=\"sk-item sk-dashed-wrapped\"><div class=\"sk-label-container\"><div class=\"sk-label sk-toggleable\"><input class=\"sk-toggleable__control sk-hidden--visually\" id=\"sk-estimator-id-4\" type=\"checkbox\" ><label for=\"sk-estimator-id-4\" class=\"sk-toggleable__label sk-toggleable__label-arrow\">clf: MultiOutputClassifier</label><div class=\"sk-toggleable__content\"><pre>MultiOutputClassifier(estimator=RandomForestClassifier())</pre></div></div></div><div class=\"sk-parallel\"><div class=\"sk-parallel-item\"><div class=\"sk-item\"><div class=\"sk-label-container\"><div class=\"sk-label sk-toggleable\"><input class=\"sk-toggleable__control sk-hidden--visually\" id=\"sk-estimator-id-5\" type=\"checkbox\" ><label for=\"sk-estimator-id-5\" class=\"sk-toggleable__label sk-toggleable__label-arrow\">estimator: RandomForestClassifier</label><div class=\"sk-toggleable__content\"><pre>RandomForestClassifier()</pre></div></div></div><div class=\"sk-serial\"><div class=\"sk-item\"><div class=\"sk-estimator sk-toggleable\"><input class=\"sk-toggleable__control sk-hidden--visually\" id=\"sk-estimator-id-6\" type=\"checkbox\" ><label for=\"sk-estimator-id-6\" class=\"sk-toggleable__label sk-toggleable__label-arrow\">RandomForestClassifier</label><div class=\"sk-toggleable__content\"><pre>RandomForestClassifier()</pre></div></div></div></div></div></div></div></div></div></div></div></div>"
     },
     "execution_count": 11,
     "metadata": {},
     "output_type": "execute_result"
    }
   ],
   "source": [
    "# Fit the pipeline\n",
    "pipeline.fit(X_train, y_train)"
   ],
   "metadata": {
    "collapsed": false,
    "ExecuteTime": {
     "end_time": "2023-08-15T20:25:52.666391500Z",
     "start_time": "2023-08-15T19:59:15.451048500Z"
    }
   }
  },
  {
   "cell_type": "markdown",
   "source": [
    "### 5. Test your model"
   ],
   "metadata": {
    "collapsed": false
   }
  },
  {
   "cell_type": "code",
   "execution_count": 12,
   "outputs": [],
   "source": [
    "# Make a prediction using the test set\n",
    "y_pred = pipeline.predict(X_test)"
   ],
   "metadata": {
    "collapsed": false,
    "ExecuteTime": {
     "end_time": "2023-08-15T20:26:24.345907900Z",
     "start_time": "2023-08-15T20:25:52.681831300Z"
    }
   }
  },
  {
   "cell_type": "code",
   "execution_count": 13,
   "outputs": [],
   "source": [
    "# Testing the model\n",
    "def test_model(y_test, y_pred):\n",
    "\n",
    "    \"\"\"\n",
    "    Function to iterate through columns and call sklearn classification report on each.\n",
    "    \"\"\"\n",
    "    for index, column in enumerate(y_test):\n",
    "        print(column, classification_report(y_test[column], y_pred[:, index]))"
   ],
   "metadata": {
    "collapsed": false,
    "ExecuteTime": {
     "end_time": "2023-08-15T20:26:24.394792100Z",
     "start_time": "2023-08-15T20:26:24.353138200Z"
    }
   }
  },
  {
   "cell_type": "code",
   "execution_count": 14,
   "outputs": [
    {
     "name": "stdout",
     "output_type": "stream",
     "text": [
      "('related',)               precision    recall  f1-score   support\n",
      "\n",
      "           0       0.74      0.27      0.39      1482\n",
      "           1       0.81      0.97      0.88      5019\n",
      "           2       0.83      0.09      0.17        53\n",
      "\n",
      "    accuracy                           0.81      6554\n",
      "   macro avg       0.80      0.44      0.48      6554\n",
      "weighted avg       0.80      0.81      0.77      6554\n",
      "\n",
      "('request',)               precision    recall  f1-score   support\n",
      "\n",
      "           0       0.89      0.99      0.94      5408\n",
      "           1       0.89      0.44      0.59      1146\n",
      "\n",
      "    accuracy                           0.89      6554\n",
      "   macro avg       0.89      0.71      0.76      6554\n",
      "weighted avg       0.89      0.89      0.88      6554\n",
      "\n",
      "('offer',)               precision    recall  f1-score   support\n",
      "\n",
      "           0       1.00      1.00      1.00      6525\n",
      "           1       0.00      0.00      0.00        29\n",
      "\n",
      "    accuracy                           1.00      6554\n",
      "   macro avg       0.50      0.50      0.50      6554\n",
      "weighted avg       0.99      1.00      0.99      6554\n",
      "\n",
      "('aid_related',)               precision    recall  f1-score   support\n",
      "\n",
      "           0       0.76      0.88      0.82      3850\n",
      "           1       0.79      0.61      0.69      2704\n",
      "\n",
      "    accuracy                           0.77      6554\n",
      "   macro avg       0.78      0.75      0.75      6554\n",
      "weighted avg       0.77      0.77      0.77      6554\n",
      "\n",
      "('medical_help',)               precision    recall  f1-score   support\n",
      "\n",
      "           0       0.93      1.00      0.96      6043\n",
      "           1       0.62      0.05      0.08       511\n",
      "\n",
      "    accuracy                           0.92      6554\n",
      "   macro avg       0.77      0.52      0.52      6554\n",
      "weighted avg       0.90      0.92      0.89      6554\n",
      "\n",
      "('medical_products',)               precision    recall  f1-score   support\n",
      "\n",
      "           0       0.95      1.00      0.97      6215\n",
      "           1       0.77      0.07      0.13       339\n",
      "\n",
      "    accuracy                           0.95      6554\n",
      "   macro avg       0.86      0.53      0.55      6554\n",
      "weighted avg       0.94      0.95      0.93      6554\n",
      "\n",
      "('search_and_rescue',)               precision    recall  f1-score   support\n",
      "\n",
      "           0       0.97      1.00      0.99      6367\n",
      "           1       0.56      0.03      0.05       187\n",
      "\n",
      "    accuracy                           0.97      6554\n",
      "   macro avg       0.76      0.51      0.52      6554\n",
      "weighted avg       0.96      0.97      0.96      6554\n",
      "\n",
      "('security',)               precision    recall  f1-score   support\n",
      "\n",
      "           0       0.98      1.00      0.99      6427\n",
      "           1       0.00      0.00      0.00       127\n",
      "\n",
      "    accuracy                           0.98      6554\n",
      "   macro avg       0.49      0.50      0.50      6554\n",
      "weighted avg       0.96      0.98      0.97      6554\n",
      "\n",
      "('military',)               precision    recall  f1-score   support\n",
      "\n",
      "           0       0.97      1.00      0.98      6334\n",
      "           1       0.50      0.03      0.06       220\n",
      "\n",
      "    accuracy                           0.97      6554\n",
      "   macro avg       0.73      0.52      0.52      6554\n",
      "weighted avg       0.95      0.97      0.95      6554\n",
      "\n",
      "('child_alone',)               precision    recall  f1-score   support\n",
      "\n",
      "           0       1.00      1.00      1.00      6554\n",
      "\n",
      "    accuracy                           1.00      6554\n",
      "   macro avg       1.00      1.00      1.00      6554\n",
      "weighted avg       1.00      1.00      1.00      6554\n",
      "\n",
      "('water',)               precision    recall  f1-score   support\n",
      "\n",
      "           0       0.95      1.00      0.97      6111\n",
      "           1       0.93      0.22      0.35       443\n",
      "\n",
      "    accuracy                           0.95      6554\n",
      "   macro avg       0.94      0.61      0.66      6554\n",
      "weighted avg       0.95      0.95      0.93      6554\n",
      "\n"
     ]
    },
    {
     "name": "stderr",
     "output_type": "stream",
     "text": [
      "C:\\Users\\Just Me\\anaconda3\\lib\\site-packages\\sklearn\\metrics\\_classification.py:1344: UndefinedMetricWarning: Precision and F-score are ill-defined and being set to 0.0 in labels with no predicted samples. Use `zero_division` parameter to control this behavior.\n",
      "  _warn_prf(average, modifier, msg_start, len(result))\n",
      "C:\\Users\\Just Me\\anaconda3\\lib\\site-packages\\sklearn\\metrics\\_classification.py:1344: UndefinedMetricWarning: Precision and F-score are ill-defined and being set to 0.0 in labels with no predicted samples. Use `zero_division` parameter to control this behavior.\n",
      "  _warn_prf(average, modifier, msg_start, len(result))\n",
      "C:\\Users\\Just Me\\anaconda3\\lib\\site-packages\\sklearn\\metrics\\_classification.py:1344: UndefinedMetricWarning: Precision and F-score are ill-defined and being set to 0.0 in labels with no predicted samples. Use `zero_division` parameter to control this behavior.\n",
      "  _warn_prf(average, modifier, msg_start, len(result))\n"
     ]
    },
    {
     "name": "stdout",
     "output_type": "stream",
     "text": [
      "('food',)               precision    recall  f1-score   support\n",
      "\n",
      "           0       0.93      0.99      0.96      5812\n",
      "           1       0.91      0.40      0.56       742\n",
      "\n",
      "    accuracy                           0.93      6554\n",
      "   macro avg       0.92      0.70      0.76      6554\n",
      "weighted avg       0.93      0.93      0.91      6554\n",
      "\n",
      "('shelter',)               precision    recall  f1-score   support\n",
      "\n",
      "           0       0.93      1.00      0.96      5983\n",
      "           1       0.91      0.21      0.34       571\n",
      "\n",
      "    accuracy                           0.93      6554\n",
      "   macro avg       0.92      0.60      0.65      6554\n",
      "weighted avg       0.93      0.93      0.91      6554\n",
      "\n",
      "('clothing',)               precision    recall  f1-score   support\n",
      "\n",
      "           0       0.99      1.00      0.99      6451\n",
      "           1       0.83      0.05      0.09       103\n",
      "\n",
      "    accuracy                           0.98      6554\n",
      "   macro avg       0.91      0.52      0.54      6554\n",
      "weighted avg       0.98      0.98      0.98      6554\n",
      "\n",
      "('money',)               precision    recall  f1-score   support\n",
      "\n",
      "           0       0.98      1.00      0.99      6402\n",
      "           1       0.88      0.05      0.09       152\n",
      "\n",
      "    accuracy                           0.98      6554\n",
      "   macro avg       0.93      0.52      0.54      6554\n",
      "weighted avg       0.98      0.98      0.97      6554\n",
      "\n",
      "('missing_people',)               precision    recall  f1-score   support\n",
      "\n",
      "           0       0.99      1.00      0.99      6471\n",
      "           1       1.00      0.01      0.02        83\n",
      "\n",
      "    accuracy                           0.99      6554\n",
      "   macro avg       0.99      0.51      0.51      6554\n",
      "weighted avg       0.99      0.99      0.98      6554\n",
      "\n",
      "('refugees',)               precision    recall  f1-score   support\n",
      "\n",
      "           0       0.97      1.00      0.98      6335\n",
      "           1       0.88      0.03      0.06       219\n",
      "\n",
      "    accuracy                           0.97      6554\n",
      "   macro avg       0.92      0.52      0.52      6554\n",
      "weighted avg       0.96      0.97      0.95      6554\n",
      "\n",
      "('death',)               precision    recall  f1-score   support\n",
      "\n",
      "           0       0.96      1.00      0.98      6239\n",
      "           1       0.82      0.13      0.22       315\n",
      "\n",
      "    accuracy                           0.96      6554\n",
      "   macro avg       0.89      0.56      0.60      6554\n",
      "weighted avg       0.95      0.96      0.94      6554\n",
      "\n",
      "('other_aid',)               precision    recall  f1-score   support\n",
      "\n",
      "           0       0.87      1.00      0.93      5716\n",
      "           1       0.68      0.02      0.03       838\n",
      "\n",
      "    accuracy                           0.87      6554\n",
      "   macro avg       0.78      0.51      0.48      6554\n",
      "weighted avg       0.85      0.87      0.82      6554\n",
      "\n",
      "('infrastructure_related',)               precision    recall  f1-score   support\n",
      "\n",
      "           0       0.94      1.00      0.97      6131\n",
      "           1       0.17      0.00      0.00       423\n",
      "\n",
      "    accuracy                           0.93      6554\n",
      "   macro avg       0.55      0.50      0.49      6554\n",
      "weighted avg       0.89      0.93      0.90      6554\n",
      "\n",
      "('transport',)               precision    recall  f1-score   support\n",
      "\n",
      "           0       0.96      1.00      0.98      6240\n",
      "           1       0.71      0.07      0.13       314\n",
      "\n",
      "    accuracy                           0.95      6554\n",
      "   macro avg       0.83      0.53      0.55      6554\n",
      "weighted avg       0.94      0.95      0.94      6554\n",
      "\n",
      "('buildings',)               precision    recall  f1-score   support\n",
      "\n",
      "           0       0.95      1.00      0.97      6195\n",
      "           1       0.79      0.06      0.11       359\n",
      "\n",
      "    accuracy                           0.95      6554\n",
      "   macro avg       0.87      0.53      0.54      6554\n",
      "weighted avg       0.94      0.95      0.93      6554\n",
      "\n",
      "('electricity',)               precision    recall  f1-score   support\n",
      "\n",
      "           0       0.98      1.00      0.99      6424\n",
      "           1       0.75      0.02      0.04       130\n",
      "\n",
      "    accuracy                           0.98      6554\n",
      "   macro avg       0.87      0.51      0.52      6554\n",
      "weighted avg       0.98      0.98      0.97      6554\n",
      "\n",
      "('tools',)               precision    recall  f1-score   support\n",
      "\n",
      "           0       0.99      1.00      1.00      6512\n",
      "           1       0.00      0.00      0.00        42\n",
      "\n",
      "    accuracy                           0.99      6554\n",
      "   macro avg       0.50      0.50      0.50      6554\n",
      "weighted avg       0.99      0.99      0.99      6554\n",
      "\n",
      "('hospitals',)               precision    recall  f1-score   support\n",
      "\n",
      "           0       0.99      1.00      1.00      6488\n",
      "           1       1.00      0.02      0.03        66\n",
      "\n",
      "    accuracy                           0.99      6554\n",
      "   macro avg       1.00      0.51      0.51      6554\n",
      "weighted avg       0.99      0.99      0.99      6554\n",
      "\n",
      "('shops',)               precision    recall  f1-score   support\n",
      "\n",
      "           0       0.99      1.00      1.00      6519\n",
      "           1       0.00      0.00      0.00        35\n",
      "\n",
      "    accuracy                           0.99      6554\n",
      "   macro avg       0.50      0.50      0.50      6554\n",
      "weighted avg       0.99      0.99      0.99      6554\n",
      "\n",
      "('aid_centers',)               precision    recall  f1-score   support\n",
      "\n",
      "           0       0.99      1.00      0.99      6486\n",
      "           1       0.00      0.00      0.00        68\n",
      "\n",
      "    accuracy                           0.99      6554\n",
      "   macro avg       0.49      0.50      0.50      6554\n",
      "weighted avg       0.98      0.99      0.98      6554\n",
      "\n",
      "('other_infrastructure',)               precision    recall  f1-score   support\n",
      "\n",
      "           0       0.95      1.00      0.98      6257\n",
      "           1       0.00      0.00      0.00       297\n",
      "\n",
      "    accuracy                           0.95      6554\n",
      "   macro avg       0.48      0.50      0.49      6554\n",
      "weighted avg       0.91      0.95      0.93      6554\n",
      "\n",
      "('weather_related',)               precision    recall  f1-score   support\n",
      "\n",
      "           0       0.87      0.97      0.91      4723\n",
      "           1       0.88      0.62      0.73      1831\n",
      "\n",
      "    accuracy                           0.87      6554\n",
      "   macro avg       0.87      0.79      0.82      6554\n",
      "weighted avg       0.87      0.87      0.86      6554\n",
      "\n",
      "('floods',)               precision    recall  f1-score   support\n",
      "\n",
      "           0       0.94      1.00      0.97      6008\n",
      "           1       0.94      0.36      0.52       546\n",
      "\n",
      "    accuracy                           0.94      6554\n",
      "   macro avg       0.94      0.68      0.75      6554\n",
      "weighted avg       0.94      0.94      0.93      6554\n",
      "\n",
      "('storm',)               precision    recall  f1-score   support\n",
      "\n",
      "           0       0.94      0.99      0.97      5947\n",
      "           1       0.79      0.43      0.55       607\n",
      "\n",
      "    accuracy                           0.94      6554\n",
      "   macro avg       0.87      0.71      0.76      6554\n",
      "weighted avg       0.93      0.94      0.93      6554\n",
      "\n",
      "('fire',)               precision    recall  f1-score   support\n",
      "\n",
      "           0       0.99      1.00      0.99      6486\n",
      "           1       1.00      0.01      0.03        68\n",
      "\n",
      "    accuracy                           0.99      6554\n",
      "   macro avg       0.99      0.51      0.51      6554\n",
      "weighted avg       0.99      0.99      0.98      6554\n",
      "\n",
      "('earthquake',)               precision    recall  f1-score   support\n",
      "\n",
      "           0       0.98      0.99      0.98      5919\n",
      "           1       0.92      0.77      0.84       635\n",
      "\n",
      "    accuracy                           0.97      6554\n",
      "   macro avg       0.95      0.88      0.91      6554\n",
      "weighted avg       0.97      0.97      0.97      6554\n",
      "\n",
      "('cold',)               precision    recall  f1-score   support\n",
      "\n",
      "           0       0.98      1.00      0.99      6421\n",
      "           1       0.91      0.08      0.14       133\n",
      "\n",
      "    accuracy                           0.98      6554\n",
      "   macro avg       0.95      0.54      0.56      6554\n",
      "weighted avg       0.98      0.98      0.97      6554\n",
      "\n",
      "('other_weather',)               precision    recall  f1-score   support\n",
      "\n",
      "           0       0.95      1.00      0.97      6229\n",
      "           1       0.83      0.02      0.03       325\n",
      "\n",
      "    accuracy                           0.95      6554\n",
      "   macro avg       0.89      0.51      0.50      6554\n",
      "weighted avg       0.95      0.95      0.93      6554\n",
      "\n",
      "('direct_report',)               precision    recall  f1-score   support\n",
      "\n",
      "           0       0.86      0.99      0.92      5251\n",
      "           1       0.87      0.35      0.50      1303\n",
      "\n",
      "    accuracy                           0.86      6554\n",
      "   macro avg       0.87      0.67      0.71      6554\n",
      "weighted avg       0.86      0.86      0.84      6554\n",
      "\n"
     ]
    },
    {
     "name": "stderr",
     "output_type": "stream",
     "text": [
      "C:\\Users\\Just Me\\anaconda3\\lib\\site-packages\\sklearn\\metrics\\_classification.py:1344: UndefinedMetricWarning: Precision and F-score are ill-defined and being set to 0.0 in labels with no predicted samples. Use `zero_division` parameter to control this behavior.\n",
      "  _warn_prf(average, modifier, msg_start, len(result))\n",
      "C:\\Users\\Just Me\\anaconda3\\lib\\site-packages\\sklearn\\metrics\\_classification.py:1344: UndefinedMetricWarning: Precision and F-score are ill-defined and being set to 0.0 in labels with no predicted samples. Use `zero_division` parameter to control this behavior.\n",
      "  _warn_prf(average, modifier, msg_start, len(result))\n",
      "C:\\Users\\Just Me\\anaconda3\\lib\\site-packages\\sklearn\\metrics\\_classification.py:1344: UndefinedMetricWarning: Precision and F-score are ill-defined and being set to 0.0 in labels with no predicted samples. Use `zero_division` parameter to control this behavior.\n",
      "  _warn_prf(average, modifier, msg_start, len(result))\n",
      "C:\\Users\\Just Me\\anaconda3\\lib\\site-packages\\sklearn\\metrics\\_classification.py:1344: UndefinedMetricWarning: Precision and F-score are ill-defined and being set to 0.0 in labels with no predicted samples. Use `zero_division` parameter to control this behavior.\n",
      "  _warn_prf(average, modifier, msg_start, len(result))\n",
      "C:\\Users\\Just Me\\anaconda3\\lib\\site-packages\\sklearn\\metrics\\_classification.py:1344: UndefinedMetricWarning: Precision and F-score are ill-defined and being set to 0.0 in labels with no predicted samples. Use `zero_division` parameter to control this behavior.\n",
      "  _warn_prf(average, modifier, msg_start, len(result))\n",
      "C:\\Users\\Just Me\\anaconda3\\lib\\site-packages\\sklearn\\metrics\\_classification.py:1344: UndefinedMetricWarning: Precision and F-score are ill-defined and being set to 0.0 in labels with no predicted samples. Use `zero_division` parameter to control this behavior.\n",
      "  _warn_prf(average, modifier, msg_start, len(result))\n",
      "C:\\Users\\Just Me\\anaconda3\\lib\\site-packages\\sklearn\\metrics\\_classification.py:1344: UndefinedMetricWarning: Precision and F-score are ill-defined and being set to 0.0 in labels with no predicted samples. Use `zero_division` parameter to control this behavior.\n",
      "  _warn_prf(average, modifier, msg_start, len(result))\n",
      "C:\\Users\\Just Me\\anaconda3\\lib\\site-packages\\sklearn\\metrics\\_classification.py:1344: UndefinedMetricWarning: Precision and F-score are ill-defined and being set to 0.0 in labels with no predicted samples. Use `zero_division` parameter to control this behavior.\n",
      "  _warn_prf(average, modifier, msg_start, len(result))\n",
      "C:\\Users\\Just Me\\anaconda3\\lib\\site-packages\\sklearn\\metrics\\_classification.py:1344: UndefinedMetricWarning: Precision and F-score are ill-defined and being set to 0.0 in labels with no predicted samples. Use `zero_division` parameter to control this behavior.\n",
      "  _warn_prf(average, modifier, msg_start, len(result))\n"
     ]
    }
   ],
   "source": [
    "# Testing the model using the test and the prediction\n",
    "test_model(y_test, y_pred)"
   ],
   "metadata": {
    "collapsed": false,
    "ExecuteTime": {
     "end_time": "2023-08-15T20:26:25.318862100Z",
     "start_time": "2023-08-15T20:26:24.518320600Z"
    }
   }
  },
  {
   "cell_type": "code",
   "execution_count": 15,
   "outputs": [
    {
     "name": "stdout",
     "output_type": "stream",
     "text": [
      "('related',)               precision    recall  f1-score   support\n",
      "\n",
      "           0       0.74      0.27      0.39      1482\n",
      "           1       0.81      0.97      0.88      5019\n",
      "           2       0.83      0.09      0.17        53\n",
      "\n",
      "    accuracy                           0.81      6554\n",
      "   macro avg       0.80      0.44      0.48      6554\n",
      "weighted avg       0.80      0.81      0.77      6554\n",
      "\n",
      "('request',)               precision    recall  f1-score   support\n",
      "\n",
      "           0       0.89      0.99      0.94      5408\n",
      "           1       0.89      0.44      0.59      1146\n",
      "\n",
      "    accuracy                           0.89      6554\n",
      "   macro avg       0.89      0.71      0.76      6554\n",
      "weighted avg       0.89      0.89      0.88      6554\n",
      "\n",
      "('offer',)               precision    recall  f1-score   support\n",
      "\n",
      "           0       1.00      1.00      1.00      6525\n",
      "           1       0.00      0.00      0.00        29\n",
      "\n",
      "    accuracy                           1.00      6554\n",
      "   macro avg       0.50      0.50      0.50      6554\n",
      "weighted avg       0.99      1.00      0.99      6554\n",
      "\n",
      "('aid_related',)               precision    recall  f1-score   support\n",
      "\n",
      "           0       0.76      0.88      0.82      3850\n",
      "           1       0.79      0.61      0.69      2704\n",
      "\n",
      "    accuracy                           0.77      6554\n",
      "   macro avg       0.78      0.75      0.75      6554\n",
      "weighted avg       0.77      0.77      0.77      6554\n",
      "\n",
      "('medical_help',)               precision    recall  f1-score   support\n",
      "\n",
      "           0       0.93      1.00      0.96      6043\n",
      "           1       0.62      0.05      0.08       511\n",
      "\n",
      "    accuracy                           0.92      6554\n",
      "   macro avg       0.77      0.52      0.52      6554\n",
      "weighted avg       0.90      0.92      0.89      6554\n",
      "\n",
      "('medical_products',)               precision    recall  f1-score   support\n",
      "\n",
      "           0       0.95      1.00      0.97      6215\n",
      "           1       0.77      0.07      0.13       339\n",
      "\n",
      "    accuracy                           0.95      6554\n",
      "   macro avg       0.86      0.53      0.55      6554\n",
      "weighted avg       0.94      0.95      0.93      6554\n",
      "\n",
      "('search_and_rescue',)               precision    recall  f1-score   support\n",
      "\n",
      "           0       0.97      1.00      0.99      6367\n",
      "           1       0.56      0.03      0.05       187\n",
      "\n",
      "    accuracy                           0.97      6554\n",
      "   macro avg       0.76      0.51      0.52      6554\n",
      "weighted avg       0.96      0.97      0.96      6554\n",
      "\n",
      "('security',)               precision    recall  f1-score   support\n",
      "\n",
      "           0       0.98      1.00      0.99      6427\n",
      "           1       0.00      0.00      0.00       127\n",
      "\n",
      "    accuracy                           0.98      6554\n",
      "   macro avg       0.49      0.50      0.50      6554\n",
      "weighted avg       0.96      0.98      0.97      6554\n",
      "\n",
      "('military',)               precision    recall  f1-score   support\n",
      "\n",
      "           0       0.97      1.00      0.98      6334\n",
      "           1       0.50      0.03      0.06       220\n",
      "\n",
      "    accuracy                           0.97      6554\n",
      "   macro avg       0.73      0.52      0.52      6554\n",
      "weighted avg       0.95      0.97      0.95      6554\n",
      "\n",
      "('child_alone',)               precision    recall  f1-score   support\n",
      "\n",
      "           0       1.00      1.00      1.00      6554\n",
      "\n",
      "    accuracy                           1.00      6554\n",
      "   macro avg       1.00      1.00      1.00      6554\n",
      "weighted avg       1.00      1.00      1.00      6554\n",
      "\n",
      "('water',)               precision    recall  f1-score   support\n",
      "\n",
      "           0       0.95      1.00      0.97      6111\n",
      "           1       0.93      0.22      0.35       443\n",
      "\n",
      "    accuracy                           0.95      6554\n",
      "   macro avg       0.94      0.61      0.66      6554\n",
      "weighted avg       0.95      0.95      0.93      6554\n",
      "\n",
      "('food',)               precision    recall  f1-score   support\n",
      "\n",
      "           0       0.93      0.99      0.96      5812\n",
      "           1       0.91      0.40      0.56       742\n",
      "\n",
      "    accuracy                           0.93      6554\n",
      "   macro avg       0.92      0.70      0.76      6554\n",
      "weighted avg       0.93      0.93      0.91      6554\n",
      "\n"
     ]
    },
    {
     "name": "stderr",
     "output_type": "stream",
     "text": [
      "C:\\Users\\Just Me\\anaconda3\\lib\\site-packages\\sklearn\\metrics\\_classification.py:1344: UndefinedMetricWarning: Precision and F-score are ill-defined and being set to 0.0 in labels with no predicted samples. Use `zero_division` parameter to control this behavior.\n",
      "  _warn_prf(average, modifier, msg_start, len(result))\n",
      "C:\\Users\\Just Me\\anaconda3\\lib\\site-packages\\sklearn\\metrics\\_classification.py:1344: UndefinedMetricWarning: Precision and F-score are ill-defined and being set to 0.0 in labels with no predicted samples. Use `zero_division` parameter to control this behavior.\n",
      "  _warn_prf(average, modifier, msg_start, len(result))\n",
      "C:\\Users\\Just Me\\anaconda3\\lib\\site-packages\\sklearn\\metrics\\_classification.py:1344: UndefinedMetricWarning: Precision and F-score are ill-defined and being set to 0.0 in labels with no predicted samples. Use `zero_division` parameter to control this behavior.\n",
      "  _warn_prf(average, modifier, msg_start, len(result))\n"
     ]
    },
    {
     "name": "stdout",
     "output_type": "stream",
     "text": [
      "('shelter',)               precision    recall  f1-score   support\n",
      "\n",
      "           0       0.93      1.00      0.96      5983\n",
      "           1       0.91      0.21      0.34       571\n",
      "\n",
      "    accuracy                           0.93      6554\n",
      "   macro avg       0.92      0.60      0.65      6554\n",
      "weighted avg       0.93      0.93      0.91      6554\n",
      "\n",
      "('clothing',)               precision    recall  f1-score   support\n",
      "\n",
      "           0       0.99      1.00      0.99      6451\n",
      "           1       0.83      0.05      0.09       103\n",
      "\n",
      "    accuracy                           0.98      6554\n",
      "   macro avg       0.91      0.52      0.54      6554\n",
      "weighted avg       0.98      0.98      0.98      6554\n",
      "\n",
      "('money',)               precision    recall  f1-score   support\n",
      "\n",
      "           0       0.98      1.00      0.99      6402\n",
      "           1       0.88      0.05      0.09       152\n",
      "\n",
      "    accuracy                           0.98      6554\n",
      "   macro avg       0.93      0.52      0.54      6554\n",
      "weighted avg       0.98      0.98      0.97      6554\n",
      "\n",
      "('missing_people',)               precision    recall  f1-score   support\n",
      "\n",
      "           0       0.99      1.00      0.99      6471\n",
      "           1       1.00      0.01      0.02        83\n",
      "\n",
      "    accuracy                           0.99      6554\n",
      "   macro avg       0.99      0.51      0.51      6554\n",
      "weighted avg       0.99      0.99      0.98      6554\n",
      "\n",
      "('refugees',)               precision    recall  f1-score   support\n",
      "\n",
      "           0       0.97      1.00      0.98      6335\n",
      "           1       0.88      0.03      0.06       219\n",
      "\n",
      "    accuracy                           0.97      6554\n",
      "   macro avg       0.92      0.52      0.52      6554\n",
      "weighted avg       0.96      0.97      0.95      6554\n",
      "\n",
      "('death',)               precision    recall  f1-score   support\n",
      "\n",
      "           0       0.96      1.00      0.98      6239\n",
      "           1       0.82      0.13      0.22       315\n",
      "\n",
      "    accuracy                           0.96      6554\n",
      "   macro avg       0.89      0.56      0.60      6554\n",
      "weighted avg       0.95      0.96      0.94      6554\n",
      "\n",
      "('other_aid',)               precision    recall  f1-score   support\n",
      "\n",
      "           0       0.87      1.00      0.93      5716\n",
      "           1       0.68      0.02      0.03       838\n",
      "\n",
      "    accuracy                           0.87      6554\n",
      "   macro avg       0.78      0.51      0.48      6554\n",
      "weighted avg       0.85      0.87      0.82      6554\n",
      "\n",
      "('infrastructure_related',)               precision    recall  f1-score   support\n",
      "\n",
      "           0       0.94      1.00      0.97      6131\n",
      "           1       0.17      0.00      0.00       423\n",
      "\n",
      "    accuracy                           0.93      6554\n",
      "   macro avg       0.55      0.50      0.49      6554\n",
      "weighted avg       0.89      0.93      0.90      6554\n",
      "\n",
      "('transport',)               precision    recall  f1-score   support\n",
      "\n",
      "           0       0.96      1.00      0.98      6240\n",
      "           1       0.71      0.07      0.13       314\n",
      "\n",
      "    accuracy                           0.95      6554\n",
      "   macro avg       0.83      0.53      0.55      6554\n",
      "weighted avg       0.94      0.95      0.94      6554\n",
      "\n",
      "('buildings',)               precision    recall  f1-score   support\n",
      "\n",
      "           0       0.95      1.00      0.97      6195\n",
      "           1       0.79      0.06      0.11       359\n",
      "\n",
      "    accuracy                           0.95      6554\n",
      "   macro avg       0.87      0.53      0.54      6554\n",
      "weighted avg       0.94      0.95      0.93      6554\n",
      "\n",
      "('electricity',)               precision    recall  f1-score   support\n",
      "\n",
      "           0       0.98      1.00      0.99      6424\n",
      "           1       0.75      0.02      0.04       130\n",
      "\n",
      "    accuracy                           0.98      6554\n",
      "   macro avg       0.87      0.51      0.52      6554\n",
      "weighted avg       0.98      0.98      0.97      6554\n",
      "\n",
      "('tools',)               precision    recall  f1-score   support\n",
      "\n",
      "           0       0.99      1.00      1.00      6512\n",
      "           1       0.00      0.00      0.00        42\n",
      "\n",
      "    accuracy                           0.99      6554\n",
      "   macro avg       0.50      0.50      0.50      6554\n",
      "weighted avg       0.99      0.99      0.99      6554\n",
      "\n",
      "('hospitals',)               precision    recall  f1-score   support\n",
      "\n",
      "           0       0.99      1.00      1.00      6488\n",
      "           1       1.00      0.02      0.03        66\n",
      "\n",
      "    accuracy                           0.99      6554\n",
      "   macro avg       1.00      0.51      0.51      6554\n",
      "weighted avg       0.99      0.99      0.99      6554\n",
      "\n",
      "('shops',)               precision    recall  f1-score   support\n",
      "\n",
      "           0       0.99      1.00      1.00      6519\n",
      "           1       0.00      0.00      0.00        35\n",
      "\n",
      "    accuracy                           0.99      6554\n",
      "   macro avg       0.50      0.50      0.50      6554\n",
      "weighted avg       0.99      0.99      0.99      6554\n",
      "\n",
      "('aid_centers',)               precision    recall  f1-score   support\n",
      "\n",
      "           0       0.99      1.00      0.99      6486\n",
      "           1       0.00      0.00      0.00        68\n",
      "\n",
      "    accuracy                           0.99      6554\n",
      "   macro avg       0.49      0.50      0.50      6554\n",
      "weighted avg       0.98      0.99      0.98      6554\n",
      "\n",
      "('other_infrastructure',)               precision    recall  f1-score   support\n",
      "\n",
      "           0       0.95      1.00      0.98      6257\n",
      "           1       0.00      0.00      0.00       297\n",
      "\n",
      "    accuracy                           0.95      6554\n",
      "   macro avg       0.48      0.50      0.49      6554\n",
      "weighted avg       0.91      0.95      0.93      6554\n",
      "\n",
      "('weather_related',)               precision    recall  f1-score   support\n",
      "\n",
      "           0       0.87      0.97      0.91      4723\n",
      "           1       0.88      0.62      0.73      1831\n",
      "\n",
      "    accuracy                           0.87      6554\n",
      "   macro avg       0.87      0.79      0.82      6554\n",
      "weighted avg       0.87      0.87      0.86      6554\n",
      "\n",
      "('floods',)               precision    recall  f1-score   support\n",
      "\n",
      "           0       0.94      1.00      0.97      6008\n",
      "           1       0.94      0.36      0.52       546\n",
      "\n",
      "    accuracy                           0.94      6554\n",
      "   macro avg       0.94      0.68      0.75      6554\n",
      "weighted avg       0.94      0.94      0.93      6554\n",
      "\n",
      "('storm',)               precision    recall  f1-score   support\n",
      "\n",
      "           0       0.94      0.99      0.97      5947\n",
      "           1       0.79      0.43      0.55       607\n",
      "\n",
      "    accuracy                           0.94      6554\n",
      "   macro avg       0.87      0.71      0.76      6554\n",
      "weighted avg       0.93      0.94      0.93      6554\n",
      "\n",
      "('fire',)               precision    recall  f1-score   support\n",
      "\n",
      "           0       0.99      1.00      0.99      6486\n",
      "           1       1.00      0.01      0.03        68\n",
      "\n",
      "    accuracy                           0.99      6554\n",
      "   macro avg       0.99      0.51      0.51      6554\n",
      "weighted avg       0.99      0.99      0.98      6554\n",
      "\n",
      "('earthquake',)               precision    recall  f1-score   support\n",
      "\n",
      "           0       0.98      0.99      0.98      5919\n",
      "           1       0.92      0.77      0.84       635\n",
      "\n",
      "    accuracy                           0.97      6554\n",
      "   macro avg       0.95      0.88      0.91      6554\n",
      "weighted avg       0.97      0.97      0.97      6554\n",
      "\n",
      "('cold',)               precision    recall  f1-score   support\n",
      "\n",
      "           0       0.98      1.00      0.99      6421\n",
      "           1       0.91      0.08      0.14       133\n",
      "\n",
      "    accuracy                           0.98      6554\n",
      "   macro avg       0.95      0.54      0.56      6554\n",
      "weighted avg       0.98      0.98      0.97      6554\n",
      "\n",
      "('other_weather',)               precision    recall  f1-score   support\n",
      "\n",
      "           0       0.95      1.00      0.97      6229\n",
      "           1       0.83      0.02      0.03       325\n",
      "\n",
      "    accuracy                           0.95      6554\n",
      "   macro avg       0.89      0.51      0.50      6554\n",
      "weighted avg       0.95      0.95      0.93      6554\n",
      "\n",
      "('direct_report',)               precision    recall  f1-score   support\n",
      "\n",
      "           0       0.86      0.99      0.92      5251\n",
      "           1       0.87      0.35      0.50      1303\n",
      "\n",
      "    accuracy                           0.86      6554\n",
      "   macro avg       0.87      0.67      0.71      6554\n",
      "weighted avg       0.86      0.86      0.84      6554\n",
      "\n"
     ]
    },
    {
     "name": "stderr",
     "output_type": "stream",
     "text": [
      "C:\\Users\\Just Me\\anaconda3\\lib\\site-packages\\sklearn\\metrics\\_classification.py:1344: UndefinedMetricWarning: Precision and F-score are ill-defined and being set to 0.0 in labels with no predicted samples. Use `zero_division` parameter to control this behavior.\n",
      "  _warn_prf(average, modifier, msg_start, len(result))\n",
      "C:\\Users\\Just Me\\anaconda3\\lib\\site-packages\\sklearn\\metrics\\_classification.py:1344: UndefinedMetricWarning: Precision and F-score are ill-defined and being set to 0.0 in labels with no predicted samples. Use `zero_division` parameter to control this behavior.\n",
      "  _warn_prf(average, modifier, msg_start, len(result))\n",
      "C:\\Users\\Just Me\\anaconda3\\lib\\site-packages\\sklearn\\metrics\\_classification.py:1344: UndefinedMetricWarning: Precision and F-score are ill-defined and being set to 0.0 in labels with no predicted samples. Use `zero_division` parameter to control this behavior.\n",
      "  _warn_prf(average, modifier, msg_start, len(result))\n",
      "C:\\Users\\Just Me\\anaconda3\\lib\\site-packages\\sklearn\\metrics\\_classification.py:1344: UndefinedMetricWarning: Precision and F-score are ill-defined and being set to 0.0 in labels with no predicted samples. Use `zero_division` parameter to control this behavior.\n",
      "  _warn_prf(average, modifier, msg_start, len(result))\n",
      "C:\\Users\\Just Me\\anaconda3\\lib\\site-packages\\sklearn\\metrics\\_classification.py:1344: UndefinedMetricWarning: Precision and F-score are ill-defined and being set to 0.0 in labels with no predicted samples. Use `zero_division` parameter to control this behavior.\n",
      "  _warn_prf(average, modifier, msg_start, len(result))\n",
      "C:\\Users\\Just Me\\anaconda3\\lib\\site-packages\\sklearn\\metrics\\_classification.py:1344: UndefinedMetricWarning: Precision and F-score are ill-defined and being set to 0.0 in labels with no predicted samples. Use `zero_division` parameter to control this behavior.\n",
      "  _warn_prf(average, modifier, msg_start, len(result))\n",
      "C:\\Users\\Just Me\\anaconda3\\lib\\site-packages\\sklearn\\metrics\\_classification.py:1344: UndefinedMetricWarning: Precision and F-score are ill-defined and being set to 0.0 in labels with no predicted samples. Use `zero_division` parameter to control this behavior.\n",
      "  _warn_prf(average, modifier, msg_start, len(result))\n",
      "C:\\Users\\Just Me\\anaconda3\\lib\\site-packages\\sklearn\\metrics\\_classification.py:1344: UndefinedMetricWarning: Precision and F-score are ill-defined and being set to 0.0 in labels with no predicted samples. Use `zero_division` parameter to control this behavior.\n",
      "  _warn_prf(average, modifier, msg_start, len(result))\n",
      "C:\\Users\\Just Me\\anaconda3\\lib\\site-packages\\sklearn\\metrics\\_classification.py:1344: UndefinedMetricWarning: Precision and F-score are ill-defined and being set to 0.0 in labels with no predicted samples. Use `zero_division` parameter to control this behavior.\n",
      "  _warn_prf(average, modifier, msg_start, len(result))\n"
     ]
    }
   ],
   "source": [
    "test_model(y_test, y_pred)"
   ],
   "metadata": {
    "collapsed": false,
    "ExecuteTime": {
     "end_time": "2023-08-15T20:26:25.964307100Z",
     "start_time": "2023-08-15T20:26:25.324948100Z"
    }
   }
  },
  {
   "cell_type": "markdown",
   "source": [
    "### 6. Improve your model"
   ],
   "metadata": {
    "collapsed": false
   }
  },
  {
   "cell_type": "code",
   "execution_count": 16,
   "outputs": [
    {
     "data": {
      "text/plain": "{'memory': None,\n 'steps': [('vect',\n   CountVectorizer(tokenizer=<function tokenize at 0x0000018C7EF748B0>)),\n  ('tfidf', TfidfTransformer()),\n  ('clf', MultiOutputClassifier(estimator=RandomForestClassifier()))],\n 'verbose': False,\n 'vect': CountVectorizer(tokenizer=<function tokenize at 0x0000018C7EF748B0>),\n 'tfidf': TfidfTransformer(),\n 'clf': MultiOutputClassifier(estimator=RandomForestClassifier()),\n 'vect__analyzer': 'word',\n 'vect__binary': False,\n 'vect__decode_error': 'strict',\n 'vect__dtype': numpy.int64,\n 'vect__encoding': 'utf-8',\n 'vect__input': 'content',\n 'vect__lowercase': True,\n 'vect__max_df': 1.0,\n 'vect__max_features': None,\n 'vect__min_df': 1,\n 'vect__ngram_range': (1, 1),\n 'vect__preprocessor': None,\n 'vect__stop_words': None,\n 'vect__strip_accents': None,\n 'vect__token_pattern': '(?u)\\\\b\\\\w\\\\w+\\\\b',\n 'vect__tokenizer': <function __main__.tokenize(disaster_text)>,\n 'vect__vocabulary': None,\n 'tfidf__norm': 'l2',\n 'tfidf__smooth_idf': True,\n 'tfidf__sublinear_tf': False,\n 'tfidf__use_idf': True,\n 'clf__estimator__bootstrap': True,\n 'clf__estimator__ccp_alpha': 0.0,\n 'clf__estimator__class_weight': None,\n 'clf__estimator__criterion': 'gini',\n 'clf__estimator__max_depth': None,\n 'clf__estimator__max_features': 'sqrt',\n 'clf__estimator__max_leaf_nodes': None,\n 'clf__estimator__max_samples': None,\n 'clf__estimator__min_impurity_decrease': 0.0,\n 'clf__estimator__min_samples_leaf': 1,\n 'clf__estimator__min_samples_split': 2,\n 'clf__estimator__min_weight_fraction_leaf': 0.0,\n 'clf__estimator__n_estimators': 100,\n 'clf__estimator__n_jobs': None,\n 'clf__estimator__oob_score': False,\n 'clf__estimator__random_state': None,\n 'clf__estimator__verbose': 0,\n 'clf__estimator__warm_start': False,\n 'clf__estimator': RandomForestClassifier(),\n 'clf__n_jobs': None}"
     },
     "execution_count": 16,
     "metadata": {},
     "output_type": "execute_result"
    }
   ],
   "source": [
    "# Using grid search to find better parameters\n",
    "pipeline.get_params()"
   ],
   "metadata": {
    "collapsed": false,
    "ExecuteTime": {
     "end_time": "2023-08-15T20:26:26.014920700Z",
     "start_time": "2023-08-15T20:26:25.968306400Z"
    }
   }
  },
  {
   "cell_type": "code",
   "execution_count": 17,
   "outputs": [],
   "source": [
    "# specifying parameters for grid search\n",
    "parameters = {\n",
    "    'clf__estimator__n_estimators' : [50, 100]\n",
    "}"
   ],
   "metadata": {
    "collapsed": false,
    "ExecuteTime": {
     "end_time": "2023-08-15T20:26:26.022207400Z",
     "start_time": "2023-08-15T20:26:26.009826Z"
    }
   }
  },
  {
   "cell_type": "code",
   "execution_count": 18,
   "outputs": [
    {
     "data": {
      "text/plain": "GridSearchCV(estimator=Pipeline(steps=[('vect',\n                                        CountVectorizer(tokenizer=<function tokenize at 0x0000018C7EF748B0>)),\n                                       ('tfidf', TfidfTransformer()),\n                                       ('clf',\n                                        MultiOutputClassifier(estimator=RandomForestClassifier()))]),\n             param_grid={'clf__estimator__n_estimators': [50, 100]})",
      "text/html": "<style>#sk-container-id-2 {color: black;background-color: white;}#sk-container-id-2 pre{padding: 0;}#sk-container-id-2 div.sk-toggleable {background-color: white;}#sk-container-id-2 label.sk-toggleable__label {cursor: pointer;display: block;width: 100%;margin-bottom: 0;padding: 0.3em;box-sizing: border-box;text-align: center;}#sk-container-id-2 label.sk-toggleable__label-arrow:before {content: \"▸\";float: left;margin-right: 0.25em;color: #696969;}#sk-container-id-2 label.sk-toggleable__label-arrow:hover:before {color: black;}#sk-container-id-2 div.sk-estimator:hover label.sk-toggleable__label-arrow:before {color: black;}#sk-container-id-2 div.sk-toggleable__content {max-height: 0;max-width: 0;overflow: hidden;text-align: left;background-color: #f0f8ff;}#sk-container-id-2 div.sk-toggleable__content pre {margin: 0.2em;color: black;border-radius: 0.25em;background-color: #f0f8ff;}#sk-container-id-2 input.sk-toggleable__control:checked~div.sk-toggleable__content {max-height: 200px;max-width: 100%;overflow: auto;}#sk-container-id-2 input.sk-toggleable__control:checked~label.sk-toggleable__label-arrow:before {content: \"▾\";}#sk-container-id-2 div.sk-estimator input.sk-toggleable__control:checked~label.sk-toggleable__label {background-color: #d4ebff;}#sk-container-id-2 div.sk-label input.sk-toggleable__control:checked~label.sk-toggleable__label {background-color: #d4ebff;}#sk-container-id-2 input.sk-hidden--visually {border: 0;clip: rect(1px 1px 1px 1px);clip: rect(1px, 1px, 1px, 1px);height: 1px;margin: -1px;overflow: hidden;padding: 0;position: absolute;width: 1px;}#sk-container-id-2 div.sk-estimator {font-family: monospace;background-color: #f0f8ff;border: 1px dotted black;border-radius: 0.25em;box-sizing: border-box;margin-bottom: 0.5em;}#sk-container-id-2 div.sk-estimator:hover {background-color: #d4ebff;}#sk-container-id-2 div.sk-parallel-item::after {content: \"\";width: 100%;border-bottom: 1px solid gray;flex-grow: 1;}#sk-container-id-2 div.sk-label:hover label.sk-toggleable__label {background-color: #d4ebff;}#sk-container-id-2 div.sk-serial::before {content: \"\";position: absolute;border-left: 1px solid gray;box-sizing: border-box;top: 0;bottom: 0;left: 50%;z-index: 0;}#sk-container-id-2 div.sk-serial {display: flex;flex-direction: column;align-items: center;background-color: white;padding-right: 0.2em;padding-left: 0.2em;position: relative;}#sk-container-id-2 div.sk-item {position: relative;z-index: 1;}#sk-container-id-2 div.sk-parallel {display: flex;align-items: stretch;justify-content: center;background-color: white;position: relative;}#sk-container-id-2 div.sk-item::before, #sk-container-id-2 div.sk-parallel-item::before {content: \"\";position: absolute;border-left: 1px solid gray;box-sizing: border-box;top: 0;bottom: 0;left: 50%;z-index: -1;}#sk-container-id-2 div.sk-parallel-item {display: flex;flex-direction: column;z-index: 1;position: relative;background-color: white;}#sk-container-id-2 div.sk-parallel-item:first-child::after {align-self: flex-end;width: 50%;}#sk-container-id-2 div.sk-parallel-item:last-child::after {align-self: flex-start;width: 50%;}#sk-container-id-2 div.sk-parallel-item:only-child::after {width: 0;}#sk-container-id-2 div.sk-dashed-wrapped {border: 1px dashed gray;margin: 0 0.4em 0.5em 0.4em;box-sizing: border-box;padding-bottom: 0.4em;background-color: white;}#sk-container-id-2 div.sk-label label {font-family: monospace;font-weight: bold;display: inline-block;line-height: 1.2em;}#sk-container-id-2 div.sk-label-container {text-align: center;}#sk-container-id-2 div.sk-container {/* jupyter's `normalize.less` sets `[hidden] { display: none; }` but bootstrap.min.css set `[hidden] { display: none !important; }` so we also need the `!important` here to be able to override the default hidden behavior on the sphinx rendered scikit-learn.org. See: https://github.com/scikit-learn/scikit-learn/issues/21755 */display: inline-block !important;position: relative;}#sk-container-id-2 div.sk-text-repr-fallback {display: none;}</style><div id=\"sk-container-id-2\" class=\"sk-top-container\"><div class=\"sk-text-repr-fallback\"><pre>GridSearchCV(estimator=Pipeline(steps=[(&#x27;vect&#x27;,\n                                        CountVectorizer(tokenizer=&lt;function tokenize at 0x0000018C7EF748B0&gt;)),\n                                       (&#x27;tfidf&#x27;, TfidfTransformer()),\n                                       (&#x27;clf&#x27;,\n                                        MultiOutputClassifier(estimator=RandomForestClassifier()))]),\n             param_grid={&#x27;clf__estimator__n_estimators&#x27;: [50, 100]})</pre><b>In a Jupyter environment, please rerun this cell to show the HTML representation or trust the notebook. <br />On GitHub, the HTML representation is unable to render, please try loading this page with nbviewer.org.</b></div><div class=\"sk-container\" hidden><div class=\"sk-item sk-dashed-wrapped\"><div class=\"sk-label-container\"><div class=\"sk-label sk-toggleable\"><input class=\"sk-toggleable__control sk-hidden--visually\" id=\"sk-estimator-id-7\" type=\"checkbox\" ><label for=\"sk-estimator-id-7\" class=\"sk-toggleable__label sk-toggleable__label-arrow\">GridSearchCV</label><div class=\"sk-toggleable__content\"><pre>GridSearchCV(estimator=Pipeline(steps=[(&#x27;vect&#x27;,\n                                        CountVectorizer(tokenizer=&lt;function tokenize at 0x0000018C7EF748B0&gt;)),\n                                       (&#x27;tfidf&#x27;, TfidfTransformer()),\n                                       (&#x27;clf&#x27;,\n                                        MultiOutputClassifier(estimator=RandomForestClassifier()))]),\n             param_grid={&#x27;clf__estimator__n_estimators&#x27;: [50, 100]})</pre></div></div></div><div class=\"sk-parallel\"><div class=\"sk-parallel-item\"><div class=\"sk-item\"><div class=\"sk-label-container\"><div class=\"sk-label sk-toggleable\"><input class=\"sk-toggleable__control sk-hidden--visually\" id=\"sk-estimator-id-8\" type=\"checkbox\" ><label for=\"sk-estimator-id-8\" class=\"sk-toggleable__label sk-toggleable__label-arrow\">estimator: Pipeline</label><div class=\"sk-toggleable__content\"><pre>Pipeline(steps=[(&#x27;vect&#x27;,\n                 CountVectorizer(tokenizer=&lt;function tokenize at 0x0000018C7EF748B0&gt;)),\n                (&#x27;tfidf&#x27;, TfidfTransformer()),\n                (&#x27;clf&#x27;,\n                 MultiOutputClassifier(estimator=RandomForestClassifier()))])</pre></div></div></div><div class=\"sk-serial\"><div class=\"sk-item\"><div class=\"sk-serial\"><div class=\"sk-item\"><div class=\"sk-estimator sk-toggleable\"><input class=\"sk-toggleable__control sk-hidden--visually\" id=\"sk-estimator-id-9\" type=\"checkbox\" ><label for=\"sk-estimator-id-9\" class=\"sk-toggleable__label sk-toggleable__label-arrow\">CountVectorizer</label><div class=\"sk-toggleable__content\"><pre>CountVectorizer(tokenizer=&lt;function tokenize at 0x0000018C7EF748B0&gt;)</pre></div></div></div><div class=\"sk-item\"><div class=\"sk-estimator sk-toggleable\"><input class=\"sk-toggleable__control sk-hidden--visually\" id=\"sk-estimator-id-10\" type=\"checkbox\" ><label for=\"sk-estimator-id-10\" class=\"sk-toggleable__label sk-toggleable__label-arrow\">TfidfTransformer</label><div class=\"sk-toggleable__content\"><pre>TfidfTransformer()</pre></div></div></div><div class=\"sk-item sk-dashed-wrapped\"><div class=\"sk-label-container\"><div class=\"sk-label sk-toggleable\"><input class=\"sk-toggleable__control sk-hidden--visually\" id=\"sk-estimator-id-11\" type=\"checkbox\" ><label for=\"sk-estimator-id-11\" class=\"sk-toggleable__label sk-toggleable__label-arrow\">clf: MultiOutputClassifier</label><div class=\"sk-toggleable__content\"><pre>MultiOutputClassifier(estimator=RandomForestClassifier())</pre></div></div></div><div class=\"sk-parallel\"><div class=\"sk-parallel-item\"><div class=\"sk-item\"><div class=\"sk-label-container\"><div class=\"sk-label sk-toggleable\"><input class=\"sk-toggleable__control sk-hidden--visually\" id=\"sk-estimator-id-12\" type=\"checkbox\" ><label for=\"sk-estimator-id-12\" class=\"sk-toggleable__label sk-toggleable__label-arrow\">estimator: RandomForestClassifier</label><div class=\"sk-toggleable__content\"><pre>RandomForestClassifier()</pre></div></div></div><div class=\"sk-serial\"><div class=\"sk-item\"><div class=\"sk-estimator sk-toggleable\"><input class=\"sk-toggleable__control sk-hidden--visually\" id=\"sk-estimator-id-13\" type=\"checkbox\" ><label for=\"sk-estimator-id-13\" class=\"sk-toggleable__label sk-toggleable__label-arrow\">RandomForestClassifier</label><div class=\"sk-toggleable__content\"><pre>RandomForestClassifier()</pre></div></div></div></div></div></div></div></div></div></div></div></div></div></div></div></div></div>"
     },
     "execution_count": 18,
     "metadata": {},
     "output_type": "execute_result"
    }
   ],
   "source": [
    "# creating grid search object\n",
    "cv = GridSearchCV(pipeline, param_grid=parameters)\n",
    "\n",
    "cv"
   ],
   "metadata": {
    "collapsed": false,
    "ExecuteTime": {
     "end_time": "2023-08-15T20:26:26.111071100Z",
     "start_time": "2023-08-15T20:26:26.024230Z"
    }
   }
  },
  {
   "cell_type": "code",
   "execution_count": 19,
   "outputs": [
    {
     "name": "stderr",
     "output_type": "stream",
     "text": [
      "C:\\Users\\Just Me\\anaconda3\\lib\\site-packages\\sklearn\\feature_extraction\\text.py:528: UserWarning: The parameter 'token_pattern' will not be used since 'tokenizer' is not None'\n",
      "  warnings.warn(\n",
      "C:\\Users\\Just Me\\anaconda3\\lib\\site-packages\\sklearn\\feature_extraction\\text.py:528: UserWarning: The parameter 'token_pattern' will not be used since 'tokenizer' is not None'\n",
      "  warnings.warn(\n",
      "C:\\Users\\Just Me\\anaconda3\\lib\\site-packages\\sklearn\\feature_extraction\\text.py:528: UserWarning: The parameter 'token_pattern' will not be used since 'tokenizer' is not None'\n",
      "  warnings.warn(\n",
      "C:\\Users\\Just Me\\anaconda3\\lib\\site-packages\\sklearn\\feature_extraction\\text.py:528: UserWarning: The parameter 'token_pattern' will not be used since 'tokenizer' is not None'\n",
      "  warnings.warn(\n",
      "C:\\Users\\Just Me\\anaconda3\\lib\\site-packages\\sklearn\\feature_extraction\\text.py:528: UserWarning: The parameter 'token_pattern' will not be used since 'tokenizer' is not None'\n",
      "  warnings.warn(\n",
      "C:\\Users\\Just Me\\anaconda3\\lib\\site-packages\\sklearn\\feature_extraction\\text.py:528: UserWarning: The parameter 'token_pattern' will not be used since 'tokenizer' is not None'\n",
      "  warnings.warn(\n",
      "C:\\Users\\Just Me\\anaconda3\\lib\\site-packages\\sklearn\\feature_extraction\\text.py:528: UserWarning: The parameter 'token_pattern' will not be used since 'tokenizer' is not None'\n",
      "  warnings.warn(\n",
      "C:\\Users\\Just Me\\anaconda3\\lib\\site-packages\\sklearn\\feature_extraction\\text.py:528: UserWarning: The parameter 'token_pattern' will not be used since 'tokenizer' is not None'\n",
      "  warnings.warn(\n",
      "C:\\Users\\Just Me\\anaconda3\\lib\\site-packages\\sklearn\\feature_extraction\\text.py:528: UserWarning: The parameter 'token_pattern' will not be used since 'tokenizer' is not None'\n",
      "  warnings.warn(\n",
      "C:\\Users\\Just Me\\anaconda3\\lib\\site-packages\\sklearn\\feature_extraction\\text.py:528: UserWarning: The parameter 'token_pattern' will not be used since 'tokenizer' is not None'\n",
      "  warnings.warn(\n",
      "C:\\Users\\Just Me\\anaconda3\\lib\\site-packages\\sklearn\\feature_extraction\\text.py:528: UserWarning: The parameter 'token_pattern' will not be used since 'tokenizer' is not None'\n",
      "  warnings.warn(\n"
     ]
    },
    {
     "data": {
      "text/plain": "GridSearchCV(estimator=Pipeline(steps=[('vect',\n                                        CountVectorizer(tokenizer=<function tokenize at 0x0000018C7EF748B0>)),\n                                       ('tfidf', TfidfTransformer()),\n                                       ('clf',\n                                        MultiOutputClassifier(estimator=RandomForestClassifier()))]),\n             param_grid={'clf__estimator__n_estimators': [50, 100]})",
      "text/html": "<style>#sk-container-id-3 {color: black;background-color: white;}#sk-container-id-3 pre{padding: 0;}#sk-container-id-3 div.sk-toggleable {background-color: white;}#sk-container-id-3 label.sk-toggleable__label {cursor: pointer;display: block;width: 100%;margin-bottom: 0;padding: 0.3em;box-sizing: border-box;text-align: center;}#sk-container-id-3 label.sk-toggleable__label-arrow:before {content: \"▸\";float: left;margin-right: 0.25em;color: #696969;}#sk-container-id-3 label.sk-toggleable__label-arrow:hover:before {color: black;}#sk-container-id-3 div.sk-estimator:hover label.sk-toggleable__label-arrow:before {color: black;}#sk-container-id-3 div.sk-toggleable__content {max-height: 0;max-width: 0;overflow: hidden;text-align: left;background-color: #f0f8ff;}#sk-container-id-3 div.sk-toggleable__content pre {margin: 0.2em;color: black;border-radius: 0.25em;background-color: #f0f8ff;}#sk-container-id-3 input.sk-toggleable__control:checked~div.sk-toggleable__content {max-height: 200px;max-width: 100%;overflow: auto;}#sk-container-id-3 input.sk-toggleable__control:checked~label.sk-toggleable__label-arrow:before {content: \"▾\";}#sk-container-id-3 div.sk-estimator input.sk-toggleable__control:checked~label.sk-toggleable__label {background-color: #d4ebff;}#sk-container-id-3 div.sk-label input.sk-toggleable__control:checked~label.sk-toggleable__label {background-color: #d4ebff;}#sk-container-id-3 input.sk-hidden--visually {border: 0;clip: rect(1px 1px 1px 1px);clip: rect(1px, 1px, 1px, 1px);height: 1px;margin: -1px;overflow: hidden;padding: 0;position: absolute;width: 1px;}#sk-container-id-3 div.sk-estimator {font-family: monospace;background-color: #f0f8ff;border: 1px dotted black;border-radius: 0.25em;box-sizing: border-box;margin-bottom: 0.5em;}#sk-container-id-3 div.sk-estimator:hover {background-color: #d4ebff;}#sk-container-id-3 div.sk-parallel-item::after {content: \"\";width: 100%;border-bottom: 1px solid gray;flex-grow: 1;}#sk-container-id-3 div.sk-label:hover label.sk-toggleable__label {background-color: #d4ebff;}#sk-container-id-3 div.sk-serial::before {content: \"\";position: absolute;border-left: 1px solid gray;box-sizing: border-box;top: 0;bottom: 0;left: 50%;z-index: 0;}#sk-container-id-3 div.sk-serial {display: flex;flex-direction: column;align-items: center;background-color: white;padding-right: 0.2em;padding-left: 0.2em;position: relative;}#sk-container-id-3 div.sk-item {position: relative;z-index: 1;}#sk-container-id-3 div.sk-parallel {display: flex;align-items: stretch;justify-content: center;background-color: white;position: relative;}#sk-container-id-3 div.sk-item::before, #sk-container-id-3 div.sk-parallel-item::before {content: \"\";position: absolute;border-left: 1px solid gray;box-sizing: border-box;top: 0;bottom: 0;left: 50%;z-index: -1;}#sk-container-id-3 div.sk-parallel-item {display: flex;flex-direction: column;z-index: 1;position: relative;background-color: white;}#sk-container-id-3 div.sk-parallel-item:first-child::after {align-self: flex-end;width: 50%;}#sk-container-id-3 div.sk-parallel-item:last-child::after {align-self: flex-start;width: 50%;}#sk-container-id-3 div.sk-parallel-item:only-child::after {width: 0;}#sk-container-id-3 div.sk-dashed-wrapped {border: 1px dashed gray;margin: 0 0.4em 0.5em 0.4em;box-sizing: border-box;padding-bottom: 0.4em;background-color: white;}#sk-container-id-3 div.sk-label label {font-family: monospace;font-weight: bold;display: inline-block;line-height: 1.2em;}#sk-container-id-3 div.sk-label-container {text-align: center;}#sk-container-id-3 div.sk-container {/* jupyter's `normalize.less` sets `[hidden] { display: none; }` but bootstrap.min.css set `[hidden] { display: none !important; }` so we also need the `!important` here to be able to override the default hidden behavior on the sphinx rendered scikit-learn.org. See: https://github.com/scikit-learn/scikit-learn/issues/21755 */display: inline-block !important;position: relative;}#sk-container-id-3 div.sk-text-repr-fallback {display: none;}</style><div id=\"sk-container-id-3\" class=\"sk-top-container\"><div class=\"sk-text-repr-fallback\"><pre>GridSearchCV(estimator=Pipeline(steps=[(&#x27;vect&#x27;,\n                                        CountVectorizer(tokenizer=&lt;function tokenize at 0x0000018C7EF748B0&gt;)),\n                                       (&#x27;tfidf&#x27;, TfidfTransformer()),\n                                       (&#x27;clf&#x27;,\n                                        MultiOutputClassifier(estimator=RandomForestClassifier()))]),\n             param_grid={&#x27;clf__estimator__n_estimators&#x27;: [50, 100]})</pre><b>In a Jupyter environment, please rerun this cell to show the HTML representation or trust the notebook. <br />On GitHub, the HTML representation is unable to render, please try loading this page with nbviewer.org.</b></div><div class=\"sk-container\" hidden><div class=\"sk-item sk-dashed-wrapped\"><div class=\"sk-label-container\"><div class=\"sk-label sk-toggleable\"><input class=\"sk-toggleable__control sk-hidden--visually\" id=\"sk-estimator-id-14\" type=\"checkbox\" ><label for=\"sk-estimator-id-14\" class=\"sk-toggleable__label sk-toggleable__label-arrow\">GridSearchCV</label><div class=\"sk-toggleable__content\"><pre>GridSearchCV(estimator=Pipeline(steps=[(&#x27;vect&#x27;,\n                                        CountVectorizer(tokenizer=&lt;function tokenize at 0x0000018C7EF748B0&gt;)),\n                                       (&#x27;tfidf&#x27;, TfidfTransformer()),\n                                       (&#x27;clf&#x27;,\n                                        MultiOutputClassifier(estimator=RandomForestClassifier()))]),\n             param_grid={&#x27;clf__estimator__n_estimators&#x27;: [50, 100]})</pre></div></div></div><div class=\"sk-parallel\"><div class=\"sk-parallel-item\"><div class=\"sk-item\"><div class=\"sk-label-container\"><div class=\"sk-label sk-toggleable\"><input class=\"sk-toggleable__control sk-hidden--visually\" id=\"sk-estimator-id-15\" type=\"checkbox\" ><label for=\"sk-estimator-id-15\" class=\"sk-toggleable__label sk-toggleable__label-arrow\">estimator: Pipeline</label><div class=\"sk-toggleable__content\"><pre>Pipeline(steps=[(&#x27;vect&#x27;,\n                 CountVectorizer(tokenizer=&lt;function tokenize at 0x0000018C7EF748B0&gt;)),\n                (&#x27;tfidf&#x27;, TfidfTransformer()),\n                (&#x27;clf&#x27;,\n                 MultiOutputClassifier(estimator=RandomForestClassifier()))])</pre></div></div></div><div class=\"sk-serial\"><div class=\"sk-item\"><div class=\"sk-serial\"><div class=\"sk-item\"><div class=\"sk-estimator sk-toggleable\"><input class=\"sk-toggleable__control sk-hidden--visually\" id=\"sk-estimator-id-16\" type=\"checkbox\" ><label for=\"sk-estimator-id-16\" class=\"sk-toggleable__label sk-toggleable__label-arrow\">CountVectorizer</label><div class=\"sk-toggleable__content\"><pre>CountVectorizer(tokenizer=&lt;function tokenize at 0x0000018C7EF748B0&gt;)</pre></div></div></div><div class=\"sk-item\"><div class=\"sk-estimator sk-toggleable\"><input class=\"sk-toggleable__control sk-hidden--visually\" id=\"sk-estimator-id-17\" type=\"checkbox\" ><label for=\"sk-estimator-id-17\" class=\"sk-toggleable__label sk-toggleable__label-arrow\">TfidfTransformer</label><div class=\"sk-toggleable__content\"><pre>TfidfTransformer()</pre></div></div></div><div class=\"sk-item sk-dashed-wrapped\"><div class=\"sk-label-container\"><div class=\"sk-label sk-toggleable\"><input class=\"sk-toggleable__control sk-hidden--visually\" id=\"sk-estimator-id-18\" type=\"checkbox\" ><label for=\"sk-estimator-id-18\" class=\"sk-toggleable__label sk-toggleable__label-arrow\">clf: MultiOutputClassifier</label><div class=\"sk-toggleable__content\"><pre>MultiOutputClassifier(estimator=RandomForestClassifier())</pre></div></div></div><div class=\"sk-parallel\"><div class=\"sk-parallel-item\"><div class=\"sk-item\"><div class=\"sk-label-container\"><div class=\"sk-label sk-toggleable\"><input class=\"sk-toggleable__control sk-hidden--visually\" id=\"sk-estimator-id-19\" type=\"checkbox\" ><label for=\"sk-estimator-id-19\" class=\"sk-toggleable__label sk-toggleable__label-arrow\">estimator: RandomForestClassifier</label><div class=\"sk-toggleable__content\"><pre>RandomForestClassifier()</pre></div></div></div><div class=\"sk-serial\"><div class=\"sk-item\"><div class=\"sk-estimator sk-toggleable\"><input class=\"sk-toggleable__control sk-hidden--visually\" id=\"sk-estimator-id-20\" type=\"checkbox\" ><label for=\"sk-estimator-id-20\" class=\"sk-toggleable__label sk-toggleable__label-arrow\">RandomForestClassifier</label><div class=\"sk-toggleable__content\"><pre>RandomForestClassifier()</pre></div></div></div></div></div></div></div></div></div></div></div></div></div></div></div></div></div>"
     },
     "execution_count": 19,
     "metadata": {},
     "output_type": "execute_result"
    }
   ],
   "source": [
    "# Fit the train datasets\n",
    "cv.fit(X_train, y_train)"
   ],
   "metadata": {
    "collapsed": false,
    "ExecuteTime": {
     "end_time": "2023-08-15T23:08:29.465099Z",
     "start_time": "2023-08-15T20:26:26.113090500Z"
    }
   }
  },
  {
   "cell_type": "code",
   "execution_count": 20,
   "outputs": [
    {
     "data": {
      "text/plain": "{'clf__estimator__n_estimators': 100}"
     },
     "execution_count": 20,
     "metadata": {},
     "output_type": "execute_result"
    }
   ],
   "source": [
    "# Using cv to find the best parameter\n",
    "cv.best_params_"
   ],
   "metadata": {
    "collapsed": false,
    "ExecuteTime": {
     "end_time": "2023-08-15T23:08:29.530785100Z",
     "start_time": "2023-08-15T23:08:29.506491800Z"
    }
   }
  },
  {
   "cell_type": "markdown",
   "source": [
    "### 7. Test your model"
   ],
   "metadata": {
    "collapsed": false
   }
  },
  {
   "cell_type": "code",
   "execution_count": 21,
   "outputs": [],
   "source": [
    "# Performing predictions on the test dataset using cv\n",
    "y_pred = cv.predict(X_test)"
   ],
   "metadata": {
    "collapsed": false,
    "ExecuteTime": {
     "end_time": "2023-08-15T23:08:59.877835300Z",
     "start_time": "2023-08-15T23:08:29.518637400Z"
    }
   }
  },
  {
   "cell_type": "code",
   "execution_count": 22,
   "outputs": [
    {
     "name": "stdout",
     "output_type": "stream",
     "text": [
      "('related',)               precision    recall  f1-score   support\n",
      "\n",
      "           0       0.72      0.26      0.38      1482\n",
      "           1       0.81      0.97      0.88      5019\n",
      "           2       0.80      0.08      0.14        53\n",
      "\n",
      "    accuracy                           0.80      6554\n",
      "   macro avg       0.78      0.44      0.47      6554\n",
      "weighted avg       0.79      0.80      0.76      6554\n",
      "\n",
      "('request',)               precision    recall  f1-score   support\n",
      "\n",
      "           0       0.89      0.99      0.94      5408\n",
      "           1       0.89      0.42      0.58      1146\n",
      "\n",
      "    accuracy                           0.89      6554\n",
      "   macro avg       0.89      0.71      0.76      6554\n",
      "weighted avg       0.89      0.89      0.87      6554\n",
      "\n",
      "('offer',)               precision    recall  f1-score   support\n",
      "\n",
      "           0       1.00      1.00      1.00      6525\n",
      "           1       0.00      0.00      0.00        29\n",
      "\n",
      "    accuracy                           1.00      6554\n",
      "   macro avg       0.50      0.50      0.50      6554\n",
      "weighted avg       0.99      1.00      0.99      6554\n",
      "\n",
      "('aid_related',)               precision    recall  f1-score   support\n",
      "\n",
      "           0       0.76      0.88      0.82      3850\n",
      "           1       0.78      0.61      0.69      2704\n",
      "\n",
      "    accuracy                           0.77      6554\n",
      "   macro avg       0.77      0.75      0.75      6554\n",
      "weighted avg       0.77      0.77      0.76      6554\n",
      "\n",
      "('medical_help',)               precision    recall  f1-score   support\n",
      "\n",
      "           0       0.93      1.00      0.96      6043\n",
      "           1       0.62      0.05      0.09       511\n",
      "\n",
      "    accuracy                           0.92      6554\n",
      "   macro avg       0.77      0.52      0.52      6554\n",
      "weighted avg       0.90      0.92      0.89      6554\n",
      "\n",
      "('medical_products',)               precision    recall  f1-score   support\n",
      "\n",
      "           0       0.95      1.00      0.97      6215\n",
      "           1       0.71      0.07      0.13       339\n",
      "\n",
      "    accuracy                           0.95      6554\n",
      "   macro avg       0.83      0.54      0.55      6554\n",
      "weighted avg       0.94      0.95      0.93      6554\n",
      "\n",
      "('search_and_rescue',)               precision    recall  f1-score   support\n",
      "\n",
      "           0       0.97      1.00      0.99      6367\n",
      "           1       0.50      0.04      0.07       187\n",
      "\n",
      "    accuracy                           0.97      6554\n",
      "   macro avg       0.74      0.52      0.53      6554\n",
      "weighted avg       0.96      0.97      0.96      6554\n",
      "\n",
      "('security',)               precision    recall  f1-score   support\n",
      "\n",
      "           0       0.98      1.00      0.99      6427\n",
      "           1       0.40      0.02      0.03       127\n",
      "\n",
      "    accuracy                           0.98      6554\n",
      "   macro avg       0.69      0.51      0.51      6554\n",
      "weighted avg       0.97      0.98      0.97      6554\n",
      "\n"
     ]
    },
    {
     "name": "stderr",
     "output_type": "stream",
     "text": [
      "C:\\Users\\Just Me\\anaconda3\\lib\\site-packages\\sklearn\\metrics\\_classification.py:1344: UndefinedMetricWarning: Precision and F-score are ill-defined and being set to 0.0 in labels with no predicted samples. Use `zero_division` parameter to control this behavior.\n",
      "  _warn_prf(average, modifier, msg_start, len(result))\n",
      "C:\\Users\\Just Me\\anaconda3\\lib\\site-packages\\sklearn\\metrics\\_classification.py:1344: UndefinedMetricWarning: Precision and F-score are ill-defined and being set to 0.0 in labels with no predicted samples. Use `zero_division` parameter to control this behavior.\n",
      "  _warn_prf(average, modifier, msg_start, len(result))\n",
      "C:\\Users\\Just Me\\anaconda3\\lib\\site-packages\\sklearn\\metrics\\_classification.py:1344: UndefinedMetricWarning: Precision and F-score are ill-defined and being set to 0.0 in labels with no predicted samples. Use `zero_division` parameter to control this behavior.\n",
      "  _warn_prf(average, modifier, msg_start, len(result))\n"
     ]
    },
    {
     "name": "stdout",
     "output_type": "stream",
     "text": [
      "('military',)               precision    recall  f1-score   support\n",
      "\n",
      "           0       0.97      1.00      0.98      6334\n",
      "           1       0.62      0.05      0.08       220\n",
      "\n",
      "    accuracy                           0.97      6554\n",
      "   macro avg       0.80      0.52      0.53      6554\n",
      "weighted avg       0.96      0.97      0.95      6554\n",
      "\n",
      "('child_alone',)               precision    recall  f1-score   support\n",
      "\n",
      "           0       1.00      1.00      1.00      6554\n",
      "\n",
      "    accuracy                           1.00      6554\n",
      "   macro avg       1.00      1.00      1.00      6554\n",
      "weighted avg       1.00      1.00      1.00      6554\n",
      "\n",
      "('water',)               precision    recall  f1-score   support\n",
      "\n",
      "           0       0.95      1.00      0.97      6111\n",
      "           1       0.93      0.24      0.38       443\n",
      "\n",
      "    accuracy                           0.95      6554\n",
      "   macro avg       0.94      0.62      0.68      6554\n",
      "weighted avg       0.95      0.95      0.93      6554\n",
      "\n",
      "('food',)               precision    recall  f1-score   support\n",
      "\n",
      "           0       0.93      0.99      0.96      5812\n",
      "           1       0.89      0.40      0.55       742\n",
      "\n",
      "    accuracy                           0.93      6554\n",
      "   macro avg       0.91      0.70      0.76      6554\n",
      "weighted avg       0.92      0.93      0.91      6554\n",
      "\n",
      "('shelter',)               precision    recall  f1-score   support\n",
      "\n",
      "           0       0.93      1.00      0.96      5983\n",
      "           1       0.87      0.19      0.32       571\n",
      "\n",
      "    accuracy                           0.93      6554\n",
      "   macro avg       0.90      0.60      0.64      6554\n",
      "weighted avg       0.92      0.93      0.91      6554\n",
      "\n",
      "('clothing',)               precision    recall  f1-score   support\n",
      "\n",
      "           0       0.99      1.00      0.99      6451\n",
      "           1       0.86      0.06      0.11       103\n",
      "\n",
      "    accuracy                           0.99      6554\n",
      "   macro avg       0.92      0.53      0.55      6554\n",
      "weighted avg       0.98      0.99      0.98      6554\n",
      "\n",
      "('money',)               precision    recall  f1-score   support\n",
      "\n",
      "           0       0.98      1.00      0.99      6402\n",
      "           1       0.83      0.03      0.06       152\n",
      "\n",
      "    accuracy                           0.98      6554\n",
      "   macro avg       0.91      0.52      0.53      6554\n",
      "weighted avg       0.97      0.98      0.97      6554\n",
      "\n",
      "('missing_people',)               precision    recall  f1-score   support\n",
      "\n",
      "           0       0.99      1.00      0.99      6471\n",
      "           1       1.00      0.01      0.02        83\n",
      "\n",
      "    accuracy                           0.99      6554\n",
      "   macro avg       0.99      0.51      0.51      6554\n",
      "weighted avg       0.99      0.99      0.98      6554\n",
      "\n",
      "('refugees',)               precision    recall  f1-score   support\n",
      "\n",
      "           0       0.97      1.00      0.98      6335\n",
      "           1       0.60      0.04      0.08       219\n",
      "\n",
      "    accuracy                           0.97      6554\n",
      "   macro avg       0.78      0.52      0.53      6554\n",
      "weighted avg       0.96      0.97      0.95      6554\n",
      "\n",
      "('death',)               precision    recall  f1-score   support\n",
      "\n",
      "           0       0.96      1.00      0.98      6239\n",
      "           1       0.83      0.11      0.19       315\n",
      "\n",
      "    accuracy                           0.96      6554\n",
      "   macro avg       0.89      0.55      0.58      6554\n",
      "weighted avg       0.95      0.96      0.94      6554\n",
      "\n",
      "('other_aid',)               precision    recall  f1-score   support\n",
      "\n",
      "           0       0.87      1.00      0.93      5716\n",
      "           1       0.81      0.02      0.04       838\n",
      "\n",
      "    accuracy                           0.87      6554\n",
      "   macro avg       0.84      0.51      0.49      6554\n",
      "weighted avg       0.87      0.87      0.82      6554\n",
      "\n",
      "('infrastructure_related',)               precision    recall  f1-score   support\n",
      "\n",
      "           0       0.94      1.00      0.97      6131\n",
      "           1       0.25      0.00      0.00       423\n",
      "\n",
      "    accuracy                           0.94      6554\n",
      "   macro avg       0.59      0.50      0.49      6554\n",
      "weighted avg       0.89      0.94      0.90      6554\n",
      "\n",
      "('transport',)               precision    recall  f1-score   support\n",
      "\n",
      "           0       0.95      1.00      0.98      6240\n",
      "           1       0.65      0.05      0.09       314\n",
      "\n",
      "    accuracy                           0.95      6554\n",
      "   macro avg       0.80      0.52      0.53      6554\n",
      "weighted avg       0.94      0.95      0.93      6554\n",
      "\n",
      "('buildings',)               precision    recall  f1-score   support\n",
      "\n",
      "           0       0.95      1.00      0.97      6195\n",
      "           1       0.79      0.06      0.12       359\n",
      "\n",
      "    accuracy                           0.95      6554\n",
      "   macro avg       0.87      0.53      0.55      6554\n",
      "weighted avg       0.94      0.95      0.93      6554\n",
      "\n",
      "('electricity',)               precision    recall  f1-score   support\n",
      "\n",
      "           0       0.98      1.00      0.99      6424\n",
      "           1       0.67      0.02      0.03       130\n",
      "\n",
      "    accuracy                           0.98      6554\n",
      "   macro avg       0.82      0.51      0.51      6554\n",
      "weighted avg       0.97      0.98      0.97      6554\n",
      "\n",
      "('tools',)               precision    recall  f1-score   support\n",
      "\n",
      "           0       0.99      1.00      1.00      6512\n",
      "           1       0.00      0.00      0.00        42\n",
      "\n",
      "    accuracy                           0.99      6554\n",
      "   macro avg       0.50      0.50      0.50      6554\n",
      "weighted avg       0.99      0.99      0.99      6554\n",
      "\n",
      "('hospitals',)               precision    recall  f1-score   support\n",
      "\n",
      "           0       0.99      1.00      0.99      6488\n",
      "           1       0.00      0.00      0.00        66\n",
      "\n",
      "    accuracy                           0.99      6554\n",
      "   macro avg       0.49      0.50      0.50      6554\n",
      "weighted avg       0.98      0.99      0.98      6554\n",
      "\n",
      "('shops',)               precision    recall  f1-score   support\n",
      "\n",
      "           0       0.99      1.00      1.00      6519\n",
      "           1       0.00      0.00      0.00        35\n",
      "\n",
      "    accuracy                           0.99      6554\n",
      "   macro avg       0.50      0.50      0.50      6554\n",
      "weighted avg       0.99      0.99      0.99      6554\n",
      "\n",
      "('aid_centers',)               precision    recall  f1-score   support\n",
      "\n",
      "           0       0.99      1.00      0.99      6486\n",
      "           1       0.00      0.00      0.00        68\n",
      "\n",
      "    accuracy                           0.99      6554\n",
      "   macro avg       0.49      0.50      0.50      6554\n",
      "weighted avg       0.98      0.99      0.98      6554\n",
      "\n",
      "('other_infrastructure',)               precision    recall  f1-score   support\n",
      "\n",
      "           0       0.95      1.00      0.98      6257\n",
      "           1       0.00      0.00      0.00       297\n",
      "\n",
      "    accuracy                           0.95      6554\n",
      "   macro avg       0.48      0.50      0.49      6554\n",
      "weighted avg       0.91      0.95      0.93      6554\n",
      "\n"
     ]
    },
    {
     "name": "stderr",
     "output_type": "stream",
     "text": [
      "C:\\Users\\Just Me\\anaconda3\\lib\\site-packages\\sklearn\\metrics\\_classification.py:1344: UndefinedMetricWarning: Precision and F-score are ill-defined and being set to 0.0 in labels with no predicted samples. Use `zero_division` parameter to control this behavior.\n",
      "  _warn_prf(average, modifier, msg_start, len(result))\n",
      "C:\\Users\\Just Me\\anaconda3\\lib\\site-packages\\sklearn\\metrics\\_classification.py:1344: UndefinedMetricWarning: Precision and F-score are ill-defined and being set to 0.0 in labels with no predicted samples. Use `zero_division` parameter to control this behavior.\n",
      "  _warn_prf(average, modifier, msg_start, len(result))\n",
      "C:\\Users\\Just Me\\anaconda3\\lib\\site-packages\\sklearn\\metrics\\_classification.py:1344: UndefinedMetricWarning: Precision and F-score are ill-defined and being set to 0.0 in labels with no predicted samples. Use `zero_division` parameter to control this behavior.\n",
      "  _warn_prf(average, modifier, msg_start, len(result))\n",
      "C:\\Users\\Just Me\\anaconda3\\lib\\site-packages\\sklearn\\metrics\\_classification.py:1344: UndefinedMetricWarning: Precision and F-score are ill-defined and being set to 0.0 in labels with no predicted samples. Use `zero_division` parameter to control this behavior.\n",
      "  _warn_prf(average, modifier, msg_start, len(result))\n",
      "C:\\Users\\Just Me\\anaconda3\\lib\\site-packages\\sklearn\\metrics\\_classification.py:1344: UndefinedMetricWarning: Precision and F-score are ill-defined and being set to 0.0 in labels with no predicted samples. Use `zero_division` parameter to control this behavior.\n",
      "  _warn_prf(average, modifier, msg_start, len(result))\n",
      "C:\\Users\\Just Me\\anaconda3\\lib\\site-packages\\sklearn\\metrics\\_classification.py:1344: UndefinedMetricWarning: Precision and F-score are ill-defined and being set to 0.0 in labels with no predicted samples. Use `zero_division` parameter to control this behavior.\n",
      "  _warn_prf(average, modifier, msg_start, len(result))\n",
      "C:\\Users\\Just Me\\anaconda3\\lib\\site-packages\\sklearn\\metrics\\_classification.py:1344: UndefinedMetricWarning: Precision and F-score are ill-defined and being set to 0.0 in labels with no predicted samples. Use `zero_division` parameter to control this behavior.\n",
      "  _warn_prf(average, modifier, msg_start, len(result))\n",
      "C:\\Users\\Just Me\\anaconda3\\lib\\site-packages\\sklearn\\metrics\\_classification.py:1344: UndefinedMetricWarning: Precision and F-score are ill-defined and being set to 0.0 in labels with no predicted samples. Use `zero_division` parameter to control this behavior.\n",
      "  _warn_prf(average, modifier, msg_start, len(result))\n",
      "C:\\Users\\Just Me\\anaconda3\\lib\\site-packages\\sklearn\\metrics\\_classification.py:1344: UndefinedMetricWarning: Precision and F-score are ill-defined and being set to 0.0 in labels with no predicted samples. Use `zero_division` parameter to control this behavior.\n",
      "  _warn_prf(average, modifier, msg_start, len(result))\n",
      "C:\\Users\\Just Me\\anaconda3\\lib\\site-packages\\sklearn\\metrics\\_classification.py:1344: UndefinedMetricWarning: Precision and F-score are ill-defined and being set to 0.0 in labels with no predicted samples. Use `zero_division` parameter to control this behavior.\n",
      "  _warn_prf(average, modifier, msg_start, len(result))\n",
      "C:\\Users\\Just Me\\anaconda3\\lib\\site-packages\\sklearn\\metrics\\_classification.py:1344: UndefinedMetricWarning: Precision and F-score are ill-defined and being set to 0.0 in labels with no predicted samples. Use `zero_division` parameter to control this behavior.\n",
      "  _warn_prf(average, modifier, msg_start, len(result))\n",
      "C:\\Users\\Just Me\\anaconda3\\lib\\site-packages\\sklearn\\metrics\\_classification.py:1344: UndefinedMetricWarning: Precision and F-score are ill-defined and being set to 0.0 in labels with no predicted samples. Use `zero_division` parameter to control this behavior.\n",
      "  _warn_prf(average, modifier, msg_start, len(result))\n"
     ]
    },
    {
     "name": "stdout",
     "output_type": "stream",
     "text": [
      "('weather_related',)               precision    recall  f1-score   support\n",
      "\n",
      "           0       0.86      0.97      0.91      4723\n",
      "           1       0.87      0.59      0.71      1831\n",
      "\n",
      "    accuracy                           0.86      6554\n",
      "   macro avg       0.86      0.78      0.81      6554\n",
      "weighted avg       0.86      0.86      0.85      6554\n",
      "\n",
      "('floods',)               precision    recall  f1-score   support\n",
      "\n",
      "           0       0.95      1.00      0.97      6008\n",
      "           1       0.93      0.40      0.56       546\n",
      "\n",
      "    accuracy                           0.95      6554\n",
      "   macro avg       0.94      0.70      0.77      6554\n",
      "weighted avg       0.95      0.95      0.94      6554\n",
      "\n",
      "('storm',)               precision    recall  f1-score   support\n",
      "\n",
      "           0       0.94      0.99      0.96      5947\n",
      "           1       0.78      0.39      0.52       607\n",
      "\n",
      "    accuracy                           0.93      6554\n",
      "   macro avg       0.86      0.69      0.74      6554\n",
      "weighted avg       0.93      0.93      0.92      6554\n",
      "\n",
      "('fire',)               precision    recall  f1-score   support\n",
      "\n",
      "           0       0.99      1.00      0.99      6486\n",
      "           1       1.00      0.01      0.03        68\n",
      "\n",
      "    accuracy                           0.99      6554\n",
      "   macro avg       0.99      0.51      0.51      6554\n",
      "weighted avg       0.99      0.99      0.98      6554\n",
      "\n",
      "('earthquake',)               precision    recall  f1-score   support\n",
      "\n",
      "           0       0.97      0.99      0.98      5919\n",
      "           1       0.92      0.74      0.82       635\n",
      "\n",
      "    accuracy                           0.97      6554\n",
      "   macro avg       0.95      0.87      0.90      6554\n",
      "weighted avg       0.97      0.97      0.97      6554\n",
      "\n",
      "('cold',)               precision    recall  f1-score   support\n",
      "\n",
      "           0       0.98      1.00      0.99      6421\n",
      "           1       0.93      0.10      0.18       133\n",
      "\n",
      "    accuracy                           0.98      6554\n",
      "   macro avg       0.96      0.55      0.58      6554\n",
      "weighted avg       0.98      0.98      0.97      6554\n",
      "\n",
      "('other_weather',)               precision    recall  f1-score   support\n",
      "\n",
      "           0       0.95      1.00      0.97      6229\n",
      "           1       0.62      0.02      0.03       325\n",
      "\n",
      "    accuracy                           0.95      6554\n",
      "   macro avg       0.79      0.51      0.50      6554\n",
      "weighted avg       0.93      0.95      0.93      6554\n",
      "\n",
      "('direct_report',)               precision    recall  f1-score   support\n",
      "\n",
      "           0       0.86      0.99      0.92      5251\n",
      "           1       0.88      0.35      0.50      1303\n",
      "\n",
      "    accuracy                           0.86      6554\n",
      "   macro avg       0.87      0.67      0.71      6554\n",
      "weighted avg       0.86      0.86      0.84      6554\n",
      "\n"
     ]
    }
   ],
   "source": [
    "# Test the model using the test and prediction dataset\n",
    "test_model(y_test, y_pred)"
   ],
   "metadata": {
    "collapsed": false,
    "ExecuteTime": {
     "end_time": "2023-08-15T23:09:01.377706500Z",
     "start_time": "2023-08-15T23:08:59.881997Z"
    }
   }
  },
  {
   "cell_type": "code",
   "execution_count": 23,
   "outputs": [
    {
     "data": {
      "text/plain": "('related',)                   0.802106\n('request',)                   0.890601\n('offer',)                     0.995575\n('aid_related',)               0.769759\n('medical_help',)              0.923406\n('medical_products',)          0.950565\n('search_and_rescue',)         0.971468\n('security',)                  0.980470\n('military',)                  0.967043\n('child_alone',)               1.000000\n('water',)                     0.947208\n('food',)                      0.926457\n('shelter',)                   0.927373\n('clothing',)                  0.985047\n('money',)                     0.977418\n('missing_people',)            0.987489\n('refugees',)                  0.967043\n('death',)                     0.956057\n('other_aid',)                 0.874123\n('infrastructure_related',)    0.935154\n('transport',)                 0.953158\n('buildings',)                 0.947818\n('electricity',)               0.980317\n('tools',)                     0.993592\n('hospitals',)                 0.989930\n('shops',)                     0.994660\n('aid_centers',)               0.989625\n('other_infrastructure',)      0.953921\n('weather_related',)           0.861611\n('floods',)                    0.947818\n('storm',)                     0.933171\n('fire',)                      0.989777\n('earthquake',)                0.968264\n('cold',)                      0.981538\n('other_weather',)             0.950717\n('direct_report',)             0.860848\ndtype: float64"
     },
     "execution_count": 23,
     "metadata": {},
     "output_type": "execute_result"
    }
   ],
   "source": [
    "# Displaying the accuracy score\n",
    "accuracy = (y_pred == y_test).mean()\n",
    "accuracy"
   ],
   "metadata": {
    "collapsed": false,
    "ExecuteTime": {
     "end_time": "2023-08-15T23:09:01.660935900Z",
     "start_time": "2023-08-15T23:09:01.379760800Z"
    }
   }
  },
  {
   "cell_type": "markdown",
   "source": [
    "### 8. Try improving your model further."
   ],
   "metadata": {
    "collapsed": false
   }
  },
  {
   "cell_type": "code",
   "execution_count": 24,
   "outputs": [
    {
     "name": "stderr",
     "output_type": "stream",
     "text": [
      "[nltk_data] Downloading package punkt to C:\\Users\\Just\n",
      "[nltk_data]     Me\\AppData\\Roaming\\nltk_data...\n",
      "[nltk_data]   Package punkt is already up-to-date!\n",
      "[nltk_data] Downloading package wordnet to C:\\Users\\Just\n",
      "[nltk_data]     Me\\AppData\\Roaming\\nltk_data...\n",
      "[nltk_data]   Package wordnet is already up-to-date!\n",
      "[nltk_data] Downloading package averaged_perceptron_tagger to\n",
      "[nltk_data]     C:\\Users\\Just Me\\AppData\\Roaming\\nltk_data...\n",
      "[nltk_data]   Package averaged_perceptron_tagger is already up-to-\n",
      "[nltk_data]       date!\n",
      "C:\\Users\\Just Me\\anaconda3\\lib\\site-packages\\sklearn\\feature_extraction\\text.py:528: UserWarning: The parameter 'token_pattern' will not be used since 'tokenizer' is not None'\n",
      "  warnings.warn(\n"
     ]
    },
    {
     "data": {
      "text/plain": "Pipeline(steps=[('features',\n                 FeatureUnion(transformer_list=[('text_pipeline',\n                                                 Pipeline(steps=[('vect',\n                                                                  CountVectorizer(tokenizer=<function tokenize at 0x0000018C7EF748B0>)),\n                                                                 ('tfidf',\n                                                                  TfidfTransformer())])),\n                                                ('starting_verb',\n                                                 StartingVerbExtractor())])),\n                ('clf',\n                 MultiOutputClassifier(estimator=RandomForestClassifier()))])",
      "text/html": "<style>#sk-container-id-4 {color: black;background-color: white;}#sk-container-id-4 pre{padding: 0;}#sk-container-id-4 div.sk-toggleable {background-color: white;}#sk-container-id-4 label.sk-toggleable__label {cursor: pointer;display: block;width: 100%;margin-bottom: 0;padding: 0.3em;box-sizing: border-box;text-align: center;}#sk-container-id-4 label.sk-toggleable__label-arrow:before {content: \"▸\";float: left;margin-right: 0.25em;color: #696969;}#sk-container-id-4 label.sk-toggleable__label-arrow:hover:before {color: black;}#sk-container-id-4 div.sk-estimator:hover label.sk-toggleable__label-arrow:before {color: black;}#sk-container-id-4 div.sk-toggleable__content {max-height: 0;max-width: 0;overflow: hidden;text-align: left;background-color: #f0f8ff;}#sk-container-id-4 div.sk-toggleable__content pre {margin: 0.2em;color: black;border-radius: 0.25em;background-color: #f0f8ff;}#sk-container-id-4 input.sk-toggleable__control:checked~div.sk-toggleable__content {max-height: 200px;max-width: 100%;overflow: auto;}#sk-container-id-4 input.sk-toggleable__control:checked~label.sk-toggleable__label-arrow:before {content: \"▾\";}#sk-container-id-4 div.sk-estimator input.sk-toggleable__control:checked~label.sk-toggleable__label {background-color: #d4ebff;}#sk-container-id-4 div.sk-label input.sk-toggleable__control:checked~label.sk-toggleable__label {background-color: #d4ebff;}#sk-container-id-4 input.sk-hidden--visually {border: 0;clip: rect(1px 1px 1px 1px);clip: rect(1px, 1px, 1px, 1px);height: 1px;margin: -1px;overflow: hidden;padding: 0;position: absolute;width: 1px;}#sk-container-id-4 div.sk-estimator {font-family: monospace;background-color: #f0f8ff;border: 1px dotted black;border-radius: 0.25em;box-sizing: border-box;margin-bottom: 0.5em;}#sk-container-id-4 div.sk-estimator:hover {background-color: #d4ebff;}#sk-container-id-4 div.sk-parallel-item::after {content: \"\";width: 100%;border-bottom: 1px solid gray;flex-grow: 1;}#sk-container-id-4 div.sk-label:hover label.sk-toggleable__label {background-color: #d4ebff;}#sk-container-id-4 div.sk-serial::before {content: \"\";position: absolute;border-left: 1px solid gray;box-sizing: border-box;top: 0;bottom: 0;left: 50%;z-index: 0;}#sk-container-id-4 div.sk-serial {display: flex;flex-direction: column;align-items: center;background-color: white;padding-right: 0.2em;padding-left: 0.2em;position: relative;}#sk-container-id-4 div.sk-item {position: relative;z-index: 1;}#sk-container-id-4 div.sk-parallel {display: flex;align-items: stretch;justify-content: center;background-color: white;position: relative;}#sk-container-id-4 div.sk-item::before, #sk-container-id-4 div.sk-parallel-item::before {content: \"\";position: absolute;border-left: 1px solid gray;box-sizing: border-box;top: 0;bottom: 0;left: 50%;z-index: -1;}#sk-container-id-4 div.sk-parallel-item {display: flex;flex-direction: column;z-index: 1;position: relative;background-color: white;}#sk-container-id-4 div.sk-parallel-item:first-child::after {align-self: flex-end;width: 50%;}#sk-container-id-4 div.sk-parallel-item:last-child::after {align-self: flex-start;width: 50%;}#sk-container-id-4 div.sk-parallel-item:only-child::after {width: 0;}#sk-container-id-4 div.sk-dashed-wrapped {border: 1px dashed gray;margin: 0 0.4em 0.5em 0.4em;box-sizing: border-box;padding-bottom: 0.4em;background-color: white;}#sk-container-id-4 div.sk-label label {font-family: monospace;font-weight: bold;display: inline-block;line-height: 1.2em;}#sk-container-id-4 div.sk-label-container {text-align: center;}#sk-container-id-4 div.sk-container {/* jupyter's `normalize.less` sets `[hidden] { display: none; }` but bootstrap.min.css set `[hidden] { display: none !important; }` so we also need the `!important` here to be able to override the default hidden behavior on the sphinx rendered scikit-learn.org. See: https://github.com/scikit-learn/scikit-learn/issues/21755 */display: inline-block !important;position: relative;}#sk-container-id-4 div.sk-text-repr-fallback {display: none;}</style><div id=\"sk-container-id-4\" class=\"sk-top-container\"><div class=\"sk-text-repr-fallback\"><pre>Pipeline(steps=[(&#x27;features&#x27;,\n                 FeatureUnion(transformer_list=[(&#x27;text_pipeline&#x27;,\n                                                 Pipeline(steps=[(&#x27;vect&#x27;,\n                                                                  CountVectorizer(tokenizer=&lt;function tokenize at 0x0000018C7EF748B0&gt;)),\n                                                                 (&#x27;tfidf&#x27;,\n                                                                  TfidfTransformer())])),\n                                                (&#x27;starting_verb&#x27;,\n                                                 StartingVerbExtractor())])),\n                (&#x27;clf&#x27;,\n                 MultiOutputClassifier(estimator=RandomForestClassifier()))])</pre><b>In a Jupyter environment, please rerun this cell to show the HTML representation or trust the notebook. <br />On GitHub, the HTML representation is unable to render, please try loading this page with nbviewer.org.</b></div><div class=\"sk-container\" hidden><div class=\"sk-item sk-dashed-wrapped\"><div class=\"sk-label-container\"><div class=\"sk-label sk-toggleable\"><input class=\"sk-toggleable__control sk-hidden--visually\" id=\"sk-estimator-id-21\" type=\"checkbox\" ><label for=\"sk-estimator-id-21\" class=\"sk-toggleable__label sk-toggleable__label-arrow\">Pipeline</label><div class=\"sk-toggleable__content\"><pre>Pipeline(steps=[(&#x27;features&#x27;,\n                 FeatureUnion(transformer_list=[(&#x27;text_pipeline&#x27;,\n                                                 Pipeline(steps=[(&#x27;vect&#x27;,\n                                                                  CountVectorizer(tokenizer=&lt;function tokenize at 0x0000018C7EF748B0&gt;)),\n                                                                 (&#x27;tfidf&#x27;,\n                                                                  TfidfTransformer())])),\n                                                (&#x27;starting_verb&#x27;,\n                                                 StartingVerbExtractor())])),\n                (&#x27;clf&#x27;,\n                 MultiOutputClassifier(estimator=RandomForestClassifier()))])</pre></div></div></div><div class=\"sk-serial\"><div class=\"sk-item sk-dashed-wrapped\"><div class=\"sk-label-container\"><div class=\"sk-label sk-toggleable\"><input class=\"sk-toggleable__control sk-hidden--visually\" id=\"sk-estimator-id-22\" type=\"checkbox\" ><label for=\"sk-estimator-id-22\" class=\"sk-toggleable__label sk-toggleable__label-arrow\">features: FeatureUnion</label><div class=\"sk-toggleable__content\"><pre>FeatureUnion(transformer_list=[(&#x27;text_pipeline&#x27;,\n                                Pipeline(steps=[(&#x27;vect&#x27;,\n                                                 CountVectorizer(tokenizer=&lt;function tokenize at 0x0000018C7EF748B0&gt;)),\n                                                (&#x27;tfidf&#x27;,\n                                                 TfidfTransformer())])),\n                               (&#x27;starting_verb&#x27;, StartingVerbExtractor())])</pre></div></div></div><div class=\"sk-parallel\"><div class=\"sk-parallel-item\"><div class=\"sk-item\"><div class=\"sk-label-container\"><div class=\"sk-label sk-toggleable\"><label>text_pipeline</label></div></div><div class=\"sk-serial\"><div class=\"sk-item\"><div class=\"sk-serial\"><div class=\"sk-item\"><div class=\"sk-estimator sk-toggleable\"><input class=\"sk-toggleable__control sk-hidden--visually\" id=\"sk-estimator-id-23\" type=\"checkbox\" ><label for=\"sk-estimator-id-23\" class=\"sk-toggleable__label sk-toggleable__label-arrow\">CountVectorizer</label><div class=\"sk-toggleable__content\"><pre>CountVectorizer(tokenizer=&lt;function tokenize at 0x0000018C7EF748B0&gt;)</pre></div></div></div><div class=\"sk-item\"><div class=\"sk-estimator sk-toggleable\"><input class=\"sk-toggleable__control sk-hidden--visually\" id=\"sk-estimator-id-24\" type=\"checkbox\" ><label for=\"sk-estimator-id-24\" class=\"sk-toggleable__label sk-toggleable__label-arrow\">TfidfTransformer</label><div class=\"sk-toggleable__content\"><pre>TfidfTransformer()</pre></div></div></div></div></div></div></div></div><div class=\"sk-parallel-item\"><div class=\"sk-item\"><div class=\"sk-label-container\"><div class=\"sk-label sk-toggleable\"><label>starting_verb</label></div></div><div class=\"sk-serial\"><div class=\"sk-item\"><div class=\"sk-estimator sk-toggleable\"><input class=\"sk-toggleable__control sk-hidden--visually\" id=\"sk-estimator-id-25\" type=\"checkbox\" ><label for=\"sk-estimator-id-25\" class=\"sk-toggleable__label sk-toggleable__label-arrow\">StartingVerbExtractor</label><div class=\"sk-toggleable__content\"><pre>StartingVerbExtractor()</pre></div></div></div></div></div></div></div></div><div class=\"sk-item sk-dashed-wrapped\"><div class=\"sk-label-container\"><div class=\"sk-label sk-toggleable\"><input class=\"sk-toggleable__control sk-hidden--visually\" id=\"sk-estimator-id-26\" type=\"checkbox\" ><label for=\"sk-estimator-id-26\" class=\"sk-toggleable__label sk-toggleable__label-arrow\">clf: MultiOutputClassifier</label><div class=\"sk-toggleable__content\"><pre>MultiOutputClassifier(estimator=RandomForestClassifier())</pre></div></div></div><div class=\"sk-parallel\"><div class=\"sk-parallel-item\"><div class=\"sk-item\"><div class=\"sk-label-container\"><div class=\"sk-label sk-toggleable\"><input class=\"sk-toggleable__control sk-hidden--visually\" id=\"sk-estimator-id-27\" type=\"checkbox\" ><label for=\"sk-estimator-id-27\" class=\"sk-toggleable__label sk-toggleable__label-arrow\">estimator: RandomForestClassifier</label><div class=\"sk-toggleable__content\"><pre>RandomForestClassifier()</pre></div></div></div><div class=\"sk-serial\"><div class=\"sk-item\"><div class=\"sk-estimator sk-toggleable\"><input class=\"sk-toggleable__control sk-hidden--visually\" id=\"sk-estimator-id-28\" type=\"checkbox\" ><label for=\"sk-estimator-id-28\" class=\"sk-toggleable__label sk-toggleable__label-arrow\">RandomForestClassifier</label><div class=\"sk-toggleable__content\"><pre>RandomForestClassifier()</pre></div></div></div></div></div></div></div></div></div></div></div></div>"
     },
     "execution_count": 24,
     "metadata": {},
     "output_type": "execute_result"
    }
   ],
   "source": [
    "from custom_transformer import StartingVerbExtractor\n",
    "from sklearn import multioutput\n",
    "\n",
    "#trying to add another feature.\n",
    "\n",
    "upd_pipeline = Pipeline([\n",
    "    ('features', FeatureUnion ([\n",
    "\n",
    "        ('text_pipeline', Pipeline ([\n",
    "            ('vect', CountVectorizer(tokenizer=tokenize)),\n",
    "            ('tfidf', TfidfTransformer())\n",
    "        ])),\n",
    "        ('starting_verb', StartingVerbExtractor ())\n",
    "    ])),\n",
    "\n",
    "    ('clf', multioutput.MultiOutputClassifier (RandomForestClassifier ()))\n",
    "])\n",
    "\n",
    "# train SVM classifier\n",
    "upd_pipeline.fit(X_train, y_train)\n"
   ],
   "metadata": {
    "collapsed": false,
    "ExecuteTime": {
     "end_time": "2023-08-15T23:35:30.398013800Z",
     "start_time": "2023-08-15T23:09:01.690737Z"
    }
   }
  },
  {
   "cell_type": "code",
   "execution_count": 25,
   "outputs": [],
   "source": [
    "y_pred_upd = upd_pipeline.predict (X_test)\n",
    "#converting to dataframe\n",
    "y_pred_upd = pd.DataFrame (y_pred_upd, columns = y_test.columns)"
   ],
   "metadata": {
    "collapsed": false,
    "ExecuteTime": {
     "end_time": "2023-08-15T23:36:24.635929800Z",
     "start_time": "2023-08-15T23:35:30.375628200Z"
    }
   }
  },
  {
   "cell_type": "markdown",
   "source": [
    "### 9. Export your model as a pickle file"
   ],
   "metadata": {
    "collapsed": false
   }
  },
  {
   "cell_type": "code",
   "execution_count": 26,
   "outputs": [],
   "source": [
    "filename = 'classifier.pkl'\n",
    "pickle.dump(cv, open(filename, 'wb'))"
   ],
   "metadata": {
    "collapsed": false,
    "ExecuteTime": {
     "end_time": "2023-08-16T00:21:38.832946800Z",
     "start_time": "2023-08-16T00:20:43.731658600Z"
    }
   }
  }
 ],
 "metadata": {
  "kernelspec": {
   "display_name": "Python 3",
   "language": "python",
   "name": "python3"
  },
  "language_info": {
   "codemirror_mode": {
    "name": "ipython",
    "version": 2
   },
   "file_extension": ".py",
   "mimetype": "text/x-python",
   "name": "python",
   "nbconvert_exporter": "python",
   "pygments_lexer": "ipython2",
   "version": "2.7.6"
  }
 },
 "nbformat": 4,
 "nbformat_minor": 0
}
