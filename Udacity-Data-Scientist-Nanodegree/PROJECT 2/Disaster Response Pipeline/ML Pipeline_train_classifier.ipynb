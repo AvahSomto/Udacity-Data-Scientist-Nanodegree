{
 "cells": [
  {
   "cell_type": "markdown",
   "source": [
    "# ML Pipeline"
   ],
   "metadata": {
    "collapsed": false
   }
  },
  {
   "cell_type": "markdown",
   "source": [
    "### 1. Import libraries and load data from database."
   ],
   "metadata": {
    "collapsed": false
   }
  },
  {
   "cell_type": "code",
   "execution_count": 1,
   "outputs": [
    {
     "name": "stderr",
     "output_type": "stream",
     "text": [
      "[nltk_data] Downloading package punkt to C:\\Users\\Just\n",
      "[nltk_data]     Me\\AppData\\Roaming\\nltk_data...\n",
      "[nltk_data]   Package punkt is already up-to-date!\n",
      "[nltk_data] Downloading package wordnet to C:\\Users\\Just\n",
      "[nltk_data]     Me\\AppData\\Roaming\\nltk_data...\n",
      "[nltk_data]   Package wordnet is already up-to-date!\n"
     ]
    },
    {
     "data": {
      "text/plain": "True"
     },
     "execution_count": 1,
     "metadata": {},
     "output_type": "execute_result"
    }
   ],
   "source": [
    "# import libraries\n",
    "import pandas as pd\n",
    "import numpy as np\n",
    "import pickle\n",
    "import sqlite3\n",
    "import sqlalchemy\n",
    "from sqlalchemy import create_engine\n",
    "import matplotlib.pyplot as plt\n",
    "%matplotlib inline\n",
    "import nltk\n",
    "from nltk.tokenize import word_tokenize\n",
    "from nltk.stem import WordNetLemmatizer\n",
    "from sklearn.model_selection import GridSearchCV\n",
    "from sklearn.datasets import make_multilabel_classification\n",
    "from sklearn.multioutput import MultiOutputClassifier\n",
    "from sklearn.ensemble import RandomForestClassifier\n",
    "from sklearn.pipeline import Pipeline, FeatureUnion\n",
    "from sklearn.feature_extraction.text import CountVectorizer, TfidfTransformer\n",
    "from sklearn.model_selection import train_test_split\n",
    "from sklearn.metrics import classification_report\n",
    "\n",
    "\n",
    "nltk.download(['punkt', 'wordnet'])"
   ],
   "metadata": {
    "collapsed": false,
    "ExecuteTime": {
     "end_time": "2023-08-17T04:40:18.136199Z",
     "start_time": "2023-08-17T04:40:07.580033500Z"
    }
   }
  },
  {
   "cell_type": "code",
   "execution_count": 2,
   "outputs": [],
   "source": [
    "# load data from database\n",
    "engine = create_engine('sqlite:///DisasterResponse.db')\n",
    "df = pd.read_sql_table(\"disaster_messages\", con=engine)"
   ],
   "metadata": {
    "collapsed": false,
    "ExecuteTime": {
     "end_time": "2023-08-17T04:40:20.480228100Z",
     "start_time": "2023-08-17T04:40:18.118400600Z"
    }
   }
  },
  {
   "cell_type": "code",
   "execution_count": 3,
   "outputs": [],
   "source": [
    "# Display df dataframe\n",
    "df = pd.read_sql(\"SELECT * from disaster_messages\",con=engine)"
   ],
   "metadata": {
    "collapsed": false,
    "ExecuteTime": {
     "end_time": "2023-08-17T04:40:22.409753600Z",
     "start_time": "2023-08-17T04:40:20.483211100Z"
    }
   }
  },
  {
   "cell_type": "code",
   "execution_count": 4,
   "outputs": [],
   "source": [
    "X = df['message']\n",
    "y = df.iloc[:, 4:]"
   ],
   "metadata": {
    "collapsed": false,
    "ExecuteTime": {
     "end_time": "2023-08-17T04:40:22.429700200Z",
     "start_time": "2023-08-17T04:40:22.408756100Z"
    }
   }
  },
  {
   "cell_type": "markdown",
   "source": [
    "### 2. Write a tokenization function to process your text data"
   ],
   "metadata": {
    "collapsed": false
   }
  },
  {
   "cell_type": "code",
   "execution_count": 5,
   "outputs": [],
   "source": [
    "# Tokenization function\n",
    "def tokenize(disaster_text):\n",
    "\n",
    "    \"\"\"\n",
    "    Function to tokenize text.\n",
    "    \"\"\"\n",
    "\n",
    "    tokens = word_tokenize(disaster_text)\n",
    "    lemmatizer = WordNetLemmatizer()\n",
    "\n",
    "    clean_tokens=[]\n",
    "    for tok in tokens:\n",
    "        clean_tok = lemmatizer.lemmatize(tok).lower().strip()\n",
    "        clean_tokens.append(clean_tok)\n",
    "\n",
    "    return clean_tokens"
   ],
   "metadata": {
    "collapsed": false,
    "ExecuteTime": {
     "end_time": "2023-08-17T04:40:22.735061Z",
     "start_time": "2023-08-17T04:40:22.435683600Z"
    }
   }
  },
  {
   "cell_type": "markdown",
   "source": [
    "### 3. Build a machine learning pipeline"
   ],
   "metadata": {
    "collapsed": false
   }
  },
  {
   "cell_type": "code",
   "execution_count": 6,
   "outputs": [],
   "source": [
    "# Building an ML pipeline\n",
    "pipeline = Pipeline([\n",
    "    ('vect', CountVectorizer(tokenizer=tokenize)),\n",
    "    ('tfidf', TfidfTransformer()),\n",
    "    ('clf', MultiOutputClassifier(RandomForestClassifier()))\n",
    "])"
   ],
   "metadata": {
    "collapsed": false,
    "ExecuteTime": {
     "end_time": "2023-08-17T04:40:22.735061Z",
     "start_time": "2023-08-17T04:40:22.720101Z"
    }
   }
  },
  {
   "cell_type": "markdown",
   "source": [
    "### 4. Train pipeline"
   ],
   "metadata": {
    "collapsed": false
   }
  },
  {
   "cell_type": "code",
   "execution_count": 7,
   "outputs": [],
   "source": [
    "# Splitting data into train and test sets\n",
    "X_train, X_test, y_train, y_test = train_test_split(X,y)"
   ],
   "metadata": {
    "collapsed": false,
    "ExecuteTime": {
     "end_time": "2023-08-17T04:40:22.736058Z",
     "start_time": "2023-08-17T04:40:22.720101Z"
    }
   }
  },
  {
   "cell_type": "code",
   "execution_count": 8,
   "outputs": [
    {
     "name": "stderr",
     "output_type": "stream",
     "text": [
      "C:\\Users\\Just Me\\anaconda3\\lib\\site-packages\\sklearn\\feature_extraction\\text.py:528: UserWarning: The parameter 'token_pattern' will not be used since 'tokenizer' is not None'\n",
      "  warnings.warn(\n"
     ]
    },
    {
     "data": {
      "text/plain": "Pipeline(steps=[('vect',\n                 CountVectorizer(tokenizer=<function tokenize at 0x000001B4C637EC20>)),\n                ('tfidf', TfidfTransformer()),\n                ('clf',\n                 MultiOutputClassifier(estimator=RandomForestClassifier()))])",
      "text/html": "<style>#sk-container-id-1 {color: black;background-color: white;}#sk-container-id-1 pre{padding: 0;}#sk-container-id-1 div.sk-toggleable {background-color: white;}#sk-container-id-1 label.sk-toggleable__label {cursor: pointer;display: block;width: 100%;margin-bottom: 0;padding: 0.3em;box-sizing: border-box;text-align: center;}#sk-container-id-1 label.sk-toggleable__label-arrow:before {content: \"▸\";float: left;margin-right: 0.25em;color: #696969;}#sk-container-id-1 label.sk-toggleable__label-arrow:hover:before {color: black;}#sk-container-id-1 div.sk-estimator:hover label.sk-toggleable__label-arrow:before {color: black;}#sk-container-id-1 div.sk-toggleable__content {max-height: 0;max-width: 0;overflow: hidden;text-align: left;background-color: #f0f8ff;}#sk-container-id-1 div.sk-toggleable__content pre {margin: 0.2em;color: black;border-radius: 0.25em;background-color: #f0f8ff;}#sk-container-id-1 input.sk-toggleable__control:checked~div.sk-toggleable__content {max-height: 200px;max-width: 100%;overflow: auto;}#sk-container-id-1 input.sk-toggleable__control:checked~label.sk-toggleable__label-arrow:before {content: \"▾\";}#sk-container-id-1 div.sk-estimator input.sk-toggleable__control:checked~label.sk-toggleable__label {background-color: #d4ebff;}#sk-container-id-1 div.sk-label input.sk-toggleable__control:checked~label.sk-toggleable__label {background-color: #d4ebff;}#sk-container-id-1 input.sk-hidden--visually {border: 0;clip: rect(1px 1px 1px 1px);clip: rect(1px, 1px, 1px, 1px);height: 1px;margin: -1px;overflow: hidden;padding: 0;position: absolute;width: 1px;}#sk-container-id-1 div.sk-estimator {font-family: monospace;background-color: #f0f8ff;border: 1px dotted black;border-radius: 0.25em;box-sizing: border-box;margin-bottom: 0.5em;}#sk-container-id-1 div.sk-estimator:hover {background-color: #d4ebff;}#sk-container-id-1 div.sk-parallel-item::after {content: \"\";width: 100%;border-bottom: 1px solid gray;flex-grow: 1;}#sk-container-id-1 div.sk-label:hover label.sk-toggleable__label {background-color: #d4ebff;}#sk-container-id-1 div.sk-serial::before {content: \"\";position: absolute;border-left: 1px solid gray;box-sizing: border-box;top: 0;bottom: 0;left: 50%;z-index: 0;}#sk-container-id-1 div.sk-serial {display: flex;flex-direction: column;align-items: center;background-color: white;padding-right: 0.2em;padding-left: 0.2em;position: relative;}#sk-container-id-1 div.sk-item {position: relative;z-index: 1;}#sk-container-id-1 div.sk-parallel {display: flex;align-items: stretch;justify-content: center;background-color: white;position: relative;}#sk-container-id-1 div.sk-item::before, #sk-container-id-1 div.sk-parallel-item::before {content: \"\";position: absolute;border-left: 1px solid gray;box-sizing: border-box;top: 0;bottom: 0;left: 50%;z-index: -1;}#sk-container-id-1 div.sk-parallel-item {display: flex;flex-direction: column;z-index: 1;position: relative;background-color: white;}#sk-container-id-1 div.sk-parallel-item:first-child::after {align-self: flex-end;width: 50%;}#sk-container-id-1 div.sk-parallel-item:last-child::after {align-self: flex-start;width: 50%;}#sk-container-id-1 div.sk-parallel-item:only-child::after {width: 0;}#sk-container-id-1 div.sk-dashed-wrapped {border: 1px dashed gray;margin: 0 0.4em 0.5em 0.4em;box-sizing: border-box;padding-bottom: 0.4em;background-color: white;}#sk-container-id-1 div.sk-label label {font-family: monospace;font-weight: bold;display: inline-block;line-height: 1.2em;}#sk-container-id-1 div.sk-label-container {text-align: center;}#sk-container-id-1 div.sk-container {/* jupyter's `normalize.less` sets `[hidden] { display: none; }` but bootstrap.min.css set `[hidden] { display: none !important; }` so we also need the `!important` here to be able to override the default hidden behavior on the sphinx rendered scikit-learn.org. See: https://github.com/scikit-learn/scikit-learn/issues/21755 */display: inline-block !important;position: relative;}#sk-container-id-1 div.sk-text-repr-fallback {display: none;}</style><div id=\"sk-container-id-1\" class=\"sk-top-container\"><div class=\"sk-text-repr-fallback\"><pre>Pipeline(steps=[(&#x27;vect&#x27;,\n                 CountVectorizer(tokenizer=&lt;function tokenize at 0x000001B4C637EC20&gt;)),\n                (&#x27;tfidf&#x27;, TfidfTransformer()),\n                (&#x27;clf&#x27;,\n                 MultiOutputClassifier(estimator=RandomForestClassifier()))])</pre><b>In a Jupyter environment, please rerun this cell to show the HTML representation or trust the notebook. <br />On GitHub, the HTML representation is unable to render, please try loading this page with nbviewer.org.</b></div><div class=\"sk-container\" hidden><div class=\"sk-item sk-dashed-wrapped\"><div class=\"sk-label-container\"><div class=\"sk-label sk-toggleable\"><input class=\"sk-toggleable__control sk-hidden--visually\" id=\"sk-estimator-id-1\" type=\"checkbox\" ><label for=\"sk-estimator-id-1\" class=\"sk-toggleable__label sk-toggleable__label-arrow\">Pipeline</label><div class=\"sk-toggleable__content\"><pre>Pipeline(steps=[(&#x27;vect&#x27;,\n                 CountVectorizer(tokenizer=&lt;function tokenize at 0x000001B4C637EC20&gt;)),\n                (&#x27;tfidf&#x27;, TfidfTransformer()),\n                (&#x27;clf&#x27;,\n                 MultiOutputClassifier(estimator=RandomForestClassifier()))])</pre></div></div></div><div class=\"sk-serial\"><div class=\"sk-item\"><div class=\"sk-estimator sk-toggleable\"><input class=\"sk-toggleable__control sk-hidden--visually\" id=\"sk-estimator-id-2\" type=\"checkbox\" ><label for=\"sk-estimator-id-2\" class=\"sk-toggleable__label sk-toggleable__label-arrow\">CountVectorizer</label><div class=\"sk-toggleable__content\"><pre>CountVectorizer(tokenizer=&lt;function tokenize at 0x000001B4C637EC20&gt;)</pre></div></div></div><div class=\"sk-item\"><div class=\"sk-estimator sk-toggleable\"><input class=\"sk-toggleable__control sk-hidden--visually\" id=\"sk-estimator-id-3\" type=\"checkbox\" ><label for=\"sk-estimator-id-3\" class=\"sk-toggleable__label sk-toggleable__label-arrow\">TfidfTransformer</label><div class=\"sk-toggleable__content\"><pre>TfidfTransformer()</pre></div></div></div><div class=\"sk-item sk-dashed-wrapped\"><div class=\"sk-label-container\"><div class=\"sk-label sk-toggleable\"><input class=\"sk-toggleable__control sk-hidden--visually\" id=\"sk-estimator-id-4\" type=\"checkbox\" ><label for=\"sk-estimator-id-4\" class=\"sk-toggleable__label sk-toggleable__label-arrow\">clf: MultiOutputClassifier</label><div class=\"sk-toggleable__content\"><pre>MultiOutputClassifier(estimator=RandomForestClassifier())</pre></div></div></div><div class=\"sk-parallel\"><div class=\"sk-parallel-item\"><div class=\"sk-item\"><div class=\"sk-label-container\"><div class=\"sk-label sk-toggleable\"><input class=\"sk-toggleable__control sk-hidden--visually\" id=\"sk-estimator-id-5\" type=\"checkbox\" ><label for=\"sk-estimator-id-5\" class=\"sk-toggleable__label sk-toggleable__label-arrow\">estimator: RandomForestClassifier</label><div class=\"sk-toggleable__content\"><pre>RandomForestClassifier()</pre></div></div></div><div class=\"sk-serial\"><div class=\"sk-item\"><div class=\"sk-estimator sk-toggleable\"><input class=\"sk-toggleable__control sk-hidden--visually\" id=\"sk-estimator-id-6\" type=\"checkbox\" ><label for=\"sk-estimator-id-6\" class=\"sk-toggleable__label sk-toggleable__label-arrow\">RandomForestClassifier</label><div class=\"sk-toggleable__content\"><pre>RandomForestClassifier()</pre></div></div></div></div></div></div></div></div></div></div></div></div>"
     },
     "execution_count": 8,
     "metadata": {},
     "output_type": "execute_result"
    }
   ],
   "source": [
    "# Fit the pipeline\n",
    "pipeline.fit(X_train, y_train)"
   ],
   "metadata": {
    "collapsed": false,
    "ExecuteTime": {
     "end_time": "2023-08-17T05:18:19.926170200Z",
     "start_time": "2023-08-17T04:40:22.722096200Z"
    }
   }
  },
  {
   "cell_type": "markdown",
   "source": [
    "### 5. Test your model"
   ],
   "metadata": {
    "collapsed": false
   }
  },
  {
   "cell_type": "code",
   "execution_count": 9,
   "outputs": [],
   "source": [
    "# Make a prediction using the test set\n",
    "y_pred = pipeline.predict(X_test)"
   ],
   "metadata": {
    "collapsed": false,
    "ExecuteTime": {
     "end_time": "2023-08-17T05:18:54.474734400Z",
     "start_time": "2023-08-17T05:18:20.123916100Z"
    }
   }
  },
  {
   "cell_type": "code",
   "execution_count": 10,
   "outputs": [],
   "source": [
    "# Testing the model\n",
    "def test_model(y_test, y_pred):\n",
    "\n",
    "    \"\"\"\n",
    "    Function to iterate through columns and call sklearn classification report on each.\n",
    "    \"\"\"\n",
    "    for index, column in enumerate(y_test):\n",
    "        print(column, classification_report(y_test[column], y_pred[:, index]))"
   ],
   "metadata": {
    "collapsed": false,
    "ExecuteTime": {
     "end_time": "2023-08-17T05:18:54.564612800Z",
     "start_time": "2023-08-17T05:18:54.489915700Z"
    }
   }
  },
  {
   "cell_type": "code",
   "execution_count": 11,
   "outputs": [
    {
     "name": "stdout",
     "output_type": "stream",
     "text": [
      "('related',)               precision    recall  f1-score   support\n",
      "\n",
      "           0       0.73      0.27      0.39      1508\n",
      "           1       0.81      0.97      0.88      4999\n",
      "           2       0.50      0.11      0.18        47\n",
      "\n",
      "    accuracy                           0.80      6554\n",
      "   macro avg       0.68      0.45      0.48      6554\n",
      "weighted avg       0.79      0.80      0.76      6554\n",
      "\n",
      "('request',)               precision    recall  f1-score   support\n",
      "\n",
      "           0       0.89      0.99      0.94      5414\n",
      "           1       0.90      0.42      0.57      1140\n",
      "\n",
      "    accuracy                           0.89      6554\n",
      "   macro avg       0.89      0.70      0.75      6554\n",
      "weighted avg       0.89      0.89      0.87      6554\n",
      "\n",
      "('offer',)               precision    recall  f1-score   support\n",
      "\n",
      "           0       1.00      1.00      1.00      6528\n",
      "           1       0.00      0.00      0.00        26\n",
      "\n",
      "    accuracy                           1.00      6554\n",
      "   macro avg       0.50      0.50      0.50      6554\n",
      "weighted avg       0.99      1.00      0.99      6554\n",
      "\n",
      "('aid_related',)               precision    recall  f1-score   support\n",
      "\n",
      "           0       0.75      0.89      0.81      3826\n",
      "           1       0.79      0.59      0.67      2728\n",
      "\n",
      "    accuracy                           0.76      6554\n",
      "   macro avg       0.77      0.74      0.74      6554\n",
      "weighted avg       0.77      0.76      0.75      6554\n",
      "\n",
      "('medical_help',)               precision    recall  f1-score   support\n",
      "\n",
      "           0       0.93      1.00      0.96      6064\n",
      "           1       0.70      0.05      0.10       490\n",
      "\n",
      "    accuracy                           0.93      6554\n",
      "   macro avg       0.82      0.53      0.53      6554\n",
      "weighted avg       0.91      0.93      0.90      6554\n",
      "\n",
      "('medical_products',)               precision    recall  f1-score   support\n",
      "\n",
      "           0       0.96      1.00      0.98      6241\n",
      "           1       0.77      0.06      0.12       313\n",
      "\n",
      "    accuracy                           0.95      6554\n",
      "   macro avg       0.86      0.53      0.55      6554\n",
      "weighted avg       0.95      0.95      0.94      6554\n",
      "\n",
      "('search_and_rescue',)               precision    recall  f1-score   support\n",
      "\n",
      "           0       0.98      1.00      0.99      6389\n",
      "           1       0.80      0.02      0.05       165\n",
      "\n",
      "    accuracy                           0.98      6554\n",
      "   macro avg       0.89      0.51      0.52      6554\n",
      "weighted avg       0.97      0.98      0.96      6554\n",
      "\n",
      "('security',)               precision    recall  f1-score   support\n",
      "\n",
      "           0       0.98      1.00      0.99      6429\n",
      "           1       0.00      0.00      0.00       125\n",
      "\n",
      "    accuracy                           0.98      6554\n",
      "   macro avg       0.49      0.50      0.50      6554\n",
      "weighted avg       0.96      0.98      0.97      6554\n",
      "\n"
     ]
    },
    {
     "name": "stderr",
     "output_type": "stream",
     "text": [
      "C:\\Users\\Just Me\\anaconda3\\lib\\site-packages\\sklearn\\metrics\\_classification.py:1344: UndefinedMetricWarning: Precision and F-score are ill-defined and being set to 0.0 in labels with no predicted samples. Use `zero_division` parameter to control this behavior.\n",
      "  _warn_prf(average, modifier, msg_start, len(result))\n",
      "C:\\Users\\Just Me\\anaconda3\\lib\\site-packages\\sklearn\\metrics\\_classification.py:1344: UndefinedMetricWarning: Precision and F-score are ill-defined and being set to 0.0 in labels with no predicted samples. Use `zero_division` parameter to control this behavior.\n",
      "  _warn_prf(average, modifier, msg_start, len(result))\n",
      "C:\\Users\\Just Me\\anaconda3\\lib\\site-packages\\sklearn\\metrics\\_classification.py:1344: UndefinedMetricWarning: Precision and F-score are ill-defined and being set to 0.0 in labels with no predicted samples. Use `zero_division` parameter to control this behavior.\n",
      "  _warn_prf(average, modifier, msg_start, len(result))\n"
     ]
    },
    {
     "name": "stdout",
     "output_type": "stream",
     "text": [
      "('military',)               precision    recall  f1-score   support\n",
      "\n",
      "           0       0.97      1.00      0.98      6337\n",
      "           1       0.67      0.02      0.04       217\n",
      "\n",
      "    accuracy                           0.97      6554\n",
      "   macro avg       0.82      0.51      0.51      6554\n",
      "weighted avg       0.96      0.97      0.95      6554\n",
      "\n",
      "('child_alone',)               precision    recall  f1-score   support\n",
      "\n",
      "           0       1.00      1.00      1.00      6554\n",
      "\n",
      "    accuracy                           1.00      6554\n",
      "   macro avg       1.00      1.00      1.00      6554\n",
      "weighted avg       1.00      1.00      1.00      6554\n",
      "\n",
      "('water',)               precision    recall  f1-score   support\n",
      "\n",
      "           0       0.95      1.00      0.97      6120\n",
      "           1       0.89      0.22      0.35       434\n",
      "\n",
      "    accuracy                           0.95      6554\n",
      "   macro avg       0.92      0.61      0.66      6554\n",
      "weighted avg       0.94      0.95      0.93      6554\n",
      "\n",
      "('food',)               precision    recall  f1-score   support\n",
      "\n",
      "           0       0.92      0.99      0.96      5820\n",
      "           1       0.84      0.35      0.49       734\n",
      "\n",
      "    accuracy                           0.92      6554\n",
      "   macro avg       0.88      0.67      0.72      6554\n",
      "weighted avg       0.91      0.92      0.90      6554\n",
      "\n",
      "('shelter',)               precision    recall  f1-score   support\n",
      "\n",
      "           0       0.93      1.00      0.96      5968\n",
      "           1       0.85      0.23      0.36       586\n",
      "\n",
      "    accuracy                           0.93      6554\n",
      "   macro avg       0.89      0.61      0.66      6554\n",
      "weighted avg       0.92      0.93      0.91      6554\n",
      "\n",
      "('clothing',)               precision    recall  f1-score   support\n",
      "\n",
      "           0       0.98      1.00      0.99      6450\n",
      "           1       0.57      0.04      0.07       104\n",
      "\n",
      "    accuracy                           0.98      6554\n",
      "   macro avg       0.78      0.52      0.53      6554\n",
      "weighted avg       0.98      0.98      0.98      6554\n",
      "\n",
      "('money',)               precision    recall  f1-score   support\n",
      "\n",
      "           0       0.98      1.00      0.99      6426\n",
      "           1       0.89      0.06      0.12       128\n",
      "\n",
      "    accuracy                           0.98      6554\n",
      "   macro avg       0.94      0.53      0.55      6554\n",
      "weighted avg       0.98      0.98      0.97      6554\n",
      "\n",
      "('missing_people',)               precision    recall  f1-score   support\n",
      "\n",
      "           0       0.99      1.00      1.00      6495\n",
      "           1       1.00      0.02      0.03        59\n",
      "\n",
      "    accuracy                           0.99      6554\n",
      "   macro avg       1.00      0.51      0.51      6554\n",
      "weighted avg       0.99      0.99      0.99      6554\n",
      "\n",
      "('refugees',)               precision    recall  f1-score   support\n",
      "\n",
      "           0       0.97      1.00      0.98      6345\n",
      "           1       0.67      0.01      0.02       209\n",
      "\n",
      "    accuracy                           0.97      6554\n",
      "   macro avg       0.82      0.50      0.50      6554\n",
      "weighted avg       0.96      0.97      0.95      6554\n",
      "\n",
      "('death',)               precision    recall  f1-score   support\n",
      "\n",
      "           0       0.96      1.00      0.98      6256\n",
      "           1       0.92      0.12      0.21       298\n",
      "\n",
      "    accuracy                           0.96      6554\n",
      "   macro avg       0.94      0.56      0.60      6554\n",
      "weighted avg       0.96      0.96      0.94      6554\n",
      "\n",
      "('other_aid',)               precision    recall  f1-score   support\n",
      "\n",
      "           0       0.87      1.00      0.93      5675\n",
      "           1       0.70      0.02      0.04       879\n",
      "\n",
      "    accuracy                           0.87      6554\n",
      "   macro avg       0.78      0.51      0.48      6554\n",
      "weighted avg       0.84      0.87      0.81      6554\n",
      "\n",
      "('infrastructure_related',)               precision    recall  f1-score   support\n",
      "\n",
      "           0       0.94      1.00      0.97      6145\n",
      "           1       0.33      0.00      0.00       409\n",
      "\n",
      "    accuracy                           0.94      6554\n",
      "   macro avg       0.64      0.50      0.49      6554\n",
      "weighted avg       0.90      0.94      0.91      6554\n",
      "\n",
      "('transport',)               precision    recall  f1-score   support\n",
      "\n",
      "           0       0.96      1.00      0.98      6255\n",
      "           1       0.85      0.06      0.11       299\n",
      "\n",
      "    accuracy                           0.96      6554\n",
      "   macro avg       0.90      0.53      0.54      6554\n",
      "weighted avg       0.95      0.96      0.94      6554\n",
      "\n",
      "('buildings',)               precision    recall  f1-score   support\n",
      "\n",
      "           0       0.95      1.00      0.98      6228\n",
      "           1       0.82      0.04      0.08       326\n",
      "\n",
      "    accuracy                           0.95      6554\n",
      "   macro avg       0.89      0.52      0.53      6554\n",
      "weighted avg       0.95      0.95      0.93      6554\n",
      "\n",
      "('electricity',)               precision    recall  f1-score   support\n",
      "\n",
      "           0       0.98      1.00      0.99      6426\n",
      "           1       0.86      0.05      0.09       128\n",
      "\n",
      "    accuracy                           0.98      6554\n",
      "   macro avg       0.92      0.52      0.54      6554\n",
      "weighted avg       0.98      0.98      0.97      6554\n",
      "\n",
      "('tools',)               precision    recall  f1-score   support\n",
      "\n",
      "           0       0.99      1.00      1.00      6511\n",
      "           1       0.00      0.00      0.00        43\n",
      "\n",
      "    accuracy                           0.99      6554\n",
      "   macro avg       0.50      0.50      0.50      6554\n",
      "weighted avg       0.99      0.99      0.99      6554\n",
      "\n",
      "('hospitals',)               precision    recall  f1-score   support\n",
      "\n",
      "           0       0.99      1.00      1.00      6499\n",
      "           1       0.00      0.00      0.00        55\n",
      "\n",
      "    accuracy                           0.99      6554\n",
      "   macro avg       0.50      0.50      0.50      6554\n",
      "weighted avg       0.98      0.99      0.99      6554\n",
      "\n",
      "('shops',)               precision    recall  f1-score   support\n",
      "\n",
      "           0       1.00      1.00      1.00      6534\n",
      "           1       0.00      0.00      0.00        20\n",
      "\n",
      "    accuracy                           1.00      6554\n",
      "   macro avg       0.50      0.50      0.50      6554\n",
      "weighted avg       0.99      1.00      1.00      6554\n",
      "\n",
      "('aid_centers',)               precision    recall  f1-score   support\n",
      "\n",
      "           0       0.99      1.00      0.99      6476\n",
      "           1       0.00      0.00      0.00        78\n",
      "\n",
      "    accuracy                           0.99      6554\n",
      "   macro avg       0.49      0.50      0.50      6554\n",
      "weighted avg       0.98      0.99      0.98      6554\n",
      "\n",
      "('other_infrastructure',)               precision    recall  f1-score   support\n",
      "\n",
      "           0       0.96      1.00      0.98      6270\n",
      "           1       0.00      0.00      0.00       284\n",
      "\n",
      "    accuracy                           0.96      6554\n",
      "   macro avg       0.48      0.50      0.49      6554\n",
      "weighted avg       0.92      0.96      0.94      6554\n",
      "\n"
     ]
    },
    {
     "name": "stderr",
     "output_type": "stream",
     "text": [
      "C:\\Users\\Just Me\\anaconda3\\lib\\site-packages\\sklearn\\metrics\\_classification.py:1344: UndefinedMetricWarning: Precision and F-score are ill-defined and being set to 0.0 in labels with no predicted samples. Use `zero_division` parameter to control this behavior.\n",
      "  _warn_prf(average, modifier, msg_start, len(result))\n",
      "C:\\Users\\Just Me\\anaconda3\\lib\\site-packages\\sklearn\\metrics\\_classification.py:1344: UndefinedMetricWarning: Precision and F-score are ill-defined and being set to 0.0 in labels with no predicted samples. Use `zero_division` parameter to control this behavior.\n",
      "  _warn_prf(average, modifier, msg_start, len(result))\n",
      "C:\\Users\\Just Me\\anaconda3\\lib\\site-packages\\sklearn\\metrics\\_classification.py:1344: UndefinedMetricWarning: Precision and F-score are ill-defined and being set to 0.0 in labels with no predicted samples. Use `zero_division` parameter to control this behavior.\n",
      "  _warn_prf(average, modifier, msg_start, len(result))\n",
      "C:\\Users\\Just Me\\anaconda3\\lib\\site-packages\\sklearn\\metrics\\_classification.py:1344: UndefinedMetricWarning: Precision and F-score are ill-defined and being set to 0.0 in labels with no predicted samples. Use `zero_division` parameter to control this behavior.\n",
      "  _warn_prf(average, modifier, msg_start, len(result))\n",
      "C:\\Users\\Just Me\\anaconda3\\lib\\site-packages\\sklearn\\metrics\\_classification.py:1344: UndefinedMetricWarning: Precision and F-score are ill-defined and being set to 0.0 in labels with no predicted samples. Use `zero_division` parameter to control this behavior.\n",
      "  _warn_prf(average, modifier, msg_start, len(result))\n",
      "C:\\Users\\Just Me\\anaconda3\\lib\\site-packages\\sklearn\\metrics\\_classification.py:1344: UndefinedMetricWarning: Precision and F-score are ill-defined and being set to 0.0 in labels with no predicted samples. Use `zero_division` parameter to control this behavior.\n",
      "  _warn_prf(average, modifier, msg_start, len(result))\n",
      "C:\\Users\\Just Me\\anaconda3\\lib\\site-packages\\sklearn\\metrics\\_classification.py:1344: UndefinedMetricWarning: Precision and F-score are ill-defined and being set to 0.0 in labels with no predicted samples. Use `zero_division` parameter to control this behavior.\n",
      "  _warn_prf(average, modifier, msg_start, len(result))\n",
      "C:\\Users\\Just Me\\anaconda3\\lib\\site-packages\\sklearn\\metrics\\_classification.py:1344: UndefinedMetricWarning: Precision and F-score are ill-defined and being set to 0.0 in labels with no predicted samples. Use `zero_division` parameter to control this behavior.\n",
      "  _warn_prf(average, modifier, msg_start, len(result))\n",
      "C:\\Users\\Just Me\\anaconda3\\lib\\site-packages\\sklearn\\metrics\\_classification.py:1344: UndefinedMetricWarning: Precision and F-score are ill-defined and being set to 0.0 in labels with no predicted samples. Use `zero_division` parameter to control this behavior.\n",
      "  _warn_prf(average, modifier, msg_start, len(result))\n",
      "C:\\Users\\Just Me\\anaconda3\\lib\\site-packages\\sklearn\\metrics\\_classification.py:1344: UndefinedMetricWarning: Precision and F-score are ill-defined and being set to 0.0 in labels with no predicted samples. Use `zero_division` parameter to control this behavior.\n",
      "  _warn_prf(average, modifier, msg_start, len(result))\n",
      "C:\\Users\\Just Me\\anaconda3\\lib\\site-packages\\sklearn\\metrics\\_classification.py:1344: UndefinedMetricWarning: Precision and F-score are ill-defined and being set to 0.0 in labels with no predicted samples. Use `zero_division` parameter to control this behavior.\n",
      "  _warn_prf(average, modifier, msg_start, len(result))\n",
      "C:\\Users\\Just Me\\anaconda3\\lib\\site-packages\\sklearn\\metrics\\_classification.py:1344: UndefinedMetricWarning: Precision and F-score are ill-defined and being set to 0.0 in labels with no predicted samples. Use `zero_division` parameter to control this behavior.\n",
      "  _warn_prf(average, modifier, msg_start, len(result))\n",
      "C:\\Users\\Just Me\\anaconda3\\lib\\site-packages\\sklearn\\metrics\\_classification.py:1344: UndefinedMetricWarning: Precision and F-score are ill-defined and being set to 0.0 in labels with no predicted samples. Use `zero_division` parameter to control this behavior.\n",
      "  _warn_prf(average, modifier, msg_start, len(result))\n",
      "C:\\Users\\Just Me\\anaconda3\\lib\\site-packages\\sklearn\\metrics\\_classification.py:1344: UndefinedMetricWarning: Precision and F-score are ill-defined and being set to 0.0 in labels with no predicted samples. Use `zero_division` parameter to control this behavior.\n",
      "  _warn_prf(average, modifier, msg_start, len(result))\n",
      "C:\\Users\\Just Me\\anaconda3\\lib\\site-packages\\sklearn\\metrics\\_classification.py:1344: UndefinedMetricWarning: Precision and F-score are ill-defined and being set to 0.0 in labels with no predicted samples. Use `zero_division` parameter to control this behavior.\n",
      "  _warn_prf(average, modifier, msg_start, len(result))\n",
      "C:\\Users\\Just Me\\anaconda3\\lib\\site-packages\\sklearn\\metrics\\_classification.py:1344: UndefinedMetricWarning: Precision and F-score are ill-defined and being set to 0.0 in labels with no predicted samples. Use `zero_division` parameter to control this behavior.\n",
      "  _warn_prf(average, modifier, msg_start, len(result))\n",
      "C:\\Users\\Just Me\\anaconda3\\lib\\site-packages\\sklearn\\metrics\\_classification.py:1344: UndefinedMetricWarning: Precision and F-score are ill-defined and being set to 0.0 in labels with no predicted samples. Use `zero_division` parameter to control this behavior.\n",
      "  _warn_prf(average, modifier, msg_start, len(result))\n",
      "C:\\Users\\Just Me\\anaconda3\\lib\\site-packages\\sklearn\\metrics\\_classification.py:1344: UndefinedMetricWarning: Precision and F-score are ill-defined and being set to 0.0 in labels with no predicted samples. Use `zero_division` parameter to control this behavior.\n",
      "  _warn_prf(average, modifier, msg_start, len(result))\n"
     ]
    },
    {
     "name": "stdout",
     "output_type": "stream",
     "text": [
      "('weather_related',)               precision    recall  f1-score   support\n",
      "\n",
      "           0       0.86      0.96      0.91      4703\n",
      "           1       0.87      0.61      0.72      1851\n",
      "\n",
      "    accuracy                           0.86      6554\n",
      "   macro avg       0.86      0.79      0.81      6554\n",
      "weighted avg       0.86      0.86      0.86      6554\n",
      "\n",
      "('floods',)               precision    recall  f1-score   support\n",
      "\n",
      "           0       0.95      1.00      0.97      6036\n",
      "           1       0.91      0.39      0.55       518\n",
      "\n",
      "    accuracy                           0.95      6554\n",
      "   macro avg       0.93      0.69      0.76      6554\n",
      "weighted avg       0.95      0.95      0.94      6554\n",
      "\n",
      "('storm',)               precision    recall  f1-score   support\n",
      "\n",
      "           0       0.94      0.99      0.97      5943\n",
      "           1       0.81      0.41      0.54       611\n",
      "\n",
      "    accuracy                           0.94      6554\n",
      "   macro avg       0.88      0.70      0.75      6554\n",
      "weighted avg       0.93      0.94      0.93      6554\n",
      "\n",
      "('fire',)               precision    recall  f1-score   support\n",
      "\n",
      "           0       0.99      1.00      0.99      6468\n",
      "           1       0.00      0.00      0.00        86\n",
      "\n",
      "    accuracy                           0.99      6554\n",
      "   macro avg       0.49      0.50      0.50      6554\n",
      "weighted avg       0.97      0.99      0.98      6554\n",
      "\n",
      "('earthquake',)               precision    recall  f1-score   support\n",
      "\n",
      "           0       0.97      0.99      0.98      5929\n",
      "           1       0.89      0.73      0.80       625\n",
      "\n",
      "    accuracy                           0.97      6554\n",
      "   macro avg       0.93      0.86      0.89      6554\n",
      "weighted avg       0.96      0.97      0.96      6554\n",
      "\n",
      "('cold',)               precision    recall  f1-score   support\n",
      "\n",
      "           0       0.98      1.00      0.99      6433\n",
      "           1       0.80      0.10      0.18       121\n",
      "\n",
      "    accuracy                           0.98      6554\n",
      "   macro avg       0.89      0.55      0.58      6554\n",
      "weighted avg       0.98      0.98      0.98      6554\n",
      "\n",
      "('other_weather',)               precision    recall  f1-score   support\n",
      "\n",
      "           0       0.94      1.00      0.97      6184\n",
      "           1       0.60      0.02      0.03       370\n",
      "\n",
      "    accuracy                           0.94      6554\n",
      "   macro avg       0.77      0.51      0.50      6554\n",
      "weighted avg       0.92      0.94      0.92      6554\n",
      "\n",
      "('direct_report',)               precision    recall  f1-score   support\n",
      "\n",
      "           0       0.86      0.99      0.92      5277\n",
      "           1       0.85      0.36      0.51      1277\n",
      "\n",
      "    accuracy                           0.86      6554\n",
      "   macro avg       0.86      0.67      0.71      6554\n",
      "weighted avg       0.86      0.86      0.84      6554\n",
      "\n"
     ]
    }
   ],
   "source": [
    "# Testing the model using the test and the prediction\n",
    "test_model(y_test, y_pred)"
   ],
   "metadata": {
    "collapsed": false,
    "ExecuteTime": {
     "end_time": "2023-08-17T05:18:56.181620100Z",
     "start_time": "2023-08-17T05:18:54.510104500Z"
    }
   }
  },
  {
   "cell_type": "code",
   "execution_count": 12,
   "outputs": [
    {
     "name": "stdout",
     "output_type": "stream",
     "text": [
      "('related',)               precision    recall  f1-score   support\n",
      "\n",
      "           0       0.73      0.27      0.39      1508\n",
      "           1       0.81      0.97      0.88      4999\n",
      "           2       0.50      0.11      0.18        47\n",
      "\n",
      "    accuracy                           0.80      6554\n",
      "   macro avg       0.68      0.45      0.48      6554\n",
      "weighted avg       0.79      0.80      0.76      6554\n",
      "\n",
      "('request',)               precision    recall  f1-score   support\n",
      "\n",
      "           0       0.89      0.99      0.94      5414\n",
      "           1       0.90      0.42      0.57      1140\n",
      "\n",
      "    accuracy                           0.89      6554\n",
      "   macro avg       0.89      0.70      0.75      6554\n",
      "weighted avg       0.89      0.89      0.87      6554\n",
      "\n",
      "('offer',)               precision    recall  f1-score   support\n",
      "\n",
      "           0       1.00      1.00      1.00      6528\n",
      "           1       0.00      0.00      0.00        26\n",
      "\n",
      "    accuracy                           1.00      6554\n",
      "   macro avg       0.50      0.50      0.50      6554\n",
      "weighted avg       0.99      1.00      0.99      6554\n",
      "\n",
      "('aid_related',)               precision    recall  f1-score   support\n",
      "\n",
      "           0       0.75      0.89      0.81      3826\n",
      "           1       0.79      0.59      0.67      2728\n",
      "\n",
      "    accuracy                           0.76      6554\n",
      "   macro avg       0.77      0.74      0.74      6554\n",
      "weighted avg       0.77      0.76      0.75      6554\n",
      "\n",
      "('medical_help',)               precision    recall  f1-score   support\n",
      "\n",
      "           0       0.93      1.00      0.96      6064\n",
      "           1       0.70      0.05      0.10       490\n",
      "\n",
      "    accuracy                           0.93      6554\n",
      "   macro avg       0.82      0.53      0.53      6554\n",
      "weighted avg       0.91      0.93      0.90      6554\n",
      "\n",
      "('medical_products',)               precision    recall  f1-score   support\n",
      "\n",
      "           0       0.96      1.00      0.98      6241\n",
      "           1       0.77      0.06      0.12       313\n",
      "\n",
      "    accuracy                           0.95      6554\n",
      "   macro avg       0.86      0.53      0.55      6554\n",
      "weighted avg       0.95      0.95      0.94      6554\n",
      "\n",
      "('search_and_rescue',)               precision    recall  f1-score   support\n",
      "\n",
      "           0       0.98      1.00      0.99      6389\n",
      "           1       0.80      0.02      0.05       165\n",
      "\n",
      "    accuracy                           0.98      6554\n",
      "   macro avg       0.89      0.51      0.52      6554\n",
      "weighted avg       0.97      0.98      0.96      6554\n",
      "\n",
      "('security',)               precision    recall  f1-score   support\n",
      "\n",
      "           0       0.98      1.00      0.99      6429\n",
      "           1       0.00      0.00      0.00       125\n",
      "\n",
      "    accuracy                           0.98      6554\n",
      "   macro avg       0.49      0.50      0.50      6554\n",
      "weighted avg       0.96      0.98      0.97      6554\n",
      "\n",
      "('military',)               precision    recall  f1-score   support\n",
      "\n",
      "           0       0.97      1.00      0.98      6337\n",
      "           1       0.67      0.02      0.04       217\n",
      "\n",
      "    accuracy                           0.97      6554\n",
      "   macro avg       0.82      0.51      0.51      6554\n",
      "weighted avg       0.96      0.97      0.95      6554\n",
      "\n",
      "('child_alone',)               precision    recall  f1-score   support\n",
      "\n",
      "           0       1.00      1.00      1.00      6554\n",
      "\n",
      "    accuracy                           1.00      6554\n",
      "   macro avg       1.00      1.00      1.00      6554\n",
      "weighted avg       1.00      1.00      1.00      6554\n",
      "\n"
     ]
    },
    {
     "name": "stderr",
     "output_type": "stream",
     "text": [
      "C:\\Users\\Just Me\\anaconda3\\lib\\site-packages\\sklearn\\metrics\\_classification.py:1344: UndefinedMetricWarning: Precision and F-score are ill-defined and being set to 0.0 in labels with no predicted samples. Use `zero_division` parameter to control this behavior.\n",
      "  _warn_prf(average, modifier, msg_start, len(result))\n",
      "C:\\Users\\Just Me\\anaconda3\\lib\\site-packages\\sklearn\\metrics\\_classification.py:1344: UndefinedMetricWarning: Precision and F-score are ill-defined and being set to 0.0 in labels with no predicted samples. Use `zero_division` parameter to control this behavior.\n",
      "  _warn_prf(average, modifier, msg_start, len(result))\n",
      "C:\\Users\\Just Me\\anaconda3\\lib\\site-packages\\sklearn\\metrics\\_classification.py:1344: UndefinedMetricWarning: Precision and F-score are ill-defined and being set to 0.0 in labels with no predicted samples. Use `zero_division` parameter to control this behavior.\n",
      "  _warn_prf(average, modifier, msg_start, len(result))\n"
     ]
    },
    {
     "name": "stdout",
     "output_type": "stream",
     "text": [
      "('water',)               precision    recall  f1-score   support\n",
      "\n",
      "           0       0.95      1.00      0.97      6120\n",
      "           1       0.89      0.22      0.35       434\n",
      "\n",
      "    accuracy                           0.95      6554\n",
      "   macro avg       0.92      0.61      0.66      6554\n",
      "weighted avg       0.94      0.95      0.93      6554\n",
      "\n",
      "('food',)               precision    recall  f1-score   support\n",
      "\n",
      "           0       0.92      0.99      0.96      5820\n",
      "           1       0.84      0.35      0.49       734\n",
      "\n",
      "    accuracy                           0.92      6554\n",
      "   macro avg       0.88      0.67      0.72      6554\n",
      "weighted avg       0.91      0.92      0.90      6554\n",
      "\n",
      "('shelter',)               precision    recall  f1-score   support\n",
      "\n",
      "           0       0.93      1.00      0.96      5968\n",
      "           1       0.85      0.23      0.36       586\n",
      "\n",
      "    accuracy                           0.93      6554\n",
      "   macro avg       0.89      0.61      0.66      6554\n",
      "weighted avg       0.92      0.93      0.91      6554\n",
      "\n",
      "('clothing',)               precision    recall  f1-score   support\n",
      "\n",
      "           0       0.98      1.00      0.99      6450\n",
      "           1       0.57      0.04      0.07       104\n",
      "\n",
      "    accuracy                           0.98      6554\n",
      "   macro avg       0.78      0.52      0.53      6554\n",
      "weighted avg       0.98      0.98      0.98      6554\n",
      "\n",
      "('money',)               precision    recall  f1-score   support\n",
      "\n",
      "           0       0.98      1.00      0.99      6426\n",
      "           1       0.89      0.06      0.12       128\n",
      "\n",
      "    accuracy                           0.98      6554\n",
      "   macro avg       0.94      0.53      0.55      6554\n",
      "weighted avg       0.98      0.98      0.97      6554\n",
      "\n",
      "('missing_people',)               precision    recall  f1-score   support\n",
      "\n",
      "           0       0.99      1.00      1.00      6495\n",
      "           1       1.00      0.02      0.03        59\n",
      "\n",
      "    accuracy                           0.99      6554\n",
      "   macro avg       1.00      0.51      0.51      6554\n",
      "weighted avg       0.99      0.99      0.99      6554\n",
      "\n",
      "('refugees',)               precision    recall  f1-score   support\n",
      "\n",
      "           0       0.97      1.00      0.98      6345\n",
      "           1       0.67      0.01      0.02       209\n",
      "\n",
      "    accuracy                           0.97      6554\n",
      "   macro avg       0.82      0.50      0.50      6554\n",
      "weighted avg       0.96      0.97      0.95      6554\n",
      "\n",
      "('death',)               precision    recall  f1-score   support\n",
      "\n",
      "           0       0.96      1.00      0.98      6256\n",
      "           1       0.92      0.12      0.21       298\n",
      "\n",
      "    accuracy                           0.96      6554\n",
      "   macro avg       0.94      0.56      0.60      6554\n",
      "weighted avg       0.96      0.96      0.94      6554\n",
      "\n",
      "('other_aid',)               precision    recall  f1-score   support\n",
      "\n",
      "           0       0.87      1.00      0.93      5675\n",
      "           1       0.70      0.02      0.04       879\n",
      "\n",
      "    accuracy                           0.87      6554\n",
      "   macro avg       0.78      0.51      0.48      6554\n",
      "weighted avg       0.84      0.87      0.81      6554\n",
      "\n",
      "('infrastructure_related',)               precision    recall  f1-score   support\n",
      "\n",
      "           0       0.94      1.00      0.97      6145\n",
      "           1       0.33      0.00      0.00       409\n",
      "\n",
      "    accuracy                           0.94      6554\n",
      "   macro avg       0.64      0.50      0.49      6554\n",
      "weighted avg       0.90      0.94      0.91      6554\n",
      "\n",
      "('transport',)               precision    recall  f1-score   support\n",
      "\n",
      "           0       0.96      1.00      0.98      6255\n",
      "           1       0.85      0.06      0.11       299\n",
      "\n",
      "    accuracy                           0.96      6554\n",
      "   macro avg       0.90      0.53      0.54      6554\n",
      "weighted avg       0.95      0.96      0.94      6554\n",
      "\n",
      "('buildings',)               precision    recall  f1-score   support\n",
      "\n",
      "           0       0.95      1.00      0.98      6228\n",
      "           1       0.82      0.04      0.08       326\n",
      "\n",
      "    accuracy                           0.95      6554\n",
      "   macro avg       0.89      0.52      0.53      6554\n",
      "weighted avg       0.95      0.95      0.93      6554\n",
      "\n",
      "('electricity',)               precision    recall  f1-score   support\n",
      "\n",
      "           0       0.98      1.00      0.99      6426\n",
      "           1       0.86      0.05      0.09       128\n",
      "\n",
      "    accuracy                           0.98      6554\n",
      "   macro avg       0.92      0.52      0.54      6554\n",
      "weighted avg       0.98      0.98      0.97      6554\n",
      "\n",
      "('tools',)               precision    recall  f1-score   support\n",
      "\n",
      "           0       0.99      1.00      1.00      6511\n",
      "           1       0.00      0.00      0.00        43\n",
      "\n",
      "    accuracy                           0.99      6554\n",
      "   macro avg       0.50      0.50      0.50      6554\n",
      "weighted avg       0.99      0.99      0.99      6554\n",
      "\n",
      "('hospitals',)               precision    recall  f1-score   support\n",
      "\n",
      "           0       0.99      1.00      1.00      6499\n",
      "           1       0.00      0.00      0.00        55\n",
      "\n",
      "    accuracy                           0.99      6554\n",
      "   macro avg       0.50      0.50      0.50      6554\n",
      "weighted avg       0.98      0.99      0.99      6554\n",
      "\n",
      "('shops',)               precision    recall  f1-score   support\n",
      "\n",
      "           0       1.00      1.00      1.00      6534\n",
      "           1       0.00      0.00      0.00        20\n",
      "\n",
      "    accuracy                           1.00      6554\n",
      "   macro avg       0.50      0.50      0.50      6554\n",
      "weighted avg       0.99      1.00      1.00      6554\n",
      "\n",
      "('aid_centers',)               precision    recall  f1-score   support\n",
      "\n",
      "           0       0.99      1.00      0.99      6476\n",
      "           1       0.00      0.00      0.00        78\n",
      "\n",
      "    accuracy                           0.99      6554\n",
      "   macro avg       0.49      0.50      0.50      6554\n",
      "weighted avg       0.98      0.99      0.98      6554\n",
      "\n",
      "('other_infrastructure',)               precision    recall  f1-score   support\n",
      "\n",
      "           0       0.96      1.00      0.98      6270\n",
      "           1       0.00      0.00      0.00       284\n",
      "\n",
      "    accuracy                           0.96      6554\n",
      "   macro avg       0.48      0.50      0.49      6554\n",
      "weighted avg       0.92      0.96      0.94      6554\n",
      "\n"
     ]
    },
    {
     "name": "stderr",
     "output_type": "stream",
     "text": [
      "C:\\Users\\Just Me\\anaconda3\\lib\\site-packages\\sklearn\\metrics\\_classification.py:1344: UndefinedMetricWarning: Precision and F-score are ill-defined and being set to 0.0 in labels with no predicted samples. Use `zero_division` parameter to control this behavior.\n",
      "  _warn_prf(average, modifier, msg_start, len(result))\n",
      "C:\\Users\\Just Me\\anaconda3\\lib\\site-packages\\sklearn\\metrics\\_classification.py:1344: UndefinedMetricWarning: Precision and F-score are ill-defined and being set to 0.0 in labels with no predicted samples. Use `zero_division` parameter to control this behavior.\n",
      "  _warn_prf(average, modifier, msg_start, len(result))\n",
      "C:\\Users\\Just Me\\anaconda3\\lib\\site-packages\\sklearn\\metrics\\_classification.py:1344: UndefinedMetricWarning: Precision and F-score are ill-defined and being set to 0.0 in labels with no predicted samples. Use `zero_division` parameter to control this behavior.\n",
      "  _warn_prf(average, modifier, msg_start, len(result))\n",
      "C:\\Users\\Just Me\\anaconda3\\lib\\site-packages\\sklearn\\metrics\\_classification.py:1344: UndefinedMetricWarning: Precision and F-score are ill-defined and being set to 0.0 in labels with no predicted samples. Use `zero_division` parameter to control this behavior.\n",
      "  _warn_prf(average, modifier, msg_start, len(result))\n",
      "C:\\Users\\Just Me\\anaconda3\\lib\\site-packages\\sklearn\\metrics\\_classification.py:1344: UndefinedMetricWarning: Precision and F-score are ill-defined and being set to 0.0 in labels with no predicted samples. Use `zero_division` parameter to control this behavior.\n",
      "  _warn_prf(average, modifier, msg_start, len(result))\n",
      "C:\\Users\\Just Me\\anaconda3\\lib\\site-packages\\sklearn\\metrics\\_classification.py:1344: UndefinedMetricWarning: Precision and F-score are ill-defined and being set to 0.0 in labels with no predicted samples. Use `zero_division` parameter to control this behavior.\n",
      "  _warn_prf(average, modifier, msg_start, len(result))\n",
      "C:\\Users\\Just Me\\anaconda3\\lib\\site-packages\\sklearn\\metrics\\_classification.py:1344: UndefinedMetricWarning: Precision and F-score are ill-defined and being set to 0.0 in labels with no predicted samples. Use `zero_division` parameter to control this behavior.\n",
      "  _warn_prf(average, modifier, msg_start, len(result))\n",
      "C:\\Users\\Just Me\\anaconda3\\lib\\site-packages\\sklearn\\metrics\\_classification.py:1344: UndefinedMetricWarning: Precision and F-score are ill-defined and being set to 0.0 in labels with no predicted samples. Use `zero_division` parameter to control this behavior.\n",
      "  _warn_prf(average, modifier, msg_start, len(result))\n",
      "C:\\Users\\Just Me\\anaconda3\\lib\\site-packages\\sklearn\\metrics\\_classification.py:1344: UndefinedMetricWarning: Precision and F-score are ill-defined and being set to 0.0 in labels with no predicted samples. Use `zero_division` parameter to control this behavior.\n",
      "  _warn_prf(average, modifier, msg_start, len(result))\n",
      "C:\\Users\\Just Me\\anaconda3\\lib\\site-packages\\sklearn\\metrics\\_classification.py:1344: UndefinedMetricWarning: Precision and F-score are ill-defined and being set to 0.0 in labels with no predicted samples. Use `zero_division` parameter to control this behavior.\n",
      "  _warn_prf(average, modifier, msg_start, len(result))\n",
      "C:\\Users\\Just Me\\anaconda3\\lib\\site-packages\\sklearn\\metrics\\_classification.py:1344: UndefinedMetricWarning: Precision and F-score are ill-defined and being set to 0.0 in labels with no predicted samples. Use `zero_division` parameter to control this behavior.\n",
      "  _warn_prf(average, modifier, msg_start, len(result))\n",
      "C:\\Users\\Just Me\\anaconda3\\lib\\site-packages\\sklearn\\metrics\\_classification.py:1344: UndefinedMetricWarning: Precision and F-score are ill-defined and being set to 0.0 in labels with no predicted samples. Use `zero_division` parameter to control this behavior.\n",
      "  _warn_prf(average, modifier, msg_start, len(result))\n",
      "C:\\Users\\Just Me\\anaconda3\\lib\\site-packages\\sklearn\\metrics\\_classification.py:1344: UndefinedMetricWarning: Precision and F-score are ill-defined and being set to 0.0 in labels with no predicted samples. Use `zero_division` parameter to control this behavior.\n",
      "  _warn_prf(average, modifier, msg_start, len(result))\n",
      "C:\\Users\\Just Me\\anaconda3\\lib\\site-packages\\sklearn\\metrics\\_classification.py:1344: UndefinedMetricWarning: Precision and F-score are ill-defined and being set to 0.0 in labels with no predicted samples. Use `zero_division` parameter to control this behavior.\n",
      "  _warn_prf(average, modifier, msg_start, len(result))\n",
      "C:\\Users\\Just Me\\anaconda3\\lib\\site-packages\\sklearn\\metrics\\_classification.py:1344: UndefinedMetricWarning: Precision and F-score are ill-defined and being set to 0.0 in labels with no predicted samples. Use `zero_division` parameter to control this behavior.\n",
      "  _warn_prf(average, modifier, msg_start, len(result))\n"
     ]
    },
    {
     "name": "stdout",
     "output_type": "stream",
     "text": [
      "('weather_related',)               precision    recall  f1-score   support\n",
      "\n",
      "           0       0.86      0.96      0.91      4703\n",
      "           1       0.87      0.61      0.72      1851\n",
      "\n",
      "    accuracy                           0.86      6554\n",
      "   macro avg       0.86      0.79      0.81      6554\n",
      "weighted avg       0.86      0.86      0.86      6554\n",
      "\n",
      "('floods',)               precision    recall  f1-score   support\n",
      "\n",
      "           0       0.95      1.00      0.97      6036\n",
      "           1       0.91      0.39      0.55       518\n",
      "\n",
      "    accuracy                           0.95      6554\n",
      "   macro avg       0.93      0.69      0.76      6554\n",
      "weighted avg       0.95      0.95      0.94      6554\n",
      "\n",
      "('storm',)               precision    recall  f1-score   support\n",
      "\n",
      "           0       0.94      0.99      0.97      5943\n",
      "           1       0.81      0.41      0.54       611\n",
      "\n",
      "    accuracy                           0.94      6554\n",
      "   macro avg       0.88      0.70      0.75      6554\n",
      "weighted avg       0.93      0.94      0.93      6554\n",
      "\n",
      "('fire',)               precision    recall  f1-score   support\n",
      "\n",
      "           0       0.99      1.00      0.99      6468\n",
      "           1       0.00      0.00      0.00        86\n",
      "\n",
      "    accuracy                           0.99      6554\n",
      "   macro avg       0.49      0.50      0.50      6554\n",
      "weighted avg       0.97      0.99      0.98      6554\n",
      "\n",
      "('earthquake',)               precision    recall  f1-score   support\n",
      "\n",
      "           0       0.97      0.99      0.98      5929\n",
      "           1       0.89      0.73      0.80       625\n",
      "\n",
      "    accuracy                           0.97      6554\n",
      "   macro avg       0.93      0.86      0.89      6554\n",
      "weighted avg       0.96      0.97      0.96      6554\n",
      "\n",
      "('cold',)               precision    recall  f1-score   support\n",
      "\n",
      "           0       0.98      1.00      0.99      6433\n",
      "           1       0.80      0.10      0.18       121\n",
      "\n",
      "    accuracy                           0.98      6554\n",
      "   macro avg       0.89      0.55      0.58      6554\n",
      "weighted avg       0.98      0.98      0.98      6554\n",
      "\n",
      "('other_weather',)               precision    recall  f1-score   support\n",
      "\n",
      "           0       0.94      1.00      0.97      6184\n",
      "           1       0.60      0.02      0.03       370\n",
      "\n",
      "    accuracy                           0.94      6554\n",
      "   macro avg       0.77      0.51      0.50      6554\n",
      "weighted avg       0.92      0.94      0.92      6554\n",
      "\n",
      "('direct_report',)               precision    recall  f1-score   support\n",
      "\n",
      "           0       0.86      0.99      0.92      5277\n",
      "           1       0.85      0.36      0.51      1277\n",
      "\n",
      "    accuracy                           0.86      6554\n",
      "   macro avg       0.86      0.67      0.71      6554\n",
      "weighted avg       0.86      0.86      0.84      6554\n",
      "\n"
     ]
    },
    {
     "name": "stderr",
     "output_type": "stream",
     "text": [
      "C:\\Users\\Just Me\\anaconda3\\lib\\site-packages\\sklearn\\metrics\\_classification.py:1344: UndefinedMetricWarning: Precision and F-score are ill-defined and being set to 0.0 in labels with no predicted samples. Use `zero_division` parameter to control this behavior.\n",
      "  _warn_prf(average, modifier, msg_start, len(result))\n",
      "C:\\Users\\Just Me\\anaconda3\\lib\\site-packages\\sklearn\\metrics\\_classification.py:1344: UndefinedMetricWarning: Precision and F-score are ill-defined and being set to 0.0 in labels with no predicted samples. Use `zero_division` parameter to control this behavior.\n",
      "  _warn_prf(average, modifier, msg_start, len(result))\n",
      "C:\\Users\\Just Me\\anaconda3\\lib\\site-packages\\sklearn\\metrics\\_classification.py:1344: UndefinedMetricWarning: Precision and F-score are ill-defined and being set to 0.0 in labels with no predicted samples. Use `zero_division` parameter to control this behavior.\n",
      "  _warn_prf(average, modifier, msg_start, len(result))\n"
     ]
    }
   ],
   "source": [
    "test_model(y_test, y_pred)"
   ],
   "metadata": {
    "collapsed": false,
    "ExecuteTime": {
     "end_time": "2023-08-17T05:18:56.710431Z",
     "start_time": "2023-08-17T05:18:55.652203300Z"
    }
   }
  },
  {
   "cell_type": "markdown",
   "source": [
    "### 6. Improve your model"
   ],
   "metadata": {
    "collapsed": false
   }
  },
  {
   "cell_type": "code",
   "execution_count": 13,
   "outputs": [
    {
     "data": {
      "text/plain": "{'memory': None,\n 'steps': [('vect',\n   CountVectorizer(tokenizer=<function tokenize at 0x000001B4C637EC20>)),\n  ('tfidf', TfidfTransformer()),\n  ('clf', MultiOutputClassifier(estimator=RandomForestClassifier()))],\n 'verbose': False,\n 'vect': CountVectorizer(tokenizer=<function tokenize at 0x000001B4C637EC20>),\n 'tfidf': TfidfTransformer(),\n 'clf': MultiOutputClassifier(estimator=RandomForestClassifier()),\n 'vect__analyzer': 'word',\n 'vect__binary': False,\n 'vect__decode_error': 'strict',\n 'vect__dtype': numpy.int64,\n 'vect__encoding': 'utf-8',\n 'vect__input': 'content',\n 'vect__lowercase': True,\n 'vect__max_df': 1.0,\n 'vect__max_features': None,\n 'vect__min_df': 1,\n 'vect__ngram_range': (1, 1),\n 'vect__preprocessor': None,\n 'vect__stop_words': None,\n 'vect__strip_accents': None,\n 'vect__token_pattern': '(?u)\\\\b\\\\w\\\\w+\\\\b',\n 'vect__tokenizer': <function __main__.tokenize(disaster_text)>,\n 'vect__vocabulary': None,\n 'tfidf__norm': 'l2',\n 'tfidf__smooth_idf': True,\n 'tfidf__sublinear_tf': False,\n 'tfidf__use_idf': True,\n 'clf__estimator__bootstrap': True,\n 'clf__estimator__ccp_alpha': 0.0,\n 'clf__estimator__class_weight': None,\n 'clf__estimator__criterion': 'gini',\n 'clf__estimator__max_depth': None,\n 'clf__estimator__max_features': 'sqrt',\n 'clf__estimator__max_leaf_nodes': None,\n 'clf__estimator__max_samples': None,\n 'clf__estimator__min_impurity_decrease': 0.0,\n 'clf__estimator__min_samples_leaf': 1,\n 'clf__estimator__min_samples_split': 2,\n 'clf__estimator__min_weight_fraction_leaf': 0.0,\n 'clf__estimator__n_estimators': 100,\n 'clf__estimator__n_jobs': None,\n 'clf__estimator__oob_score': False,\n 'clf__estimator__random_state': None,\n 'clf__estimator__verbose': 0,\n 'clf__estimator__warm_start': False,\n 'clf__estimator': RandomForestClassifier(),\n 'clf__n_jobs': None}"
     },
     "execution_count": 13,
     "metadata": {},
     "output_type": "execute_result"
    }
   ],
   "source": [
    "# Using grid search to find better parameters\n",
    "pipeline.get_params()"
   ],
   "metadata": {
    "collapsed": false,
    "ExecuteTime": {
     "end_time": "2023-08-17T05:18:57.109568200Z",
     "start_time": "2023-08-17T05:18:56.495741Z"
    }
   }
  },
  {
   "cell_type": "code",
   "execution_count": 14,
   "outputs": [],
   "source": [
    "# specifying parameters for grid search\n",
    "parameters = {\n",
    "    'clf__estimator__n_estimators' : [50, 150]\n",
    "}"
   ],
   "metadata": {
    "collapsed": false,
    "ExecuteTime": {
     "end_time": "2023-08-17T05:18:57.115623100Z",
     "start_time": "2023-08-17T05:18:56.590488Z"
    }
   }
  },
  {
   "cell_type": "code",
   "execution_count": 15,
   "outputs": [
    {
     "data": {
      "text/plain": "GridSearchCV(estimator=Pipeline(steps=[('vect',\n                                        CountVectorizer(tokenizer=<function tokenize at 0x000001B4C637EC20>)),\n                                       ('tfidf', TfidfTransformer()),\n                                       ('clf',\n                                        MultiOutputClassifier(estimator=RandomForestClassifier()))]),\n             param_grid={'clf__estimator__n_estimators': [50, 150]})",
      "text/html": "<style>#sk-container-id-2 {color: black;background-color: white;}#sk-container-id-2 pre{padding: 0;}#sk-container-id-2 div.sk-toggleable {background-color: white;}#sk-container-id-2 label.sk-toggleable__label {cursor: pointer;display: block;width: 100%;margin-bottom: 0;padding: 0.3em;box-sizing: border-box;text-align: center;}#sk-container-id-2 label.sk-toggleable__label-arrow:before {content: \"▸\";float: left;margin-right: 0.25em;color: #696969;}#sk-container-id-2 label.sk-toggleable__label-arrow:hover:before {color: black;}#sk-container-id-2 div.sk-estimator:hover label.sk-toggleable__label-arrow:before {color: black;}#sk-container-id-2 div.sk-toggleable__content {max-height: 0;max-width: 0;overflow: hidden;text-align: left;background-color: #f0f8ff;}#sk-container-id-2 div.sk-toggleable__content pre {margin: 0.2em;color: black;border-radius: 0.25em;background-color: #f0f8ff;}#sk-container-id-2 input.sk-toggleable__control:checked~div.sk-toggleable__content {max-height: 200px;max-width: 100%;overflow: auto;}#sk-container-id-2 input.sk-toggleable__control:checked~label.sk-toggleable__label-arrow:before {content: \"▾\";}#sk-container-id-2 div.sk-estimator input.sk-toggleable__control:checked~label.sk-toggleable__label {background-color: #d4ebff;}#sk-container-id-2 div.sk-label input.sk-toggleable__control:checked~label.sk-toggleable__label {background-color: #d4ebff;}#sk-container-id-2 input.sk-hidden--visually {border: 0;clip: rect(1px 1px 1px 1px);clip: rect(1px, 1px, 1px, 1px);height: 1px;margin: -1px;overflow: hidden;padding: 0;position: absolute;width: 1px;}#sk-container-id-2 div.sk-estimator {font-family: monospace;background-color: #f0f8ff;border: 1px dotted black;border-radius: 0.25em;box-sizing: border-box;margin-bottom: 0.5em;}#sk-container-id-2 div.sk-estimator:hover {background-color: #d4ebff;}#sk-container-id-2 div.sk-parallel-item::after {content: \"\";width: 100%;border-bottom: 1px solid gray;flex-grow: 1;}#sk-container-id-2 div.sk-label:hover label.sk-toggleable__label {background-color: #d4ebff;}#sk-container-id-2 div.sk-serial::before {content: \"\";position: absolute;border-left: 1px solid gray;box-sizing: border-box;top: 0;bottom: 0;left: 50%;z-index: 0;}#sk-container-id-2 div.sk-serial {display: flex;flex-direction: column;align-items: center;background-color: white;padding-right: 0.2em;padding-left: 0.2em;position: relative;}#sk-container-id-2 div.sk-item {position: relative;z-index: 1;}#sk-container-id-2 div.sk-parallel {display: flex;align-items: stretch;justify-content: center;background-color: white;position: relative;}#sk-container-id-2 div.sk-item::before, #sk-container-id-2 div.sk-parallel-item::before {content: \"\";position: absolute;border-left: 1px solid gray;box-sizing: border-box;top: 0;bottom: 0;left: 50%;z-index: -1;}#sk-container-id-2 div.sk-parallel-item {display: flex;flex-direction: column;z-index: 1;position: relative;background-color: white;}#sk-container-id-2 div.sk-parallel-item:first-child::after {align-self: flex-end;width: 50%;}#sk-container-id-2 div.sk-parallel-item:last-child::after {align-self: flex-start;width: 50%;}#sk-container-id-2 div.sk-parallel-item:only-child::after {width: 0;}#sk-container-id-2 div.sk-dashed-wrapped {border: 1px dashed gray;margin: 0 0.4em 0.5em 0.4em;box-sizing: border-box;padding-bottom: 0.4em;background-color: white;}#sk-container-id-2 div.sk-label label {font-family: monospace;font-weight: bold;display: inline-block;line-height: 1.2em;}#sk-container-id-2 div.sk-label-container {text-align: center;}#sk-container-id-2 div.sk-container {/* jupyter's `normalize.less` sets `[hidden] { display: none; }` but bootstrap.min.css set `[hidden] { display: none !important; }` so we also need the `!important` here to be able to override the default hidden behavior on the sphinx rendered scikit-learn.org. See: https://github.com/scikit-learn/scikit-learn/issues/21755 */display: inline-block !important;position: relative;}#sk-container-id-2 div.sk-text-repr-fallback {display: none;}</style><div id=\"sk-container-id-2\" class=\"sk-top-container\"><div class=\"sk-text-repr-fallback\"><pre>GridSearchCV(estimator=Pipeline(steps=[(&#x27;vect&#x27;,\n                                        CountVectorizer(tokenizer=&lt;function tokenize at 0x000001B4C637EC20&gt;)),\n                                       (&#x27;tfidf&#x27;, TfidfTransformer()),\n                                       (&#x27;clf&#x27;,\n                                        MultiOutputClassifier(estimator=RandomForestClassifier()))]),\n             param_grid={&#x27;clf__estimator__n_estimators&#x27;: [50, 150]})</pre><b>In a Jupyter environment, please rerun this cell to show the HTML representation or trust the notebook. <br />On GitHub, the HTML representation is unable to render, please try loading this page with nbviewer.org.</b></div><div class=\"sk-container\" hidden><div class=\"sk-item sk-dashed-wrapped\"><div class=\"sk-label-container\"><div class=\"sk-label sk-toggleable\"><input class=\"sk-toggleable__control sk-hidden--visually\" id=\"sk-estimator-id-7\" type=\"checkbox\" ><label for=\"sk-estimator-id-7\" class=\"sk-toggleable__label sk-toggleable__label-arrow\">GridSearchCV</label><div class=\"sk-toggleable__content\"><pre>GridSearchCV(estimator=Pipeline(steps=[(&#x27;vect&#x27;,\n                                        CountVectorizer(tokenizer=&lt;function tokenize at 0x000001B4C637EC20&gt;)),\n                                       (&#x27;tfidf&#x27;, TfidfTransformer()),\n                                       (&#x27;clf&#x27;,\n                                        MultiOutputClassifier(estimator=RandomForestClassifier()))]),\n             param_grid={&#x27;clf__estimator__n_estimators&#x27;: [50, 150]})</pre></div></div></div><div class=\"sk-parallel\"><div class=\"sk-parallel-item\"><div class=\"sk-item\"><div class=\"sk-label-container\"><div class=\"sk-label sk-toggleable\"><input class=\"sk-toggleable__control sk-hidden--visually\" id=\"sk-estimator-id-8\" type=\"checkbox\" ><label for=\"sk-estimator-id-8\" class=\"sk-toggleable__label sk-toggleable__label-arrow\">estimator: Pipeline</label><div class=\"sk-toggleable__content\"><pre>Pipeline(steps=[(&#x27;vect&#x27;,\n                 CountVectorizer(tokenizer=&lt;function tokenize at 0x000001B4C637EC20&gt;)),\n                (&#x27;tfidf&#x27;, TfidfTransformer()),\n                (&#x27;clf&#x27;,\n                 MultiOutputClassifier(estimator=RandomForestClassifier()))])</pre></div></div></div><div class=\"sk-serial\"><div class=\"sk-item\"><div class=\"sk-serial\"><div class=\"sk-item\"><div class=\"sk-estimator sk-toggleable\"><input class=\"sk-toggleable__control sk-hidden--visually\" id=\"sk-estimator-id-9\" type=\"checkbox\" ><label for=\"sk-estimator-id-9\" class=\"sk-toggleable__label sk-toggleable__label-arrow\">CountVectorizer</label><div class=\"sk-toggleable__content\"><pre>CountVectorizer(tokenizer=&lt;function tokenize at 0x000001B4C637EC20&gt;)</pre></div></div></div><div class=\"sk-item\"><div class=\"sk-estimator sk-toggleable\"><input class=\"sk-toggleable__control sk-hidden--visually\" id=\"sk-estimator-id-10\" type=\"checkbox\" ><label for=\"sk-estimator-id-10\" class=\"sk-toggleable__label sk-toggleable__label-arrow\">TfidfTransformer</label><div class=\"sk-toggleable__content\"><pre>TfidfTransformer()</pre></div></div></div><div class=\"sk-item sk-dashed-wrapped\"><div class=\"sk-label-container\"><div class=\"sk-label sk-toggleable\"><input class=\"sk-toggleable__control sk-hidden--visually\" id=\"sk-estimator-id-11\" type=\"checkbox\" ><label for=\"sk-estimator-id-11\" class=\"sk-toggleable__label sk-toggleable__label-arrow\">clf: MultiOutputClassifier</label><div class=\"sk-toggleable__content\"><pre>MultiOutputClassifier(estimator=RandomForestClassifier())</pre></div></div></div><div class=\"sk-parallel\"><div class=\"sk-parallel-item\"><div class=\"sk-item\"><div class=\"sk-label-container\"><div class=\"sk-label sk-toggleable\"><input class=\"sk-toggleable__control sk-hidden--visually\" id=\"sk-estimator-id-12\" type=\"checkbox\" ><label for=\"sk-estimator-id-12\" class=\"sk-toggleable__label sk-toggleable__label-arrow\">estimator: RandomForestClassifier</label><div class=\"sk-toggleable__content\"><pre>RandomForestClassifier()</pre></div></div></div><div class=\"sk-serial\"><div class=\"sk-item\"><div class=\"sk-estimator sk-toggleable\"><input class=\"sk-toggleable__control sk-hidden--visually\" id=\"sk-estimator-id-13\" type=\"checkbox\" ><label for=\"sk-estimator-id-13\" class=\"sk-toggleable__label sk-toggleable__label-arrow\">RandomForestClassifier</label><div class=\"sk-toggleable__content\"><pre>RandomForestClassifier()</pre></div></div></div></div></div></div></div></div></div></div></div></div></div></div></div></div></div>"
     },
     "execution_count": 15,
     "metadata": {},
     "output_type": "execute_result"
    }
   ],
   "source": [
    "# creating grid search object\n",
    "cv = GridSearchCV(pipeline, param_grid=parameters)\n",
    "\n",
    "cv"
   ],
   "metadata": {
    "collapsed": false,
    "ExecuteTime": {
     "end_time": "2023-08-17T05:18:57.117615900Z",
     "start_time": "2023-08-17T05:18:56.599464900Z"
    }
   }
  },
  {
   "cell_type": "code",
   "execution_count": null,
   "outputs": [
    {
     "name": "stderr",
     "output_type": "stream",
     "text": [
      "C:\\Users\\Just Me\\anaconda3\\lib\\site-packages\\sklearn\\feature_extraction\\text.py:528: UserWarning: The parameter 'token_pattern' will not be used since 'tokenizer' is not None'\n",
      "  warnings.warn(\n",
      "C:\\Users\\Just Me\\anaconda3\\lib\\site-packages\\sklearn\\feature_extraction\\text.py:528: UserWarning: The parameter 'token_pattern' will not be used since 'tokenizer' is not None'\n",
      "  warnings.warn(\n",
      "C:\\Users\\Just Me\\anaconda3\\lib\\site-packages\\sklearn\\feature_extraction\\text.py:528: UserWarning: The parameter 'token_pattern' will not be used since 'tokenizer' is not None'\n",
      "  warnings.warn(\n",
      "C:\\Users\\Just Me\\anaconda3\\lib\\site-packages\\sklearn\\feature_extraction\\text.py:528: UserWarning: The parameter 'token_pattern' will not be used since 'tokenizer' is not None'\n",
      "  warnings.warn(\n"
     ]
    }
   ],
   "source": [
    "# Fit the train datasets\n",
    "cv.fit(X_train, y_train)"
   ],
   "metadata": {
    "collapsed": false,
    "is_executing": true,
    "ExecuteTime": {
     "start_time": "2023-08-17T05:18:56.758701600Z"
    }
   }
  },
  {
   "cell_type": "code",
   "execution_count": null,
   "outputs": [],
   "source": [
    "# Using cv to find the best parameter\n",
    "cv.best_params_"
   ],
   "metadata": {
    "collapsed": false,
    "is_executing": true
   }
  },
  {
   "cell_type": "markdown",
   "source": [
    "### 7. Test your model"
   ],
   "metadata": {
    "collapsed": false
   }
  },
  {
   "cell_type": "code",
   "execution_count": null,
   "outputs": [],
   "source": [
    "# Performing predictions on the test dataset using cv\n",
    "y_pred = cv.predict(X_test)"
   ],
   "metadata": {
    "collapsed": false,
    "is_executing": true
   }
  },
  {
   "cell_type": "code",
   "execution_count": null,
   "outputs": [],
   "source": [
    "# Test the model using the test and prediction dataset\n",
    "test_model(y_test, y_pred)"
   ],
   "metadata": {
    "collapsed": false,
    "is_executing": true
   }
  },
  {
   "cell_type": "code",
   "execution_count": null,
   "outputs": [],
   "source": [
    "# Displaying the accuracy score\n",
    "accuracy = (y_pred == y_test).mean()\n",
    "accuracy"
   ],
   "metadata": {
    "collapsed": false,
    "is_executing": true
   }
  },
  {
   "cell_type": "markdown",
   "source": [
    "### 8. Try improving your model further."
   ],
   "metadata": {
    "collapsed": false
   }
  },
  {
   "cell_type": "code",
   "execution_count": null,
   "outputs": [],
   "source": [
    "from custom_transformer import StartingVerbExtractor\n",
    "from sklearn import multioutput\n",
    "\n",
    "#trying to add another feature.\n",
    "\n",
    "upd_pipeline = Pipeline([\n",
    "    ('features', FeatureUnion ([\n",
    "\n",
    "        ('text_pipeline', Pipeline ([\n",
    "            ('vect', CountVectorizer(tokenizer=tokenize)),\n",
    "            ('tfidf', TfidfTransformer())\n",
    "        ])),\n",
    "        ('starting_verb', StartingVerbExtractor ())\n",
    "    ])),\n",
    "\n",
    "    ('clf', multioutput.MultiOutputClassifier (RandomForestClassifier ()))\n",
    "])\n",
    "\n",
    "# train SVM classifier\n",
    "upd_pipeline.fit(X_train, y_train)\n"
   ],
   "metadata": {
    "collapsed": false,
    "is_executing": true
   }
  },
  {
   "cell_type": "code",
   "execution_count": null,
   "outputs": [],
   "source": [
    "y_pred_upd = upd_pipeline.predict (X_test)\n",
    "#converting to dataframe\n",
    "y_pred_upd = pd.DataFrame (y_pred_upd, columns = y_test.columns)"
   ],
   "metadata": {
    "collapsed": false,
    "is_executing": true
   }
  },
  {
   "cell_type": "markdown",
   "source": [
    "### 9. Export your model as a pickle file"
   ],
   "metadata": {
    "collapsed": false
   }
  },
  {
   "cell_type": "code",
   "execution_count": null,
   "outputs": [],
   "source": [
    "filename = 'classifier.pkl'\n",
    "pickle.dump(cv, open(filename, 'wb'))"
   ],
   "metadata": {
    "collapsed": false,
    "is_executing": true
   }
  }
 ],
 "metadata": {
  "kernelspec": {
   "display_name": "Python 3",
   "language": "python",
   "name": "python3"
  },
  "language_info": {
   "codemirror_mode": {
    "name": "ipython",
    "version": 2
   },
   "file_extension": ".py",
   "mimetype": "text/x-python",
   "name": "python",
   "nbconvert_exporter": "python",
   "pygments_lexer": "ipython2",
   "version": "2.7.6"
  }
 },
 "nbformat": 4,
 "nbformat_minor": 0
}
