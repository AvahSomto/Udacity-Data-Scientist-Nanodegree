{
 "cells": [
  {
   "cell_type": "markdown",
   "metadata": {},
   "source": [
    "# Using APIs with Python\n",
    "\n",
    "This Ipython notebook shows you how to use the World Bank API with the Python requests library. At the end there is a short exercise for you.\n",
    "\n",
    "To access APIs in Python, you can use the [requests library](http://docs.python-requests.org/en/master/user/install/). \n",
    "\n",
    "To install, you can go in a terminal and type:\n",
    "```\n",
    "pip install pipenv\n",
    "pipenv install requests\n",
    "```\n",
    "\n",
    "When you use the requests library, it's like putting an API url in a browser except now Python does this behind the scenes programatically and then stores the results in a variable. The classroom workspaces already have the requests library installed. Here is a demonstration of how the request library works."
   ]
  },
  {
   "cell_type": "code",
   "execution_count": 1,
   "metadata": {},
   "outputs": [
    {
     "data": {
      "text/plain": [
       "'ï»¿<?xml version=\"1.0\" encoding=\"utf-8\"?>\\r\\n<wb:data page=\"1\" pages=\"2\" per_page=\"50\" total=\"63\" sourceid=\"2\" lastupdated=\"2023-07-25\" xmlns:wb=\"http://www.worldbank.org\">\\r\\n  <wb:data>\\r\\n    <wb:indicator id=\"NY.GDP.MKTP.CD\">GDP (current US$)</wb:indicator>\\r\\n    <wb:country id=\"BR\">Brazil</wb:country>\\r\\n    <wb:countryiso3code>BRA</wb:countryiso3code>\\r\\n    <wb:date>2022</wb:date>\\r\\n    <wb:value>1920095560995.06</wb:value>\\r\\n    <wb:unit />\\r\\n    <wb:obs_status />\\r\\n    <wb:decimal>0</wb:decimal>\\r\\n  </wb:data>\\r\\n  <wb:data>\\r\\n    <wb:indicator id=\"NY.GDP.MKTP.CD\">GDP (current US$)</wb:indicator>\\r\\n    <wb:country id=\"BR\">Brazil</wb:country>\\r\\n    <wb:countryiso3code>BRA</wb:countryiso3code>\\r\\n    <wb:date>2021</wb:date>\\r\\n    <wb:value>1649622972159.35</wb:value>\\r\\n    <wb:unit />\\r\\n    <wb:obs_status />\\r\\n    <wb:decimal>0</wb:decimal>\\r\\n  </wb:data>\\r\\n  <wb:data>\\r\\n    <wb:indicator id=\"NY.GDP.MKTP.CD\">GDP (current US$)</wb:indicator>\\r\\n    <wb:country id=\"BR\">Brazil</wb:country>\\r\\n    <wb:countryiso3code>BRA</wb:countryiso3code>\\r\\n    <wb:date>2020</wb:date>\\r\\n    <wb:value>1476107292036.59</wb:value>\\r\\n    <wb:unit />\\r\\n    <wb:obs_status />\\r\\n    <wb:decimal>0</wb:decimal>\\r\\n  </wb:data>\\r\\n  <wb:data>\\r\\n    <wb:indicator id=\"NY.GDP.MKTP.CD\">GDP (current US$)</wb:indicator>\\r\\n    <wb:country id=\"BR\">Brazil</wb:country>\\r\\n    <wb:countryiso3code>BRA</wb:countryiso3code>\\r\\n    <wb:date>2019</wb:date>\\r\\n    <wb:value>1873288159000.64</wb:value>\\r\\n    <wb:unit />\\r\\n    <wb:obs_status />\\r\\n    <wb:decimal>0</wb:decimal>\\r\\n  </wb:data>\\r\\n  <wb:data>\\r\\n    <wb:indicator id=\"NY.GDP.MKTP.CD\">GDP (current US$)</wb:indicator>\\r\\n    <wb:country id=\"BR\">Brazil</wb:country>\\r\\n    <wb:countryiso3code>BRA</wb:countryiso3code>\\r\\n    <wb:date>2018</wb:date>\\r\\n    <wb:value>1916933708404.16</wb:value>\\r\\n    <wb:unit />\\r\\n    <wb:obs_status />\\r\\n    <wb:decimal>0</wb:decimal>\\r\\n  </wb:data>\\r\\n  <wb:data>\\r\\n    <wb:indicator id=\"NY.GDP.MKTP.CD\">GDP (current US$)</wb:indicator>\\r\\n    <wb:country id=\"BR\">Brazil</wb:country>\\r\\n    <wb:countryiso3code>BRA</wb:countryiso3code>\\r\\n    <wb:date>2017</wb:date>\\r\\n    <wb:value>2063514688761.67</wb:value>\\r\\n    <wb:unit />\\r\\n    <wb:obs_status />\\r\\n    <wb:decimal>0</wb:decimal>\\r\\n  </wb:data>\\r\\n  <wb:data>\\r\\n    <wb:indicator id=\"NY.GDP.MKTP.CD\">GDP (current US$)</wb:indicator>\\r\\n    <wb:country id=\"BR\">Brazil</wb:country>\\r\\n    <wb:countryiso3code>BRA</wb:countryiso3code>\\r\\n    <wb:date>2016</wb:date>\\r\\n    <wb:value>1795693265824.27</wb:value>\\r\\n    <wb:unit />\\r\\n    <wb:obs_status />\\r\\n    <wb:decimal>0</wb:decimal>\\r\\n  </wb:data>\\r\\n  <wb:data>\\r\\n    <wb:indicator id=\"NY.GDP.MKTP.CD\">GDP (current US$)</wb:indicator>\\r\\n    <wb:country id=\"BR\">Brazil</wb:country>\\r\\n    <wb:countryiso3code>BRA</wb:countryiso3code>\\r\\n    <wb:date>2015</wb:date>\\r\\n    <wb:value>1802211999555.59</wb:value>\\r\\n    <wb:unit />\\r\\n    <wb:obs_status />\\r\\n    <wb:decimal>0</wb:decimal>\\r\\n  </wb:data>\\r\\n  <wb:data>\\r\\n    <wb:indicator id=\"NY.GDP.MKTP.CD\">GDP (current US$)</wb:indicator>\\r\\n    <wb:country id=\"BR\">Brazil</wb:country>\\r\\n    <wb:countryiso3code>BRA</wb:countryiso3code>\\r\\n    <wb:date>2014</wb:date>\\r\\n    <wb:value>2456043766063.5</wb:value>\\r\\n    <wb:unit />\\r\\n    <wb:obs_status />\\r\\n    <wb:decimal>0</wb:decimal>\\r\\n  </wb:data>\\r\\n  <wb:data>\\r\\n    <wb:indicator id=\"NY.GDP.MKTP.CD\">GDP (current US$)</wb:indicator>\\r\\n    <wb:country id=\"BR\">Brazil</wb:country>\\r\\n    <wb:countryiso3code>BRA</wb:countryiso3code>\\r\\n    <wb:date>2013</wb:date>\\r\\n    <wb:value>2472819362259</wb:value>\\r\\n    <wb:unit />\\r\\n    <wb:obs_status />\\r\\n    <wb:decimal>0</wb:decimal>\\r\\n  </wb:data>\\r\\n  <wb:data>\\r\\n    <wb:indicator id=\"NY.GDP.MKTP.CD\">GDP (current US$)</wb:indicator>\\r\\n    <wb:country id=\"BR\">Brazil</wb:country>\\r\\n    <wb:countryiso3code>BRA</wb:countryiso3code>\\r\\n    <wb:date>2012</wb:date>\\r\\n    <wb:value>2465228293862.62</wb:value>\\r\\n    <wb:unit />\\r\\n    <wb:obs_status />\\r\\n    <wb:decimal>0</wb:decimal>\\r\\n  </wb:data>\\r\\n  <wb:data>\\r\\n    <wb:indicator id=\"NY.GDP.MKTP.CD\">GDP (current US$)</wb:indicator>\\r\\n    <wb:country id=\"BR\">Brazil</wb:country>\\r\\n    <wb:countryiso3code>BRA</wb:countryiso3code>\\r\\n    <wb:date>2011</wb:date>\\r\\n    <wb:value>2616156606734.51</wb:value>\\r\\n    <wb:unit />\\r\\n    <wb:obs_status />\\r\\n    <wb:decimal>0</wb:decimal>\\r\\n  </wb:data>\\r\\n  <wb:data>\\r\\n    <wb:indicator id=\"NY.GDP.MKTP.CD\">GDP (current US$)</wb:indicator>\\r\\n    <wb:country id=\"BR\">Brazil</wb:country>\\r\\n    <wb:countryiso3code>BRA</wb:countryiso3code>\\r\\n    <wb:date>2010</wb:date>\\r\\n    <wb:value>2208838108593.19</wb:value>\\r\\n    <wb:unit />\\r\\n    <wb:obs_status />\\r\\n    <wb:decimal>0</wb:decimal>\\r\\n  </wb:data>\\r\\n  <wb:data>\\r\\n    <wb:indicator id=\"NY.GDP.MKTP.CD\">GDP (current US$)</wb:indicator>\\r\\n    <wb:country id=\"BR\">Brazil</wb:country>\\r\\n    <wb:countryiso3code>BRA</wb:countryiso3code>\\r\\n    <wb:date>2009</wb:date>\\r\\n    <wb:value>1666996294324.76</wb:value>\\r\\n    <wb:unit />\\r\\n    <wb:obs_status />\\r\\n    <wb:decimal>0</wb:decimal>\\r\\n  </wb:data>\\r\\n  <wb:data>\\r\\n    <wb:indicator id=\"NY.GDP.MKTP.CD\">GDP (current US$)</wb:indicator>\\r\\n    <wb:country id=\"BR\">Brazil</wb:country>\\r\\n    <wb:countryiso3code>BRA</wb:countryiso3code>\\r\\n    <wb:date>2008</wb:date>\\r\\n    <wb:value>1695855391816.48</wb:value>\\r\\n    <wb:unit />\\r\\n    <wb:obs_status />\\r\\n    <wb:decimal>0</wb:decimal>\\r\\n  </wb:data>\\r\\n  <wb:data>\\r\\n    <wb:indicator id=\"NY.GDP.MKTP.CD\">GDP (current US$)</wb:indicator>\\r\\n    <wb:country id=\"BR\">Brazil</wb:country>\\r\\n    <wb:countryiso3code>BRA</wb:countryiso3code>\\r\\n    <wb:date>2007</wb:date>\\r\\n    <wb:value>1397114247287.58</wb:value>\\r\\n    <wb:unit />\\r\\n    <wb:obs_status />\\r\\n    <wb:decimal>0</wb:decimal>\\r\\n  </wb:data>\\r\\n  <wb:data>\\r\\n    <wb:indicator id=\"NY.GDP.MKTP.CD\">GDP (current US$)</wb:indicator>\\r\\n    <wb:country id=\"BR\">Brazil</wb:country>\\r\\n    <wb:countryiso3code>BRA</wb:countryiso3code>\\r\\n    <wb:date>2006</wb:date>\\r\\n    <wb:value>1107626711436.44</wb:value>\\r\\n    <wb:unit />\\r\\n    <wb:obs_status />\\r\\n    <wb:decimal>0</wb:decimal>\\r\\n  </wb:data>\\r\\n  <wb:data>\\r\\n    <wb:indicator id=\"NY.GDP.MKTP.CD\">GDP (current US$)</wb:indicator>\\r\\n    <wb:country id=\"BR\">Brazil</wb:country>\\r\\n    <wb:countryiso3code>BRA</wb:countryiso3code>\\r\\n    <wb:date>2005</wb:date>\\r\\n    <wb:value>891633826582.606</wb:value>\\r\\n    <wb:unit />\\r\\n    <wb:obs_status />\\r\\n    <wb:decimal>0</wb:decimal>\\r\\n  </wb:data>\\r\\n  <wb:data>\\r\\n    <wb:indicator id=\"NY.GDP.MKTP.CD\">GDP (current US$)</wb:indicator>\\r\\n    <wb:country id=\"BR\">Brazil</wb:country>\\r\\n    <wb:countryiso3code>BRA</wb:countryiso3code>\\r\\n    <wb:date>2004</wb:date>\\r\\n    <wb:value>669289321953.683</wb:value>\\r\\n    <wb:unit />\\r\\n    <wb:obs_status />\\r\\n    <wb:decimal>0</wb:decimal>\\r\\n  </wb:data>\\r\\n  <wb:data>\\r\\n    <wb:indicator id=\"NY.GDP.MKTP.CD\">GDP (current US$)</wb:indicator>\\r\\n    <wb:country id=\"BR\">Brazil</wb:country>\\r\\n    <wb:countryiso3code>BRA</wb:countryiso3code>\\r\\n    <wb:date>2003</wb:date>\\r\\n    <wb:value>558233724160.742</wb:value>\\r\\n    <wb:unit />\\r\\n    <wb:obs_status />\\r\\n    <wb:decimal>0</wb:decimal>\\r\\n  </wb:data>\\r\\n  <wb:data>\\r\\n    <wb:indicator id=\"NY.GDP.MKTP.CD\">GDP (current US$)</wb:indicator>\\r\\n    <wb:country id=\"BR\">Brazil</wb:country>\\r\\n    <wb:countryiso3code>BRA</wb:countryiso3code>\\r\\n    <wb:date>2002</wb:date>\\r\\n    <wb:value>509795270707.268</wb:value>\\r\\n    <wb:unit />\\r\\n    <wb:obs_status />\\r\\n    <wb:decimal>0</wb:decimal>\\r\\n  </wb:data>\\r\\n  <wb:data>\\r\\n    <wb:indicator id=\"NY.GDP.MKTP.CD\">GDP (current US$)</wb:indicator>\\r\\n    <wb:country id=\"BR\">Brazil</wb:country>\\r\\n    <wb:countryiso3code>BRA</wb:countryiso3code>\\r\\n    <wb:date>2001</wb:date>\\r\\n    <wb:value>559983704075.658</wb:value>\\r\\n    <wb:unit />\\r\\n    <wb:obs_status />\\r\\n    <wb:decimal>0</wb:decimal>\\r\\n  </wb:data>\\r\\n  <wb:data>\\r\\n    <wb:indicator id=\"NY.GDP.MKTP.CD\">GDP (current US$)</wb:indicator>\\r\\n    <wb:country id=\"BR\">Brazil</wb:country>\\r\\n    <wb:countryiso3code>BRA</wb:countryiso3code>\\r\\n    <wb:date>2000</wb:date>\\r\\n    <wb:value>655448188246.11</wb:value>\\r\\n    <wb:unit />\\r\\n    <wb:obs_status />\\r\\n    <wb:decimal>0</wb:decimal>\\r\\n  </wb:data>\\r\\n  <wb:data>\\r\\n    <wb:indicator id=\"NY.GDP.MKTP.CD\">GDP (current US$)</wb:indicator>\\r\\n    <wb:country id=\"BR\">Brazil</wb:country>\\r\\n    <wb:countryiso3code>BRA</wb:countryiso3code>\\r\\n    <wb:date>1999</wb:date>\\r\\n    <wb:value>599642075039.049</wb:value>\\r\\n    <wb:unit />\\r\\n    <wb:obs_status />\\r\\n    <wb:decimal>0</wb:decimal>\\r\\n  </wb:data>\\r\\n  <wb:data>\\r\\n    <wb:indicator id=\"NY.GDP.MKTP.CD\">GDP (current US$)</wb:indicator>\\r\\n    <wb:country id=\"BR\">Brazil</wb:country>\\r\\n    <wb:countryiso3code>BRA</wb:countryiso3code>\\r\\n    <wb:date>1998</wb:date>\\r\\n    <wb:value>863711007338.683</wb:value>\\r\\n    <wb:unit />\\r\\n    <wb:obs_status />\\r\\n    <wb:decimal>0</wb:decimal>\\r\\n  </wb:data>\\r\\n  <wb:data>\\r\\n    <wb:indicator id=\"NY.GDP.MKTP.CD\">GDP (current US$)</wb:indicator>\\r\\n    <wb:country id=\"BR\">Brazil</wb:country>\\r\\n    <wb:countryiso3code>BRA</wb:countryiso3code>\\r\\n    <wb:date>1997</wb:date>\\r\\n    <wb:value>883206452832.811</wb:value>\\r\\n    <wb:unit />\\r\\n    <wb:obs_status />\\r\\n    <wb:decimal>0</wb:decimal>\\r\\n  </wb:data>\\r\\n  <wb:data>\\r\\n    <wb:indicator id=\"NY.GDP.MKTP.CD\">GDP (current US$)</wb:indicator>\\r\\n    <wb:country id=\"BR\">Brazil</wb:country>\\r\\n    <wb:countryiso3code>BRA</wb:countryiso3code>\\r\\n    <wb:date>1996</wb:date>\\r\\n    <wb:value>850426432991.742</wb:value>\\r\\n    <wb:unit />\\r\\n    <wb:obs_status />\\r\\n    <wb:decimal>0</wb:decimal>\\r\\n  </wb:data>\\r\\n  <wb:data>\\r\\n    <wb:indicator id=\"NY.GDP.MKTP.CD\">GDP (current US$)</wb:indicator>\\r\\n    <wb:country id=\"BR\">Brazil</wb:country>\\r\\n    <wb:countryiso3code>BRA</wb:countryiso3code>\\r\\n    <wb:date>1995</wb:date>\\r\\n    <wb:value>769333330439.52</wb:value>\\r\\n    <wb:unit />\\r\\n    <wb:obs_status />\\r\\n    <wb:decimal>0</wb:decimal>\\r\\n  </wb:data>\\r\\n  <wb:data>\\r\\n    <wb:indicator id=\"NY.GDP.MKTP.CD\">GDP (current US$)</wb:indicator>\\r\\n    <wb:country id=\"BR\">Brazil</wb:country>\\r\\n    <wb:countryiso3code>BRA</wb:countryiso3code>\\r\\n    <wb:date>1994</wb:date>\\r\\n    <wb:value>546229749726.263</wb:value>\\r\\n    <wb:unit />\\r\\n    <wb:obs_status />\\r\\n    <wb:decimal>0</wb:decimal>\\r\\n  </wb:data>\\r\\n  <wb:data>\\r\\n    <wb:indicator id=\"NY.GDP.MKTP.CD\">GDP (current US$)</wb:indicator>\\r\\n    <wb:country id=\"BR\">Brazil</wb:country>\\r\\n    <wb:countryiso3code>BRA</wb:countryiso3code>\\r\\n    <wb:date>1993</wb:date>\\r\\n    <wb:value>438299504463.02</wb:value>\\r\\n    <wb:unit />\\r\\n    <wb:obs_status />\\r\\n    <wb:decimal>0</wb:decimal>\\r\\n  </wb:data>\\r\\n  <wb:data>\\r\\n    <wb:indicator id=\"NY.GDP.MKTP.CD\">GDP (current US$)</wb:indicator>\\r\\n    <wb:country id=\"BR\">Brazil</wb:country>\\r\\n    <wb:countryiso3code>BRA</wb:countryiso3code>\\r\\n    <wb:date>1992</wb:date>\\r\\n    <wb:value>390566561752.671</wb:value>\\r\\n    <wb:unit />\\r\\n    <wb:obs_status />\\r\\n    <wb:decimal>0</wb:decimal>\\r\\n  </wb:data>\\r\\n  <wb:data>\\r\\n    <wb:indicator id=\"NY.GDP.MKTP.CD\">GDP (current US$)</wb:indicator>\\r\\n    <wb:country id=\"BR\">Brazil</wb:country>\\r\\n    <wb:countryiso3code>BRA</wb:countryiso3code>\\r\\n    <wb:date>1991</wb:date>\\r\\n    <wb:value>407729053018.907</wb:value>\\r\\n    <wb:unit />\\r\\n    <wb:obs_status />\\r\\n    <wb:decimal>0</wb:decimal>\\r\\n  </wb:data>\\r\\n  <wb:data>\\r\\n    <wb:indicator id=\"NY.GDP.MKTP.CD\">GDP (current US$)</wb:indicator>\\r\\n    <wb:country id=\"BR\">Brazil</wb:country>\\r\\n    <wb:countryiso3code>BRA</wb:countryiso3code>\\r\\n    <wb:date>1990</wb:date>\\r\\n    <wb:value>464989098144.854</wb:value>\\r\\n    <wb:unit />\\r\\n    <wb:obs_status />\\r\\n    <wb:decimal>0</wb:decimal>\\r\\n  </wb:data>\\r\\n  <wb:data>\\r\\n    <wb:indicator id=\"NY.GDP.MKTP.CD\">GDP (current US$)</wb:indicator>\\r\\n    <wb:country id=\"BR\">Brazil</wb:country>\\r\\n    <wb:countryiso3code>BRA</wb:countryiso3code>\\r\\n    <wb:date>1989</wb:date>\\r\\n    <wb:value>412990820287.42</wb:value>\\r\\n    <wb:unit />\\r\\n    <wb:obs_status />\\r\\n    <wb:decimal>0</wb:decimal>\\r\\n  </wb:data>\\r\\n  <wb:data>\\r\\n    <wb:indicator id=\"NY.GDP.MKTP.CD\">GDP (current US$)</wb:indicator>\\r\\n    <wb:country id=\"BR\">Brazil</wb:country>\\r\\n    <wb:countryiso3code>BRA</wb:countryiso3code>\\r\\n    <wb:date>1988</wb:date>\\r\\n    <wb:value>307881930752.268</wb:value>\\r\\n    <wb:unit />\\r\\n    <wb:obs_status />\\r\\n    <wb:decimal>0</wb:decimal>\\r\\n  </wb:data>\\r\\n  <wb:data>\\r\\n    <wb:indicator id=\"NY.GDP.MKTP.CD\">GDP (current US$)</wb:indicator>\\r\\n    <wb:country id=\"BR\">Brazil</wb:country>\\r\\n    <wb:countryiso3code>BRA</wb:countryiso3code>\\r\\n    <wb:date>1987</wb:date>\\r\\n    <wb:value>283056836893.838</wb:value>\\r\\n    <wb:unit />\\r\\n    <wb:obs_status />\\r\\n    <wb:decimal>0</wb:decimal>\\r\\n  </wb:data>\\r\\n  <wb:data>\\r\\n    <wb:indicator id=\"NY.GDP.MKTP.CD\">GDP (current US$)</wb:indicator>\\r\\n    <wb:country id=\"BR\">Brazil</wb:country>\\r\\n    <wb:countryiso3code>BRA</wb:countryiso3code>\\r\\n    <wb:date>1986</wb:date>\\r\\n    <wb:value>256480852471.129</wb:value>\\r\\n    <wb:unit />\\r\\n    <wb:obs_status />\\r\\n    <wb:decimal>0</wb:decimal>\\r\\n  </wb:data>\\r\\n  <wb:data>\\r\\n    <wb:indicator id=\"NY.GDP.MKTP.CD\">GDP (current US$)</wb:indicator>\\r\\n    <wb:country id=\"BR\">Brazil</wb:country>\\r\\n    <wb:countryiso3code>BRA</wb:countryiso3code>\\r\\n    <wb:date>1985</wb:date>\\r\\n    <wb:value>210879844638.877</wb:value>\\r\\n    <wb:unit />\\r\\n    <wb:obs_status />\\r\\n    <wb:decimal>0</wb:decimal>\\r\\n  </wb:data>\\r\\n  <wb:data>\\r\\n    <wb:indicator id=\"NY.GDP.MKTP.CD\">GDP (current US$)</wb:indicator>\\r\\n    <wb:country id=\"BR\">Brazil</wb:country>\\r\\n    <wb:countryiso3code>BRA</wb:countryiso3code>\\r\\n    <wb:date>1984</wb:date>\\r\\n    <wb:value>188339974086.58</wb:value>\\r\\n    <wb:unit />\\r\\n    <wb:obs_status />\\r\\n    <wb:decimal>0</wb:decimal>\\r\\n  </wb:data>\\r\\n  <wb:data>\\r\\n    <wb:indicator id=\"NY.GDP.MKTP.CD\">GDP (current US$)</wb:indicator>\\r\\n    <wb:country id=\"BR\">Brazil</wb:country>\\r\\n    <wb:countryiso3code>BRA</wb:countryiso3code>\\r\\n    <wb:date>1983</wb:date>\\r\\n    <wb:value>189656506321.431</wb:value>\\r\\n    <wb:unit />\\r\\n    <wb:obs_status />\\r\\n    <wb:decimal>0</wb:decimal>\\r\\n  </wb:data>\\r\\n  <wb:data>\\r\\n    <wb:indicator id=\"NY.GDP.MKTP.CD\">GDP (current US$)</wb:indicator>\\r\\n    <wb:country id=\"BR\">Brazil</wb:country>\\r\\n    <wb:countryiso3code>BRA</wb:countryiso3code>\\r\\n    <wb:date>1982</wb:date>\\r\\n    <wb:value>271314113768.417</wb:value>\\r\\n    <wb:unit />\\r\\n    <wb:obs_status />\\r\\n    <wb:decimal>0</wb:decimal>\\r\\n  </wb:data>\\r\\n  <wb:data>\\r\\n    <wb:indicator id=\"NY.GDP.MKTP.CD\">GDP (current US$)</wb:indicator>\\r\\n    <wb:country id=\"BR\">Brazil</wb:country>\\r\\n    <wb:countryiso3code>BRA</wb:countryiso3code>\\r\\n    <wb:date>1981</wb:date>\\r\\n    <wb:value>258015174748.648</wb:value>\\r\\n    <wb:unit />\\r\\n    <wb:obs_status />\\r\\n    <wb:decimal>0</wb:decimal>\\r\\n  </wb:data>\\r\\n  <wb:data>\\r\\n    <wb:indicator id=\"NY.GDP.MKTP.CD\">GDP (current US$)</wb:indicator>\\r\\n    <wb:country id=\"BR\">Brazil</wb:country>\\r\\n    <wb:countryiso3code>BRA</wb:countryiso3code>\\r\\n    <wb:date>1980</wb:date>\\r\\n    <wb:value>237393489892.637</wb:value>\\r\\n    <wb:unit />\\r\\n    <wb:obs_status />\\r\\n    <wb:decimal>0</wb:decimal>\\r\\n  </wb:data>\\r\\n  <wb:data>\\r\\n    <wb:indicator id=\"NY.GDP.MKTP.CD\">GDP (current US$)</wb:indicator>\\r\\n    <wb:country id=\"BR\">Brazil</wb:country>\\r\\n    <wb:countryiso3code>BRA</wb:countryiso3code>\\r\\n    <wb:date>1979</wb:date>\\r\\n    <wb:value>221338204480.222</wb:value>\\r\\n    <wb:unit />\\r\\n    <wb:obs_status />\\r\\n    <wb:decimal>0</wb:decimal>\\r\\n  </wb:data>\\r\\n  <wb:data>\\r\\n    <wb:indicator id=\"NY.GDP.MKTP.CD\">GDP (current US$)</wb:indicator>\\r\\n    <wb:country id=\"BR\">Brazil</wb:country>\\r\\n    <wb:countryiso3code>BRA</wb:countryiso3code>\\r\\n    <wb:date>1978</wb:date>\\r\\n    <wb:value>200278646123.581</wb:value>\\r\\n    <wb:unit />\\r\\n    <wb:obs_status />\\r\\n    <wb:decimal>0</wb:decimal>\\r\\n  </wb:data>\\r\\n  <wb:data>\\r\\n    <wb:indicator id=\"NY.GDP.MKTP.CD\">GDP (current US$)</wb:indicator>\\r\\n    <wb:country id=\"BR\">Brazil</wb:country>\\r\\n    <wb:countryiso3code>BRA</wb:countryiso3code>\\r\\n    <wb:date>1977</wb:date>\\r\\n    <wb:value>176344101401.941</wb:value>\\r\\n    <wb:unit />\\r\\n    <wb:obs_status />\\r\\n    <wb:decimal>0</wb:decimal>\\r\\n  </wb:data>\\r\\n  <wb:data>\\r\\n    <wb:indicator id=\"NY.GDP.MKTP.CD\">GDP (current US$)</wb:indicator>\\r\\n    <wb:country id=\"BR\">Brazil</wb:country>\\r\\n    <wb:countryiso3code>BRA</wb:countryiso3code>\\r\\n    <wb:date>1976</wb:date>\\r\\n    <wb:value>153168949208.207</wb:value>\\r\\n    <wb:unit />\\r\\n    <wb:obs_status />\\r\\n    <wb:decimal>0</wb:decimal>\\r\\n  </wb:data>\\r\\n  <wb:data>\\r\\n    <wb:indicator id=\"NY.GDP.MKTP.CD\">GDP (current US$)</wb:indicator>\\r\\n    <wb:country id=\"BR\">Brazil</wb:country>\\r\\n    <wb:countryiso3code>BRA</wb:countryiso3code>\\r\\n    <wb:date>1975</wb:date>\\r\\n    <wb:value>129203555238.827</wb:value>\\r\\n    <wb:unit />\\r\\n    <wb:obs_status />\\r\\n    <wb:decimal>0</wb:decimal>\\r\\n  </wb:data>\\r\\n  <wb:data>\\r\\n    <wb:indicator id=\"NY.GDP.MKTP.CD\">GDP (current US$)</wb:indicator>\\r\\n    <wb:country id=\"BR\">Brazil</wb:country>\\r\\n    <wb:countryiso3code>BRA</wb:countryiso3code>\\r\\n    <wb:date>1974</wb:date>\\r\\n    <wb:value>109794519727.538</wb:value>\\r\\n    <wb:unit />\\r\\n    <wb:obs_status />\\r\\n    <wb:decimal>0</wb:decimal>\\r\\n  </wb:data>\\r\\n  <wb:data>\\r\\n    <wb:indicator id=\"NY.GDP.MKTP.CD\">GDP (current US$)</wb:indicator>\\r\\n    <wb:country id=\"BR\">Brazil</wb:country>\\r\\n    <wb:countryiso3code>BRA</wb:countryiso3code>\\r\\n    <wb:date>1973</wb:date>\\r\\n    <wb:value>83592275862.9982</wb:value>\\r\\n    <wb:unit />\\r\\n    <wb:obs_status />\\r\\n    <wb:decimal>0</wb:decimal>\\r\\n  </wb:data>\\r\\n</wb:data>'"
      ]
     },
     "execution_count": 1,
     "metadata": {},
     "output_type": "execute_result"
    }
   ],
   "source": [
    "import requests\n",
    "r = requests.get('http://api.worldbank.org/v2/countries/br/indicators/NY.GDP.MKTP.CD')\n",
    "r.text"
   ]
  },
  {
   "cell_type": "markdown",
   "metadata": {},
   "source": [
    "# Explanation of Results \n",
    "\n",
    "```\n",
    "import requests\n",
    "```\n",
    "\n",
    "This line imports the requests library.\n",
    "\n",
    "```\n",
    "r = requests.get('http://api.worldbank.org/v2/countries/br/indicators/NY.GDP.MKTP.CD')\n",
    "```\n",
    "\n",
    "The line `requests.get` sends out a \"get\" request to the url specified in parenthesis. The html standard specifies different types of [request methods](https://developer.mozilla.org/en-US/docs/Web/HTTP/Methods) with the most common one being \"get\". A \"get\" request is generally reserved for obtaining data from a server. For the World Bank API, you'll only need to make \"get\" requests. An API's documentation will generally tell you what type of requests to make.\n",
    "\n",
    "The last line of code outputs the results.\n",
    "```\n",
    "r.text\n",
    "``` \n",
    "\n",
    "In this case, the output is xml data. [XML](https://www.w3schools.com/xml/xml_whatis.asp) is a language for storing and transmitting data. XML was standardized in the late 1990s. A few years later, the JSON format came along and serves a similar purpose. JSON tends to be much easier to work with and luckily, the World Bank API can return data in json format by specifying the format parameters. \n",
    "\n",
    "Next, you'll see how to send parameters with your get request."
   ]
  },
  {
   "cell_type": "markdown",
   "metadata": {},
   "source": [
    "# Sending Parameters with the Get Request\n",
    "\n",
    "This url, `http://api.worldbank.org/v2/countries/br/indicators/NY.GDP.MKTP.CD`, obtains GDP data for Brazil. You specify the country name with the [2-character ISO code](http://www.nationsonline.org/oneworld/country_code_list.htm) and then specify the economic indicator that you want, which in this case is `NY.GDP.MKTP.CD`. \n",
    "\n",
    "To see all of the possible indicators, visit the [world bank indicator dashboard](https://data.worldbank.org/indicator?tab=all) or use the API address `http://api.worldbank.org/v2/indicators`.\n",
    "\n",
    "The url syntax is specific to the World Bank API. Other APIs might be different.\n",
    "\n",
    "When making a get request, you can add parameters to the end of the url with the following syntax:\n",
    "`http://api.worldbank.org/v2/countries/br/indicators/NY.GDP.MKTP.CD?format=json&per_page=500&date=1990:2015`\n",
    "\n",
    "where a question mark was added at the end of the url following by each parameter name and parameter values. The parameters are separated by the ampersand & sign. Adding parameters to a get request with the question mark ? and ampersand is the standard way for adding parameters to a get request.\n",
    "\n",
    "With the requests library, you can send this get request in one of two ways. The first way specifies the entire url in a single string.\n",
    "\n",
    "```\n",
    "r = requests.get('http://api.worldbank.org/v2/countries/br/indicators/NY.GDP.MKTP.CD?format=json&per_page=500&date=1990:2015')\n",
    "\n",
    "```\n",
    "\n",
    "The second way separate the base url and the parameters.\n",
    "\n",
    "```\n",
    "payload = {'format': 'json', 'per_page': '500', 'date':'1990:2015'}\n",
    "r = requests.get('http://api.worldbank.org/v2/countries/br/indicators/NY.GDP.MKTP.CD', params=payload)\n",
    "```\n",
    "\n",
    "Why use the second version? It's somewhat easier to write programs with the second version because you can easily change the values in the payload dictionary whereas the first version involves manipulating the url string.\n",
    "\n",
    "Run the code cell below to show that both versions give the same results."
   ]
  },
  {
   "cell_type": "code",
   "execution_count": 2,
   "metadata": {},
   "outputs": [
    {
     "data": {
      "text/plain": [
       "True"
      ]
     },
     "execution_count": 2,
     "metadata": {},
     "output_type": "execute_result"
    }
   ],
   "source": [
    "r_url = requests.get('http://api.worldbank.org/v2/countries/br/indicators/NY.GDP.MKTP.CD?format=json&per_page=500&date=1990:2015')\n",
    "\n",
    "payload = {'format': 'json', 'per_page': '500', 'date':'1990:2015'}\n",
    "r_payload = requests.get('http://api.worldbank.org/v2/countries/br/indicators/NY.GDP.MKTP.CD', params=payload)\n",
    "\n",
    "# Test if both results are the same string\n",
    "r_url.text == r_payload.text"
   ]
  },
  {
   "cell_type": "markdown",
   "metadata": {},
   "source": [
    "# Navigating the JSON response\n",
    "\n",
    "Once you have the data, what can you do with it? The requests library comes with a json decoder. In order to obtain the json response, all you have to do is use the .json() method like so:\n",
    "\n",
    "```\n",
    "payload = {'format': 'json', 'per_page': '500', 'date':'1990:2015'}\n",
    "r = requests.get('http://api.worldbank.org/v2/countries/br/indicators/NY.GDP.MKTP.CD', params=payload)\n",
    "r.json()\n",
    "```\n",
    "\n",
    "Run the cell below to see the results:"
   ]
  },
  {
   "cell_type": "code",
   "execution_count": 3,
   "metadata": {},
   "outputs": [
    {
     "data": {
      "text/plain": [
       "[{'page': 1,\n",
       "  'pages': 1,\n",
       "  'per_page': 500,\n",
       "  'total': 26,\n",
       "  'sourceid': '2',\n",
       "  'lastupdated': '2023-07-25'},\n",
       " [{'indicator': {'id': 'NY.GDP.MKTP.CD', 'value': 'GDP (current US$)'},\n",
       "   'country': {'id': 'BR', 'value': 'Brazil'},\n",
       "   'countryiso3code': 'BRA',\n",
       "   'date': '2015',\n",
       "   'value': 1802211999555.59,\n",
       "   'unit': '',\n",
       "   'obs_status': '',\n",
       "   'decimal': 0},\n",
       "  {'indicator': {'id': 'NY.GDP.MKTP.CD', 'value': 'GDP (current US$)'},\n",
       "   'country': {'id': 'BR', 'value': 'Brazil'},\n",
       "   'countryiso3code': 'BRA',\n",
       "   'date': '2014',\n",
       "   'value': 2456043766063.5,\n",
       "   'unit': '',\n",
       "   'obs_status': '',\n",
       "   'decimal': 0},\n",
       "  {'indicator': {'id': 'NY.GDP.MKTP.CD', 'value': 'GDP (current US$)'},\n",
       "   'country': {'id': 'BR', 'value': 'Brazil'},\n",
       "   'countryiso3code': 'BRA',\n",
       "   'date': '2013',\n",
       "   'value': 2472819362259,\n",
       "   'unit': '',\n",
       "   'obs_status': '',\n",
       "   'decimal': 0},\n",
       "  {'indicator': {'id': 'NY.GDP.MKTP.CD', 'value': 'GDP (current US$)'},\n",
       "   'country': {'id': 'BR', 'value': 'Brazil'},\n",
       "   'countryiso3code': 'BRA',\n",
       "   'date': '2012',\n",
       "   'value': 2465228293862.62,\n",
       "   'unit': '',\n",
       "   'obs_status': '',\n",
       "   'decimal': 0},\n",
       "  {'indicator': {'id': 'NY.GDP.MKTP.CD', 'value': 'GDP (current US$)'},\n",
       "   'country': {'id': 'BR', 'value': 'Brazil'},\n",
       "   'countryiso3code': 'BRA',\n",
       "   'date': '2011',\n",
       "   'value': 2616156606734.51,\n",
       "   'unit': '',\n",
       "   'obs_status': '',\n",
       "   'decimal': 0},\n",
       "  {'indicator': {'id': 'NY.GDP.MKTP.CD', 'value': 'GDP (current US$)'},\n",
       "   'country': {'id': 'BR', 'value': 'Brazil'},\n",
       "   'countryiso3code': 'BRA',\n",
       "   'date': '2010',\n",
       "   'value': 2208838108593.19,\n",
       "   'unit': '',\n",
       "   'obs_status': '',\n",
       "   'decimal': 0},\n",
       "  {'indicator': {'id': 'NY.GDP.MKTP.CD', 'value': 'GDP (current US$)'},\n",
       "   'country': {'id': 'BR', 'value': 'Brazil'},\n",
       "   'countryiso3code': 'BRA',\n",
       "   'date': '2009',\n",
       "   'value': 1666996294324.76,\n",
       "   'unit': '',\n",
       "   'obs_status': '',\n",
       "   'decimal': 0},\n",
       "  {'indicator': {'id': 'NY.GDP.MKTP.CD', 'value': 'GDP (current US$)'},\n",
       "   'country': {'id': 'BR', 'value': 'Brazil'},\n",
       "   'countryiso3code': 'BRA',\n",
       "   'date': '2008',\n",
       "   'value': 1695855391816.48,\n",
       "   'unit': '',\n",
       "   'obs_status': '',\n",
       "   'decimal': 0},\n",
       "  {'indicator': {'id': 'NY.GDP.MKTP.CD', 'value': 'GDP (current US$)'},\n",
       "   'country': {'id': 'BR', 'value': 'Brazil'},\n",
       "   'countryiso3code': 'BRA',\n",
       "   'date': '2007',\n",
       "   'value': 1397114247287.58,\n",
       "   'unit': '',\n",
       "   'obs_status': '',\n",
       "   'decimal': 0},\n",
       "  {'indicator': {'id': 'NY.GDP.MKTP.CD', 'value': 'GDP (current US$)'},\n",
       "   'country': {'id': 'BR', 'value': 'Brazil'},\n",
       "   'countryiso3code': 'BRA',\n",
       "   'date': '2006',\n",
       "   'value': 1107626711436.44,\n",
       "   'unit': '',\n",
       "   'obs_status': '',\n",
       "   'decimal': 0},\n",
       "  {'indicator': {'id': 'NY.GDP.MKTP.CD', 'value': 'GDP (current US$)'},\n",
       "   'country': {'id': 'BR', 'value': 'Brazil'},\n",
       "   'countryiso3code': 'BRA',\n",
       "   'date': '2005',\n",
       "   'value': 891633826582.606,\n",
       "   'unit': '',\n",
       "   'obs_status': '',\n",
       "   'decimal': 0},\n",
       "  {'indicator': {'id': 'NY.GDP.MKTP.CD', 'value': 'GDP (current US$)'},\n",
       "   'country': {'id': 'BR', 'value': 'Brazil'},\n",
       "   'countryiso3code': 'BRA',\n",
       "   'date': '2004',\n",
       "   'value': 669289321953.683,\n",
       "   'unit': '',\n",
       "   'obs_status': '',\n",
       "   'decimal': 0},\n",
       "  {'indicator': {'id': 'NY.GDP.MKTP.CD', 'value': 'GDP (current US$)'},\n",
       "   'country': {'id': 'BR', 'value': 'Brazil'},\n",
       "   'countryiso3code': 'BRA',\n",
       "   'date': '2003',\n",
       "   'value': 558233724160.742,\n",
       "   'unit': '',\n",
       "   'obs_status': '',\n",
       "   'decimal': 0},\n",
       "  {'indicator': {'id': 'NY.GDP.MKTP.CD', 'value': 'GDP (current US$)'},\n",
       "   'country': {'id': 'BR', 'value': 'Brazil'},\n",
       "   'countryiso3code': 'BRA',\n",
       "   'date': '2002',\n",
       "   'value': 509795270707.268,\n",
       "   'unit': '',\n",
       "   'obs_status': '',\n",
       "   'decimal': 0},\n",
       "  {'indicator': {'id': 'NY.GDP.MKTP.CD', 'value': 'GDP (current US$)'},\n",
       "   'country': {'id': 'BR', 'value': 'Brazil'},\n",
       "   'countryiso3code': 'BRA',\n",
       "   'date': '2001',\n",
       "   'value': 559983704075.658,\n",
       "   'unit': '',\n",
       "   'obs_status': '',\n",
       "   'decimal': 0},\n",
       "  {'indicator': {'id': 'NY.GDP.MKTP.CD', 'value': 'GDP (current US$)'},\n",
       "   'country': {'id': 'BR', 'value': 'Brazil'},\n",
       "   'countryiso3code': 'BRA',\n",
       "   'date': '2000',\n",
       "   'value': 655448188246.11,\n",
       "   'unit': '',\n",
       "   'obs_status': '',\n",
       "   'decimal': 0},\n",
       "  {'indicator': {'id': 'NY.GDP.MKTP.CD', 'value': 'GDP (current US$)'},\n",
       "   'country': {'id': 'BR', 'value': 'Brazil'},\n",
       "   'countryiso3code': 'BRA',\n",
       "   'date': '1999',\n",
       "   'value': 599642075039.049,\n",
       "   'unit': '',\n",
       "   'obs_status': '',\n",
       "   'decimal': 0},\n",
       "  {'indicator': {'id': 'NY.GDP.MKTP.CD', 'value': 'GDP (current US$)'},\n",
       "   'country': {'id': 'BR', 'value': 'Brazil'},\n",
       "   'countryiso3code': 'BRA',\n",
       "   'date': '1998',\n",
       "   'value': 863711007338.683,\n",
       "   'unit': '',\n",
       "   'obs_status': '',\n",
       "   'decimal': 0},\n",
       "  {'indicator': {'id': 'NY.GDP.MKTP.CD', 'value': 'GDP (current US$)'},\n",
       "   'country': {'id': 'BR', 'value': 'Brazil'},\n",
       "   'countryiso3code': 'BRA',\n",
       "   'date': '1997',\n",
       "   'value': 883206452832.811,\n",
       "   'unit': '',\n",
       "   'obs_status': '',\n",
       "   'decimal': 0},\n",
       "  {'indicator': {'id': 'NY.GDP.MKTP.CD', 'value': 'GDP (current US$)'},\n",
       "   'country': {'id': 'BR', 'value': 'Brazil'},\n",
       "   'countryiso3code': 'BRA',\n",
       "   'date': '1996',\n",
       "   'value': 850426432991.742,\n",
       "   'unit': '',\n",
       "   'obs_status': '',\n",
       "   'decimal': 0},\n",
       "  {'indicator': {'id': 'NY.GDP.MKTP.CD', 'value': 'GDP (current US$)'},\n",
       "   'country': {'id': 'BR', 'value': 'Brazil'},\n",
       "   'countryiso3code': 'BRA',\n",
       "   'date': '1995',\n",
       "   'value': 769333330439.52,\n",
       "   'unit': '',\n",
       "   'obs_status': '',\n",
       "   'decimal': 0},\n",
       "  {'indicator': {'id': 'NY.GDP.MKTP.CD', 'value': 'GDP (current US$)'},\n",
       "   'country': {'id': 'BR', 'value': 'Brazil'},\n",
       "   'countryiso3code': 'BRA',\n",
       "   'date': '1994',\n",
       "   'value': 546229749726.263,\n",
       "   'unit': '',\n",
       "   'obs_status': '',\n",
       "   'decimal': 0},\n",
       "  {'indicator': {'id': 'NY.GDP.MKTP.CD', 'value': 'GDP (current US$)'},\n",
       "   'country': {'id': 'BR', 'value': 'Brazil'},\n",
       "   'countryiso3code': 'BRA',\n",
       "   'date': '1993',\n",
       "   'value': 438299504463.02,\n",
       "   'unit': '',\n",
       "   'obs_status': '',\n",
       "   'decimal': 0},\n",
       "  {'indicator': {'id': 'NY.GDP.MKTP.CD', 'value': 'GDP (current US$)'},\n",
       "   'country': {'id': 'BR', 'value': 'Brazil'},\n",
       "   'countryiso3code': 'BRA',\n",
       "   'date': '1992',\n",
       "   'value': 390566561752.671,\n",
       "   'unit': '',\n",
       "   'obs_status': '',\n",
       "   'decimal': 0},\n",
       "  {'indicator': {'id': 'NY.GDP.MKTP.CD', 'value': 'GDP (current US$)'},\n",
       "   'country': {'id': 'BR', 'value': 'Brazil'},\n",
       "   'countryiso3code': 'BRA',\n",
       "   'date': '1991',\n",
       "   'value': 407729053018.907,\n",
       "   'unit': '',\n",
       "   'obs_status': '',\n",
       "   'decimal': 0},\n",
       "  {'indicator': {'id': 'NY.GDP.MKTP.CD', 'value': 'GDP (current US$)'},\n",
       "   'country': {'id': 'BR', 'value': 'Brazil'},\n",
       "   'countryiso3code': 'BRA',\n",
       "   'date': '1990',\n",
       "   'value': 464989098144.854,\n",
       "   'unit': '',\n",
       "   'obs_status': '',\n",
       "   'decimal': 0}]]"
      ]
     },
     "execution_count": 3,
     "metadata": {},
     "output_type": "execute_result"
    }
   ],
   "source": [
    "payload = {'format': 'json', 'per_page': '500', 'date':'1990:2015'}\n",
    "r = requests.get('http://api.worldbank.org/v2/countries/br/indicators/NY.GDP.MKTP.CD', params=payload)\n",
    "r.json()"
   ]
  },
  {
   "cell_type": "markdown",
   "metadata": {},
   "source": [
    "The result is a list of json values, which you can iterate through to access all of the data. Every API will return data in a slightly different way, so you need to look at the data and figure out how to clean the data for your purposes. For example, in the json response, the first entry contains meta data about the results. The second entry is a list containing all of the data points. For the purposes of analyzing the data, you only need the second entry, which you can access with `r.json()[1]`. Run the code cells below to see an example of how to iterate through the data, clean the data, and then plot the results."
   ]
  },
  {
   "cell_type": "code",
   "execution_count": 4,
   "metadata": {},
   "outputs": [
    {
     "name": "stdout",
     "output_type": "stream",
     "text": [
      "Brazil\n",
      "[2015, 2014, 2013, 2012, 2011, 2010, 2009, 2008, 2007, 2006, 2005, 2004, 2003, 2002, 2001, 2000, 1999, 1998, 1997, 1996, 1995, 1994, 1993, 1992, 1991, 1990]\n",
      "[1802211999555.59, 2456043766063.5, 2472819362259.0, 2465228293862.62, 2616156606734.51, 2208838108593.19, 1666996294324.76, 1695855391816.48, 1397114247287.58, 1107626711436.44, 891633826582.606, 669289321953.683, 558233724160.742, 509795270707.268, 559983704075.658, 655448188246.11, 599642075039.049, 863711007338.683, 883206452832.811, 850426432991.742, 769333330439.52, 546229749726.263, 438299504463.02, 390566561752.671, 407729053018.907, 464989098144.854]\n",
      "\n",
      "\n",
      "China\n",
      "[2015, 2014, 2013, 2012, 2011, 2010, 2009, 2008, 2007, 2006, 2005, 2004, 2003, 2002, 2001, 2000, 1999, 1998, 1997, 1996, 1995, 1994, 1993, 1992, 1991, 1990]\n",
      "[11061573199439.7, 10475624783235.6, 9570470577244.86, 8532185615746.62, 7551545321799.88, 6087191720866.69, 5101691085625.95, 4594336785737.67, 3550327569655.47, 2752118542130.4, 2285961242869.55, 1955346808095.44, 1660280610709.71, 1470557565965.51, 1339400843164.88, 1211331627479.0, 1094010482677.39, 1029060706187.88, 961602019650.615, 863749314718.538, 734484863889.36, 564321876346.387, 444731282435.515, 426915712715.856, 383373318083.624, 360857912565.966]\n",
      "\n",
      "\n",
      "United States\n",
      "[2015, 2014, 2013, 2012, 2011, 2010, 2009, 2008, 2007, 2006, 2005, 2004, 2003, 2002, 2001, 2000, 1999, 1998, 1997, 1996, 1995, 1994, 1993, 1992, 1991, 1990]\n",
      "[18206020741000.0, 17550680174000.0, 16843190993000.0, 16253972230000.0, 15599728123000.0, 15048964444000.0, 14478064934000.0, 14769857911000.0, 14474226905000.0, 13815586948000.0, 13039199193000.0, 12217193198000.0, 11456442041000.0, 10929112955000.0, 10581929774000.0, 10250947997000.0, 9631174489000.0, 9062818202000.0, 8577554457000.0, 8073122000000.0, 7639749000000.0, 7287236000000.0, 6858559000000.0, 6520327000000.0, 6158129000000.0, 5963144000000.0]\n",
      "\n",
      "\n"
     ]
    }
   ],
   "source": [
    "# get the World Bank GDP data for Brazil, China and the United States\n",
    "payload = {'format': 'json', 'per_page': '500', 'date':'1990:2016'}\n",
    "r = requests.get('http://api.worldbank.org/v2/countries/br;cn;us/indicators/NY.GDP.MKTP.CD', params=payload)\n",
    "\n",
    "# put the results in a dictionary where each country contains a list of all the x values and all the y values\n",
    "# this will make it easier to plot the results\n",
    "from collections import defaultdict\n",
    "data = defaultdict(list)\n",
    "\n",
    "for entry in r.json()[1]:\n",
    "    # check if country is already in dictionary. If so, append the new x and y values to the lists\n",
    "    if data[entry['country']['value']]:\n",
    "        data[entry['country']['value']][0].append(int(entry['date']))\n",
    "        data[entry['country']['value']][1].append(float(entry['value']))       \n",
    "    else: # if country not in dictionary, then initialize the lists that will hold the x and y values\n",
    "        data[entry['country']['value']] = [[],[]] \n",
    "\n",
    "# show the results contained in the data dictionary\n",
    "for country in data:\n",
    "    print(country)\n",
    "    print(data[country][0])\n",
    "    print(data[country][1])\n",
    "    print('\\n')"
   ]
  },
  {
   "cell_type": "code",
   "execution_count": 5,
   "metadata": {},
   "outputs": [
    {
     "data": {
      "image/png": "[encoded data removed]",
      "text/plain": [
       "<matplotlib.figure.Figure at 0x7f912b7a32e8>"
      ]
     },
     "metadata": {
      "needs_background": "light"
     },
     "output_type": "display_data"
    }
   ],
   "source": [
    "# visualize the results with matplotlib\n",
    "import matplotlib.pyplot as plt\n",
    "%matplotlib inline \n",
    "\n",
    "# create a plot for each country\n",
    "for country in data:\n",
    "    plt.plot(data[country][0], data[country][1], label=country)\n",
    "\n",
    "# label the plot\n",
    "plt.title('GDP for Brazil, China, and USA 1990 to 2015')\n",
    "plt.legend()\n",
    "plt.xlabel('year')\n",
    "plt.ylabel('GDP')\n",
    "plt.show()"
   ]
  },
  {
   "cell_type": "markdown",
   "metadata": {},
   "source": [
    "# Practice\n",
    "\n",
    "Here is a practice exercise for you to try out. Go to the World Bank data website found [here](https://data.worldbank.org/indicator) and find the `Population growth (annual %)` indicator. If you click on the indicator link, you'll see the indicator symbol in the web URL (hint it starts with \"SP\").\n",
    "\n",
    "Use the requests library to find the indicator values for China and India in the years 2013, 2014 and 2015. Put the results in a dictionary in this format:\n",
    "{country_name: [[2013, 2014, 2015], [value_2013, value_2014, value_2015]]}\n"
   ]
  },
  {
   "cell_type": "code",
   "execution_count": 8,
   "metadata": {},
   "outputs": [],
   "source": [
    "payload = {'format': 'json', 'per_page': '500', 'date':'2013:2016'}\n",
    "r = requests.get('http://api.worldbank.org/v2/countries/in;cn/indicators/SP.POP.GROW', params=payload)\n",
    "\n",
    "# clean the data and put it in a dictionary\n",
    "data = defaultdict(list)\n",
    "for entry in r.json()[1]:\n",
    "    # check if country is already in dictionary. If so, append the new x and y values to the lists\n",
    "    if data[entry['country']['value']]:\n",
    "        data[entry['country']['value']][0].append(int(entry['date']))\n",
    "        data[entry['country']['value']][1].append(float(entry['value']))       \n",
    "    else: # if country not in dictionary, then initialize the lists that will hold the x and y values\n",
    "        data[entry['country']['value']] = [[],[]] "
   ]
  },
  {
   "cell_type": "code",
   "execution_count": 9,
   "metadata": {},
   "outputs": [
    {
     "name": "stdout",
     "output_type": "stream",
     "text": [
      "China\n",
      "[2015, 2014, 2013]\n",
      "[0.581456146657648, 0.630326389541893, 0.666072977690069]\n",
      "\n",
      "\n",
      "India\n",
      "[2015, 2014, 2013]\n",
      "[1.18779532005068, 1.24036218382689, 1.29754883539168]\n",
      "\n",
      "\n"
     ]
    }
   ],
   "source": [
    "# show the results contained in the data dictionary\n",
    "for country in data:\n",
    "    print(country)\n",
    "    print(data[country][0])\n",
    "    print(data[country][1])\n",
    "    print('\\n')"
   ]
  },
  {
   "cell_type": "code",
   "execution_count": 12,
   "metadata": {},
   "outputs": [
    {
     "data": {
      "image/png": "[encoded data removed]",
      "text/plain": [
       "<matplotlib.figure.Figure at 0x7f90fd4d6e48>"
      ]
     },
     "metadata": {
      "needs_background": "light"
     },
     "output_type": "display_data"
    }
   ],
   "source": [
    "# visualize the results with matplotlib\n",
    "import matplotlib.pyplot as plt\n",
    "%matplotlib inline \n",
    "\n",
    "# create a plot for each country\n",
    "for country in data:\n",
    "    plt.plot(data[country][0], data[country][1], label=country)\n",
    "\n",
    "# label the plot\n",
    "plt.title('Population growth (annual %) for china and India from 2013 to 2015')\n",
    "plt.legend()\n",
    "plt.xlabel('year')\n",
    "plt.ylabel('Population')\n",
    "plt.show()"
   ]
  },
  {
   "cell_type": "markdown",
   "metadata": {},
   "source": [
    "If you did it correctly, you should get a dictionary with the following values:"
   ]
  },
  {
   "cell_type": "markdown",
   "metadata": {},
   "source": [
    "```\n",
    "{'China': [[2015, 2014, 2013],\n",
    "[0.508136747291937, 0.506311591779847, 0.49370963351136]],\n",
    "'India': [[2015, 2014, 2013],\n",
    "[1.16752707459156, 1.18932821143382, 1.21941894433091]]})\n",
    "```"
   ]
  },
  {
   "cell_type": "markdown",
   "metadata": {},
   "source": [
    "For a solution, go to the file menu in the workspace, click open, and choose the 'api_solution.py' file."
   ]
  },
  {
   "cell_type": "markdown",
   "metadata": {},
   "source": [
    "# Authentication\n",
    "\n",
    "The World Bank API does not require authentication; however, many API do require some sort of user authentication with a username and password that you need to send along with your request. The requests documentation gives the [basics of how to use authentication](http://docs.python-requests.org/en/master/user/authentication/) when sending a request.\n",
    "\n",
    "The Twitter API, for example, requires you to set up credentials. \n",
    "But before you get bogged down by the Twitter API documentation and authentication protocols, you might want to do an internet search for Python twitter libraries. Oftentimes, for the APIs of the big internet companies, someone has [built a library](https://developer.twitter.com/en/docs/developer-utilities/twitter-libraries.html) that makes it much easier to use the API."
   ]
  },
  {
   "cell_type": "code",
   "execution_count": null,
   "metadata": {},
   "outputs": [],
   "source": []
  }
 ],
 "metadata": {
  "kernelspec": {
   "display_name": "Python 3",
   "language": "python",
   "name": "python3"
  },
  "language_info": {
   "codemirror_mode": {
    "name": "ipython",
    "version": 3
   },
   "file_extension": ".py",
   "mimetype": "text/x-python",
   "name": "python",
   "nbconvert_exporter": "python",
   "pygments_lexer": "ipython3",
   "version": "3.6.3"
  }
 },
 "nbformat": 4,
 "nbformat_minor": 2
}
